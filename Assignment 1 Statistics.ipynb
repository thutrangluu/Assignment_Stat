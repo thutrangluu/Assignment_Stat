{
 "cells": [
  {
   "cell_type": "markdown",
   "id": "546ff990",
   "metadata": {},
   "source": [
    "Group 09: Luu Thu Trang (2695303) and Raminta Povilaityte (2692655)"
   ]
  },
  {
   "cell_type": "markdown",
   "id": "c3f06b29",
   "metadata": {},
   "source": [
    "# Checklist:\n",
    "- Prepare your submission using this template;\n",
    "- Fill out the group number, member names and student IDs above;\n",
    "- Adjust assignement number above;\n",
    "- Type up your answers below using Latex and/or Python as exemplified;\n",
    "- Don't add the text of the question below, only your answers;\n",
    "- To create a PDF of your submission go to [File] > [Download as] > [PDF via LaTeX (.pdf)];\n",
    "- Delete this cell before creating the PDF."
   ]
  },
  {
   "cell_type": "markdown",
   "id": "956756ec",
   "metadata": {},
   "source": [
    "# Exercise 1"
   ]
  },
  {
   "cell_type": "markdown",
   "id": "c5f9fab1",
   "metadata": {},
   "source": [
    "## (a)\n",
    "To compute Bias of $\\hat\\lambda$ and $\\tilde\\lambda$ we use the following formula: \n",
    "$$\n",
    "Bias(\\hat{\\theta}) = {E}(\\hat{\\theta}) -  \\theta\n",
    "$$\n",
    "To apply this formula we first find ${E}(\\hat{\\lambda})$ for $\\hat{\\lambda}$ : \n",
    "$$\n",
    "{E}(\\hat{\\lambda}) = {E}(\\frac{(\\overline{X})^2}{9}) = \\frac{1}{9}{E}((\\overline{X})^2) = \\frac{1}{9}{E}(X)^2  =  \\frac{1}{9} (3\\sqrt{\\lambda})^2 = \\lambda\n",
    "$$\n",
    "We plug in the above expectation of $\\hat{\\lambda}$ in Bias formula to find :\n",
    "$$\n",
    "Bias(\\hat{\\lambda}) = {E}(\\hat{\\lambda}) -  \\lambda =  \\lambda -  \\lambda = 0\n",
    "$$\n",
    "We can conclude that $\\hat{\\lambda}$ is an unbiased estimator of $\\lambda$"
   ]
  },
  {
   "cell_type": "markdown",
   "id": "24b2798d",
   "metadata": {},
   "source": [
    "## (b)\n",
    "Continue using the formula from (a), we have:\n",
    "$$\n",
    "{E}(\\tilde{\\lambda}) = {E}(\\frac{\\sum_{i=1}^n({X_i})^2}{12n}) = \\frac{1}{12n}{E}(\\sum_{i=1}^n({X_i})^2) \n",
    "= \\frac{1}{12n}({E}(X_1)^2 + ... + {E}(X_n)^2) \n",
    "=  \\frac{1}{12n} \\times 12\\lambda n = \\lambda\n",
    "$$\n",
    "We plug in the above expectation of $\\hat{\\lambda}$ in Bias formula to find :\n",
    "$$\n",
    "Bias(\\tilde{\\lambda}) = {E}(\\tilde{\\lambda}) -  \\lambda =  \\lambda -  \\lambda = 0\n",
    "$$\n",
    "We can conclude that $\\tilde{\\lambda}$ is an unbiased estimator of $\\lambda$"
   ]
  },
  {
   "cell_type": "markdown",
   "id": "83d0110a",
   "metadata": {},
   "source": [
    "## (c)\n",
    "Suppose that: \n",
    "$${V}(\\hat{\\lambda})=\\frac{2\\lambda^2}{n}\n",
    "$$\n",
    "Then we compute the MSE (Mean Squared Error) for $\\hat{\\lambda}$ using the MSE formula:\n",
    "\n",
    "$$ MSE_\\hat{\\lambda}(\\lambda) = Bias(\\hat{\\lambda})^2 + {V}(\\hat{\\lambda})\n",
    "$$\n",
    "\n",
    "By using the fact that $\\hat{\\lambda}$ is an unbiased estimator from part a) and plugging in the given expression for $ {V}(\\hat{\\lambda})$ we find $MSE_\\hat{\\lambda}(\\lambda)$ to be the following : \n",
    "$$ MSE_\\hat{\\lambda}(\\lambda) = 0^2 + \\frac{2\\lambda^2}{n} = \\frac{2\\lambda^2}{n}\n",
    "$$\n"
   ]
  },
  {
   "cell_type": "markdown",
   "id": "0a5adc57",
   "metadata": {},
   "source": [
    "## (d)\n",
    "To calculate the $MSE_{\\tilde{\\lambda}}(\\lambda)$, we use the formula from (c).\n",
    "\n",
    "We will first calculate $Var(\\lambda) = {V}_{\\lambda}(\\tilde{\\lambda})$. \n",
    "$$\n",
    "{V}_{\\lambda}(\\tilde{\\lambda}) = {V}(\\frac{\\sum_{i=1}^n({X_i})^2}{12n})\n",
    "$$\n",
    "$$\n",
    "= (\\frac{1}{12n})^2({V}(X_1)^2 + ... +{V}(X_n)^2) \n",
    "= (\\frac{1}{12n})^2\\times n{V}(X)^2\n",
    "$$\n",
    "$$\n",
    "=\\frac{1}{12^2n}\\times ({E}X^4 - ({E}X^2)^2)\n",
    "=\\frac{1}{12^2n}\\times (360\\lambda^2 - (12\\lambda)^2)\n",
    "$$\n",
    "$$\n",
    "=\\frac{1}{12^2n}\\times (360\\lambda^2 - 144\\lambda^2)\n",
    "=\\frac{216\\lambda^2}{144n} = \\frac{3\\lambda^2}{2n}\n",
    "$$\n",
    "\n",
    "Then,\n",
    "$$MSE_{\\tilde{\\lambda}}(\\lambda) = 0 + \\frac{3\\lambda^2}{2n} = \\frac{3\\lambda^2}{2n}$$"
   ]
  },
  {
   "cell_type": "markdown",
   "id": "9511aa63",
   "metadata": {},
   "source": [
    "## (e)"
   ]
  },
  {
   "cell_type": "code",
   "execution_count": 4,
   "id": "c1f1bd43",
   "metadata": {
    "scrolled": true
   },
   "outputs": [
    {
     "data": {
      "image/png": "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\n",
      "text/plain": [
       "<Figure size 432x288 with 1 Axes>"
      ]
     },
     "metadata": {
      "needs_background": "light"
     },
     "output_type": "display_data"
    }
   ],
   "source": [
    "# assume data was generated with given pdf and \\lambda = 1\n",
    "# then we plot MSE's for both \\tilde{\\lambda} and \\hat{\\lambda} for n from 1 to 20.\n",
    "\n",
    "import numpy as np\n",
    "import matplotlib.pyplot as plt\n",
    "lamda = 1\n",
    "n = np.linspace(1,20,2000)\n",
    "mseHat = (2*(lamda**2))/n\n",
    "mseTilde = (3/2*(lamda**2))/n\n",
    "plt.xlabel('Sample size')\n",
    "plt.xticks(np.arange(min(n), max(n)+1, 1.0))\n",
    "plt.ylabel('Mean squared error')\n",
    "plt.title(r'MSE comparison of 2 $\\lambda$ estimators')\n",
    "plt.plot(n, mseHat, label= r'Mse of $\\hat{\\lambda}$')\n",
    "plt.plot(n, mseTilde, label= r'Mse of $\\tilde{\\lambda}$')\n",
    "plt.legend() \n",
    "plt.grid() \n",
    "plt.show()"
   ]
  },
  {
   "cell_type": "markdown",
   "id": "0a9b1865",
   "metadata": {},
   "source": [
    "Based on the plot we would prefer $\\hat{\\lambda}$ as it has lower MSE compare to $\\tilde{\\lambda}$ "
   ]
  },
  {
   "cell_type": "markdown",
   "id": "ef136b9a",
   "metadata": {},
   "source": [
    "## (f)\n",
    "Base on the two MSE, we can say that $\\tilde{\\lambda}$ is a better estimator for $\\lambda$ as its MSE is smaller.\n",
    "\n",
    "This is because both MSEs have a similar factor, $\\frac{\\lambda^2}{n}$ and the coefficient $\\frac{3}{2} < 2$."
   ]
  },
  {
   "cell_type": "markdown",
   "id": "9b7f50fb",
   "metadata": {},
   "source": [
    "# Exercise 2"
   ]
  },
  {
   "cell_type": "markdown",
   "id": "18b647bc",
   "metadata": {},
   "source": [
    "## (a)\n",
    "To compute Maximum Likelihood Estimator (MLE) for $\\beta$ we first find the likelihood function (pdf of the sample) as follows:\n",
    "\n",
    "$$ \n",
    "{L} (\\beta ; X_1, ... , X_n) = \\beta e ^{-\\beta x_1} \\cdot \\beta e ^{-\\beta x_2} \\cdot ... \\cdot \\beta e ^{-\\beta x_n} = \\beta^{n} e ^{-\\beta \\sum_{i=1}^{ n}x_i} = \\beta^{n} e ^{-\\beta n \\overline{X}} \n",
    "$$\n",
    "\n",
    "Then we find a log-likelihood function : \n",
    "\n",
    "$$ \n",
    "{l} (\\beta ; X_1, ... , X_n) = n \\log{\\beta} - \\beta n \\overline{X}\n",
    "$$\n",
    "\n",
    "To find an MLE($\\beta$) we take the derivative of log-likelihood in terms of $\\beta$ :\n",
    "\n",
    "$$ \n",
    "\\frac {\\partial{l}}{\\partial{\\beta}}  = \\frac {n}{\\beta} - n \\overline{X} = 0\n",
    "$$\n",
    "\n",
    "Find MLE we solve the above equation for $\\beta$ to find: \n",
    "\n",
    "$$\n",
    "\\beta = \\frac{n}{n\\overline{X}} = \\frac{1}{\\overline{X}} = \\hat{\\beta}\n",
    "$$\n",
    "\n",
    "where $\\hat{\\beta}$ is the MLE of $\\beta$."
   ]
  },
  {
   "cell_type": "markdown",
   "id": "29c1855d",
   "metadata": {},
   "source": [
    "## (b)\n",
    "To calculate the Method of Moments Estimator for $\\beta$ based on the first moment of $X$. We first calculate the first moment of $X$. This is exactly the expectation of X.\n",
    "$$\n",
    "{E}X = \\frac{1}{\\beta} = g_1(\\beta)\n",
    "$$\n",
    "\n",
    "Now we solve the equation: $$\\overline{X} = g_1(\\tilde{\\beta})\\leftrightarrow \\overline{X} = \\frac{1}{\\tilde{\\beta}}\\leftrightarrow \\tilde{\\beta} = \\frac{1}{\\overline{X}}$$\n",
    "\n",
    "So $\\tilde{\\beta} = \\frac{1}{\\overline{X}}$ is a MM estimator for $\\beta$ based on the first moment of $X$"
   ]
  },
  {
   "cell_type": "markdown",
   "id": "d8195628",
   "metadata": {},
   "source": [
    "## (c)\n",
    "Second moment of X is found as follows: \n",
    "$$\n",
    "{E}X^2 = {V}(X)+({E}(X))^2 = \\frac{1}{\\beta^2} + \\frac{1}{\\beta^2} = \\frac{2}{\\beta^2}\n",
    "$$\n",
    "We solve: \n",
    "$$ \\overline{X^2} = \\frac{2}{\\beta^2}   \\leftrightarrow  \n",
    "\\beta^2 = \\frac{2}{\\overline{X^2}}    \\leftrightarrow $$ <br>\n",
    "$$\n",
    "\\check{\\beta} = \\sqrt{\\frac{2}{\\overline{X^2}}}\n",
    "$$ \n",
    "where $\\tilde{\\beta}$ is the MME for $\\beta$ based on the second moment of $X$ "
   ]
  },
  {
   "cell_type": "markdown",
   "id": "dca15749",
   "metadata": {},
   "source": [
    "# Exercise 3"
   ]
  },
  {
   "cell_type": "markdown",
   "id": "ed79d3a7",
   "metadata": {},
   "source": [
    "## (a)\n",
    "We know that the prior on $p$ has a $Beta(2,3)$ distribution. \n",
    "\n",
    "$Beta$ distribution has the following probability density function:\n",
    "$$ f_X(t) = \\frac{t^{\\alpha -1}(1-t)^{\\beta - 1}}{B(\\alpha,\\beta)}$$\n",
    "\n",
    "Then,\n",
    "$$\n",
    "\\pi(p)\\propto \\frac{p^{\\alpha -1}(1-p)^{\\beta - 1}}{B(\\alpha,\\beta)}\n",
    "$$\n",
    "\n",
    "$$\n",
    "\\pi(p)\\propto p^{2 -1}(1-p)^{2 - 1} = p(1-p)^2\n",
    "$$\n",
    "\n",
    "To find the mode of the prior, we use the following formula:\n",
    "\n",
    "Mode of a $Beta(\\alpha,\\beta)$ distribution is $\\frac{\\alpha -1}{\\alpha + \\beta -2}$\n",
    "\n",
    "So the most likely value of $p$ is:\n",
    "\n",
    "$$\\frac{2 -1}{2 + 3 - 2} = \\frac{1}{3}$$\n",
    "\n"
   ]
  },
  {
   "cell_type": "markdown",
   "id": "202e0122",
   "metadata": {},
   "source": [
    "## (b)\n",
    "\n",
    "We are given the sample size $n = 20$ with $x = 13$ successes and $n-x = 7$ failures.\n",
    "\n",
    "$$\n",
    "\\pi(p|X) = \\frac{f_p(x) \\cdot \\pi(p)}{f(x)} \\propto f_p(x) \\cdot \\pi(p) \n",
    "$$\n",
    "\n",
    "$$\n",
    "f_p(x) \\cdot \\pi(p) = p(p-1)^2 \\cdot {n \\choose x} p^x(1-p)^{n-x}\\propto p(p-1)^2 \\cdot p^x(1-p)^{n-x} = p^{x+1}(1-p)^{n-x+2}\n",
    "$$\n",
    "\n",
    "The latter expression suggests that the posterior $\\pi(p|X)$ would be $Beta(\\alpha, \\beta)$ distribution. Next we find the posterior parameters:\n",
    "\n",
    "$$\n",
    "\\alpha -1 = x + 1 \\leftrightarrow \\boldsymbol{\\alpha = x + 2}\n",
    "$$\n",
    "\n",
    "$$\n",
    "\\beta - 1 = n - x + 2 \\leftrightarrow \\boldsymbol{\\beta = n - x + 3}\n",
    "$$\n",
    "\n",
    "Therefore we find the posterior distribution with plugged in values for $n$ and $x$ to be the following:\n",
    "\n",
    "$$\n",
    "\\pi(p|X) \\sim Beta(x + 2,n - x + 3) = Beta (15, 10)\n",
    "$$\n"
   ]
  },
  {
   "cell_type": "markdown",
   "id": "85720670",
   "metadata": {},
   "source": [
    "## (c)"
   ]
  },
  {
   "cell_type": "code",
   "id": "a453c5d4",
   "metadata": {},
   "outputs": [
    {
     "data": {
      "text/plain": [
       "<Figure size 504x504 with 1 Axes>"
      ]
     },
     "metadata": {
      "needs_background": "light"
     },
     "output_type": "display_data"
    }
   ],
   "source": [
    "import numpy as np\n",
    "import matplotlib.pyplot as plt\n",
    "import matplotlib.mlab as mlab\n",
    "# Set the shape paremeters\n",
    "a, b = 2, 3\n",
    "# Generate the value between\n",
    "p1 = np.random.beta(a,b,200000)\n",
    "\n",
    "plt.figure(figsize=(7,7))\n",
    "bins = np.linspace(0,1,2000)\n",
    "plt.hist(p1, bins = bins)\n",
    "plt.title('Prior $Beta(2,3)$ distribution', fontsize='15')\n",
    "plt.xlabel('Values of Random Variable p', fontsize='12')\n",
    "plt.ylabel('Density', fontsize='12')\n",
    "plt.axvline(p1.mean(), color='r', linestyle='dashed', linewidth=1)\n",
    "plt.show()"
   ]
  },
  {
   "cell_type": "code",
   "id": "601adfa4",
   "metadata": {},
   "outputs": [
    {
     "data": {
      "text/plain": [
       "<Figure size 504x504 with 1 Axes>"
      ]
     },
     "metadata": {
      "needs_background": "light"
     },
     "output_type": "display_data"
    }
   ],
   "source": [
    "import numpy as np\n",
    "import matplotlib.pyplot as plt\n",
    "\n",
    "# Set the shape paremeters\n",
    "a, b = 15, 10\n",
    "# Generate the value between\n",
    "p2 = np.random.beta(a,b,200000)\n",
    "\n",
    "plt.figure(figsize=(7,7))\n",
    "bins = np.linspace(0,1,2000)\n",
    "plt.hist(p2, bins = bins)\n",
    "plt.title('Posterior $Beta(15,10)$ distribution', fontsize='15')\n",
    "plt.xlabel('Values of Random Variable p', fontsize='12')\n",
    "plt.ylabel('Density', fontsize='12')\n",
    "plt.axvline(p2.mean(), color='r', linestyle='dashed', linewidth=1)\n",
    "plt.show()"
   ]
  },
  {
   "cell_type": "markdown",
   "id": "1740e745",
   "metadata": {},
   "source": [
    "## (d)\n",
    "\n",
    "In order to compare the prior and posterior distributions in terms of location and dispersion (spread), we use parameters:<br>\n",
    " <center>**mean** to signify the location;<br>\n",
    "**visual analysis** for the skewness;<br>\n",
    "**stDev** to quantify the spread of the distributions.</center> "
   ]
  },
  {
   "cell_type": "code",
   "id": "b98b1e21",
   "metadata": {},
   "outputs": [
    {
     "name": "stdout",
     "output_type": "stream",
     "text": [
      "Prior Beta(2,3) distribution estimates p = 0.3998\n",
     ]
    }
   ],
   "source": [
    "pPrior= p1.mean()\n",
    "pPost = p2.mean()\n",
    "print(r'Prior Beta(2,3) distribution estimates p = %.4f'% pPrior)\n",
    "print(r'Posterior Beta(15,10) distribution estimates p = %.4f'% pPost)"
   ]
  },
  {
   "cell_type": "markdown",
   "id": "515da6c7",
   "metadata": {},
   "source": [
    "So we find that the **mean of prior is 2/3 that of the posterior**. <br>\n",
    "<br>\n",
    "From visual inspection of the plots we can state that the **prior distribution presents with some positive skewness**, whilst the **posterior is centered around the mean**. Additionally we can see that prior distribution seems to have a larger spread. This can be quantified by contrasting the standard deviation parameters of both distributions: "
   ]
  },
  {
   "cell_type": "code",
   "id": "f7c13a21",
   "metadata": {},
   "outputs": [
    {
     "name": "stdout",
     "output_type": "stream",
     "text": [
      "Prior Beta(2,3) distribution StDev = 0.2000\n",
      "Posterior Beta(15,4) distribution StDev = 0.0960\n"
     ]
    }
   ],
   "source": [
    "priorStD = np.std(p1)\n",
    "postStD = np.std(p2)\n",
    "print(r'Prior Beta(2,3) distribution StDev = %.4f'% priorStD)\n",
    "print(r'Posterior Beta(15,4) distribution StDev = %.4f'% postStD)"
   ]
  },
  {
   "cell_type": "markdown",
   "id": "d0f7acf9",
   "metadata": {},
   "source": [
    "Where we find the prior distribution to have more than twice as large spread as the posterior."
   ]
  }
 ],
 "metadata": {
  "kernelspec": {
   "display_name": "Python 3",
   "language": "python",
   "name": "python3"
  },
  "language_info": {
   "codemirror_mode": {
    "name": "ipython",
    "version": 3
   },
   "file_extension": ".py",
   "mimetype": "text/x-python",
   "name": "python",
   "nbconvert_exporter": "python",
   "pygments_lexer": "ipython3",
   "version": "3.8.8"
  }
 },
 "nbformat": 4,
 "nbformat_minor": 5
}
