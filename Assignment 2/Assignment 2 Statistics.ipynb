{
 "cells": [
  {
   "cell_type": "markdown",
   "id": "7ff72c73",
   "metadata": {},
   "source": [

    "Group 25: Luu Thu Trang (2695303) and Raminta Povilaityte (2692655)"

   ]
  },
  {
   "cell_type": "markdown",
   "id": "ea72f90e",
   "metadata": {},
   "source": [
    "# Exercise 1"
   ]
  },
  {
   "cell_type": "markdown",
   "id": "b461ba87",
   "metadata": {},
   "source": [
    "## (a)"
   ]
  },
  {
   "cell_type": "code",

   "execution_count": 46,

   "metadata": {},
   "outputs": [
    {
     "data": {
      "image/png": "[encoded data removed]",
      "text/plain": [
       "<Figure size 504x504 with 1 Axes>"
      ]
     },
     "metadata": {
      "needs_background": "light"
     },
     "output_type": "display_data"
    }
   ],
   "source": [
    "import numpy as np\n",
    "import matplotlib.pyplot as plt\n",
    "from scipy.stats import t\n",
    "import math\n",
    "\n",
    "prices = [301.20, 238.82, 252.79, 212.17, 325.43, 245.92, 200.08, 307.88, 193.33, 232.56,\n",
    "243.39, 162.40, 226.75, 231.37, 208.21, 226.49, 297.49, 252.77, 289.41, 283.34,\n",
    "265.80, 280.76, 240.61, 287.22, 216.95, 264.74, 232.78, 204.10, 227.01, 231.31]\n",
    "\n",
    "plt.figure(figsize=(7,7))\n",
    "\n",
    "plt.hist(prices, bins = round((max(prices)-min(prices)) / (0.7*len(prices))))\n",
    "\n",
    "plt.title('Histogram data goat selling price', fontsize='15')\n",
    "plt.xlabel('Prices (in euros)', fontsize='12')\n",
    "plt.ylabel('Data', fontsize='12')\n",
    "\n",
    "plt.show()"
   ]
  },
  {
   "cell_type": "markdown",
   "id": "5873f31f",
   "metadata": {},
   "source": [
    "The histogram is not symmetric around the mean. And it is not flat around the 2 tails. However we also do not have enough data and information to derive a named distribution for the goat price, so we treat the goat price given as a random sample follows some distribution $F$.\n",
    "\n",
    "So $X_1,...,X_n$ is iid like $X \\sim F$."
   ]
  },
  {
   "cell_type": "markdown",
   "id": "b55a1180",
   "metadata": {},
   "source": [
    "## (b)"
   ]
  },
  {
   "cell_type": "markdown",
   "id": "89340038",
   "metadata": {},
   "source": [
    "Let $F$ has $EX = \\mu$ and $VX = \\sigma^2 $\n",
    "\n",
    "By the LNN we know that\n",
    "$$\\hat{\\mu} = \\bar{X} \\overset{p}{\\to} E{X} = \\mu$$\n",
    "\n",
    "By the CLT we have the following:\n",
    "\n",
    "$$ \n",
    "\\sqrt{n}\\cdot \\frac{(\\bar{X}-\\mu)}{\\sigma} \\approx N(0,1)\n",
    "$$\n",
    "\n",
    "These two properties hold for **any** distribution. Therefore, we can use it to derive an approximate pivot for the expextaion of the price of one goat, even if the distribution $F$ is unknown.\n",
    "\n",
    "In this case, we don't know $\\sigma^2$, so we use an estimate for it. That is the sample variance\n",
    "$S^2 = \\frac{\\sum_{i=1}^{n} (x_i - \\bar{x})^2}{n-1}$\n",
    "\n",
    "Then the pivot is $T = \\sqrt{n}\\cdot \\frac{(\\bar{X}-\\mu)}{S} \\approx t_{n-1}$"
   ]
  },
  {
   "cell_type": "markdown",
   "id": "fb1ca6e0",
   "metadata": {},
   "source": [
    "## (c)"
   ]
  },
  {
   "cell_type": "markdown",
   "id": "585b839f",
   "metadata": {},
   "source": [
    "$$ \n",
    "P(t_{n-1;0,025} \\leq T \\leq t_{n-1,0.975}) = 0.95\n",
    "$$\n",
    "$$\n",
    "= P(t_{n-1;0,025} \\leq \\sqrt{n}\\cdot \\frac{(\\bar{X}-\\mu)}{S} \\leq t_{n-1,0.975}) = 0.95\n",
    "$$\n",
    "$$\n",
    "= P(\\bar{X} - \\frac{S}{\\sqrt{n}}\\cdot t_{n-1;0,025} \\leq \\mu \\leq \\bar{X} +\\frac{S}{\\sqrt{n}}\\cdot t_{n-1;0,025}) = 0.95\n",
    "$$\n",
    "\n",
    "So the 95% confidence interval for the expectation of the price of the goat is \n",
    "$$[\\bar{X} - \\frac{S}{\\sqrt{n}}\\cdot t_{n-1;0,025},\\bar{X} +\\frac{S}{\\sqrt{n}}\\cdot t_{n-1;0,025}]$$"
   ]
  },
  {
   "cell_type": "markdown",
   "id": "69d18d86",
   "metadata": {},
   "source": [
    "## (d)"
   ]
  },
  {
   "cell_type": "code",

   "execution_count": 47,

   "metadata": {},
   "outputs": [
    {
     "name": "stdout",
     "output_type": "stream",
     "text": [
      "246.1026666666667\n",
      "CI is [168.375,323.830]\n"
     ]
    }
   ],
   "source": [
    "def confidenceInterval(data,alpha):\n",
    "    L = np.mean(data) - np.sqrt(np.var(data,ddof=1))*t.ppf(1-alpha/2,len(data)-1)\n",
    "    U = np.mean(data) + np.sqrt(np.var(data,ddof=1))*t.ppf(1-alpha/2,len(data)-1)\n",
    "    return (\"CI is [{:.3f},{:.3f}]\".format(L,U))\n",
    "\n",
    "sample_mean = np.mean(prices)\n",
    "CI = confidenceInterval(prices,0.05)\n",
    "print (sample_mean)\n",
    "print (CI)\n"
   ]
  },
  {
   "cell_type": "markdown",
   "id": "ccfee402",
   "metadata": {},
   "source": [

    "## (e)"

   ]
  },
  {
   "cell_type": "markdown",
   "id": "eee9fa2b",
   "metadata": {},
   "source": [
    "The confidence interval is $$ [168.375,323.830] $$ It is correct to say that\n",
    "the expectation of the price of one goat belongs to this interval with probability 0.95. Because the interval says that we are 95% confident that the real expected goat price lies betweeen the 2 bounds of the interval no. "
   ]
  },
  {
   "cell_type": "markdown",
   "metadata": {},
   "source": [
    "## (f)"
   ]
  },
  {
   "cell_type": "code",

   "execution_count": 48,

   "metadata": {},
   "outputs": [
    {
     "name": "stdout",
     "output_type": "stream",
     "text": [

      "The number of goats we can buy is 12\n"

     ]
    }
   ],
   "source": [

    "U = np.mean(prices) + np.sqrt(np.var(prices,ddof=1))*t.ppf(1-0.05/2,len(prices)-1)\n",
    "number_of_goats = math.floor(4000/U) \n",
    "print(\"The number of goats we can buy is\", number_of_goats)"

   ]
  },
  {
   "cell_type": "markdown",
   "id": "5ec5be6e",
   "metadata": {},
   "source": [
    "# Exercise 2"
   ]
  },
  {
   "cell_type": "markdown",
   "id": "e2128f37",
   "metadata": {},
   "source": [
    "## (a)\n",
    "\n",
    "Suppose that you can think of the number of rotten oranges in a given bag as a random sample\n",
    "of size 12 from some population of oranges where an orange is rotten with some (unknown)\n",
    "probability p. If Xi represents the number of rotten oranges in the i-th bag, then what is the\n",
    "distribution of Xi?"
   ]
  },
  {
   "cell_type": "markdown",
   "id": "dad54998",
   "metadata": {},
   "source": [
    "The distribution of $X_i$ could be best expressed as: $\\quad \\quad Hypergeom(N,N*p,12)$<br>\n",
    "<i>where:</i><br> <b>N</b> - \"population\" of oranges<br>\n",
    "    <b>N*p</b> - number of oranges of the \"population\" that are rotten <br>\n",
    "      <b>p</b> - probability of finding a rotten orange from its \"population\"<br>\n",
    "      <b>12</b> - we sample 12 oranges per bag.</center> <br>\n",
    "      <br>\n",
    "However, since the overall orange \"population\" is assumed to be <b>very large comparing to the sample size of 12</b> oranges and since, from given data we can tell that p is not very close to neither 0 nor 1, then we can approximate that:<br>\n",
    "           $$Hypergeom(N,N*p,12) \\approx  Bin(12, p) $$ Thus we conclude that :  \n",
    "           $$\\quad X_i \\sim Bin(12, p) $$ \n",
    "       "
   ]
  },
  {
   "cell_type": "markdown",
   "id": "e22e894d",
   "metadata": {},
   "source": [
    "## (b)\n",
    "\n",
    "Suppose that you would find it acceptable to get on average 1 rotten orange per bag. How\n",
    "would you pick p0 in a null hypothesis of the type H0 : p = p0 to reflect this?"
   ]
  },
  {
   "cell_type": "markdown",
   "id": "2a9905f0",
   "metadata": {},
   "source": [
    "Suppose we expect on average 1 rotten orange per bag i : $$E(X_i) = 1$$  <br>\n",
    "Using Binomial distribution expectation formula: $$E(X_i)= n*p$$ \n",
    "We get the following expression : $$E(X_i)= 12*p= 1$$\n",
    "Solving the later expression for p we get $$p=p_0 = \\frac{1}{12}$$\n",
    "Therefore null hypothesis for this test: $$ H_0 : p=\\frac{1}{12}$$"
   ]
  },
  {
   "cell_type": "markdown",
   "id": "8b38f666",
   "metadata": {},
   "source": [
    "## (c)\n",
    "\n",
    "Which alternative hypothesis would you pick so that if you reject the null from (b) you can\n",
    "conclude that (at a certain significance level) there is, on average, more that one rotten orange\n",
    "per bag of 12?"
   ]
  },
  {
   "cell_type": "markdown",
   "id": "67895675",
   "metadata": {},
   "source": [
    "Since we want to establish whether on average there's more than one rotten orange per bag, we must establish an alternative hypotesis to check whether the probability of finding the rotten fruit is indeed larger than that, which would result with an acceptable average of 1 rotten fruit per bag. Therefore, an appropriate alterative hypothesis for this statistical test is:\n",
    "$$H_1: p>\\frac{1}{12}$$"
   ]
  },
  {
   "cell_type": "markdown",
   "id": "f2d6ccf6",
   "metadata": {},
   "source": [
    "## (d)\n",
    "\n",
    "Suppose that you use the following rejection rule; you reject H0 at significance level α if\n",
    "T =\n",
    "Xn\n",
    "i=1\n",
    "Xi > Cα,\n",
    "where Cα is some appropriately chosen critical value. (n = 10 here.) What is the distribution\n",
    "of T under the null hypothesis from (b)?\n"
   ]
  },
  {
   "cell_type": "markdown",
   "id": "974c9cbd",
   "metadata": {},
   "source": [
    "Given the rejection rule for null hypothesis is:\n",
    "$$ T = \\sum_{i=1}^{n} X_i\\ > C_\\alpha$$ \n",
    "It is known that the sum of independent, identicaly distributed binomial random variables is binomially distributed: \n",
    "$$ X_1+X_2+...+X_n \\sim Bin(n*12, p)$$\n",
    "in our case n = 10, therefore we find T distribution to be: \n",
    "$$T \\sim Bin(10*12, p) = Bin(120,p)$$"
   ]
  },
  {
   "cell_type": "markdown",
   "id": "5fd89ee7",
   "metadata": {},
   "source": [
    "## (e)"
   ]
  },
  {
   "cell_type": "code",

   "execution_count": 49,

   "metadata": {
    "scrolled": false
   },
   "outputs": [
    {
     "name": "stdout",
     "output_type": "stream",
     "text": [
      "The critical value is 15.0\n",
      "Data statistic T= 11\n"
     ]
    }
   ],
   "source": [
    "from scipy.stats import binom\n",
    "from scipy.stats import norm\n",
    "import numpy as np\n",
    "\n",
    "def criticalValue (p,alpha,n):\n",
    "    c = binom.ppf(1-alpha,n*12, p)\n",
    "    return c\n",
    "\n",
    "c = criticalValue(1/12, 0.05, 10)\n",
    "data = [0, 1, 1, 2, 1, 2, 1, 0, 2, 1]\n",
    "\n",
    "T = sum(data)\n",
    "print (\"The critical value is\", np.round(c))\n",
    "print('Data statistic T=', T)"
   ]
  },
  {
   "cell_type": "markdown",
   "id": "1a34227a",
   "metadata": {},
   "source": [
    "According to the decision rule we reject the null, if the following holds: $$ T = \\sum_{i=1}^{n} X_i\\ > C_\\alpha$$  With $\\alpha = 0.05$ and $n=10$ computed parameters: $C_{0.05} = 15 \\quad and \\quad T = \\sum_{i=1}^{10} X_i\\ = 11 \\quad$ inequality is not true and thus <b>we do not reject the null hypothesis</b> at significance level 0.05."
   ]
  },
  {
   "cell_type": "markdown",
   "id": "2b59d206",
   "metadata": {},
   "source": [
    "According to the decision rule we reject the null, if the following holds: $$ T = \\sum_{i=1}^{n} X_i\\ > C_\\alpha$$  With $\\alpha = 0.05$ and $n=10$ computed parameters: $C_{0.05} = 15 \\quad and \\quad T = \\sum_{i=1}^{10} X_i\\ = 11 \\quad$ inequality is not true and thus <b>we do not reject the null hypothesis</b> at significance level 0.05."
   ]
  },
  {

   "cell_type": "markdown",
   "metadata": {},
   "source": [
    "## (f)"
   ]
  },
  {
   "cell_type": "code",
   "execution_count": 50,

   "metadata": {
    "scrolled": true
   },
   "outputs": [
    {
     "data": {

      "image/png": "[encoded data removed]",

      "text/plain": [
       "<Figure size 576x360 with 1 Axes>"
      ]
     },
     "metadata": {
      "needs_background": "light"
     },
     "output_type": "display_data"
    }
   ],
   "source": [
    "def powerOfTest (n, p):\n",
    "    critical = np.round(criticalValue(1/12, 0.05, n),0)\n",
    "    index = 1\n",
    "    power = 1\n",
    "    while index <= critical:\n",
    "        power -= binom.pmf(index, n*12,p)\n",
    "        index +=1\n",
    "    return power\n",
    "\n",
    "x_1 = np.linspace(0.04,0.5,1000)\n",
    "y_1 = np.linspace(0.01,1,1000)\n",
    "alpha = np.ones(1000)*0.05\n",
    "p0 = np.ones(1000)*(1/12)\n",
    "\n",
    "plt.figure(figsize=(8,5))\n",
    "plt.plot(x_1,powerOfTest(10,x_1),label='Power n=10')\n",
    "plt.plot(x_1,powerOfTest(100,x_1),label='Power n=20')\n",
    "plt.plot(x_1, alpha, label = 'Significance level 0.05')\n",
    "plt.plot(p0, y_1, label = 'Probability under null')\n",
    "plt.title(r'Power of the test comparison with Critical value C$_\\alpha$')\n",
    "plt.xlabel('Probability to find a rotten orange (p)')\n",
    "plt.ylabel('Power of test ($\\pi$)')\n",
    "plt.legend() \n",
    "plt.show()"
   ]
  },
  {
   "cell_type": "code",

   "execution_count": 51,

   "metadata": {},
   "outputs": [
    {
     "name": "stdout",
     "output_type": "stream",
     "text": [
      "Power under null of sample size 10 : 0.041\n",
      "Power under null of sample size 20 : 0.045\n"
     ]
    }
   ],
   "source": [
    "power_10 = powerOfTest(10,1/12)\n",
    "power_20 = powerOfTest(20,1/12)\n",
    "\n",
    "print('Power under null of sample size 10 :', np.round(power_10,3))\n",
    "print('Power under null of sample size 20 :', np.round(power_20,3))"
   ]
  },
  {
   "cell_type": "markdown",

   "metadata": {},
   "source": [
    "<i>why are both curves below 0.05 at p = p0?</i> <br><br>\n",
    "i) \n",
    "Under null, expected amount of rotten oranges from sample size of 10 bags would be 10 and our test statistic equates to 11 (very close). Therefore, since the sample size of observed values is very small, critical value was computed to avoid making type I error with the significance level 0.05. We find that our test statistic does not fall in the critical region of the calibrated test, which is why we <b> do not reject the null </b>. As a result to the test statistic not proving the alternative nor it being close to the critical value, the power of the test is below 0.05 for both sample sizes 10 and 20.\n",
    "<br><br>\n",
    "\n",
    "<i>how do the two power curves compare to one another and why?</i><br><br>\n",
    "ii) The power curve of the larger sample size (n=20) has a steeper slope than that of the sample size 10 for p under the alternative ($p>\\frac{1}{12}$). Which is intuitively expected, since by increasing the sample size we can make more accurate data-supported decisions and thus can be more certain to reject the null hypothesis <b>correctly. "
   ]
  },
  {
   "cell_type": "markdown",
   "id": "c10ac609",
   "metadata": {},
   "source": [
    "# Excercise 3"
   ]
  },
  {
   "cell_type": "markdown",
   "id": "a3d1ffe9",
   "metadata": {},
   "source": [
    "## (a) "
   ]
  },
  {
   "cell_type": "code",
   "execution_count": 52,

   "metadata": {},
   "outputs": [
    {
     "data": {
      "image/png": "[encoded data removed]",
      "text/plain": [
       "<Figure size 504x504 with 1 Axes>"
      ]
     },
     "metadata": {
      "needs_background": "light"
     },
     "output_type": "display_data"
    }
   ],
   "source": [
    "import matplotlib.pyplot as plt\n",
    "import numpy as np\n",
    "from scipy.stats import probplot\n",
    "\n",
    "visitors = np.array([288, 351, 332, 268, 289, 319, 300, 298, 295, 287, 284, 297, 302, 294, 284, 299, 298,\n",
    "350, 308, 284, 295, 307, 338, 311])\n",
    "sales = np.array([ 1.968, 2.472, 2.286, 1.980, 2.004, 2.290, 2.054, 2.135, 2.125, 2.016, 2.016, 1.998,\n",
    "2.113, 1.973, 2.004, 2.069, 2.154, 2.388, 2.125, 2.054, 1.963, 2.207, 2.342, 2.168])\n",
    "\n",
    "plt.figure (figsize = (7,7))\n",
    "plt.plot (visitors, sales, \".\")\n",
    "plt.title('Scatter plot of (x,y) pairs', fontsize='15')\n",
    "plt.xlabel('# visitors', fontsize='12')\n",
    "plt.ylabel('Sales (in euros)', fontsize='12')\n",
    "plt.show()"
   ]
  },
  {
   "cell_type": "markdown",
   "id": "e460eeb2",
   "metadata": {},
   "source": [
    "## (b)\n",
    "\n",
    "Write down the modelling equations that you use to regress the sales linearly on the number of\n",
    "visitors. What do you need to assume on the noise terms in the modelling equations in order\n",
    "to use the SLR model?"
   ]
  },
  {
   "cell_type": "markdown",
   "id": "d94ba5e7",
   "metadata": {},
   "source": [
    "Equation: \n",
    "\n",
    "$$ Y_i = \\alpha + \\beta * X_i +\\sigma * \\epsilon_i  \n",
    "\\quad for \\: i = 1,...,n $$\n",
    "\n",
    "Where for idependent $\\epsilon_1, ..., \\epsilon_n$, $ {E}(\\epsilon_i) = 0, {V}(\\epsilon_i) = 1$"
   ]
  },
  {
   "cell_type": "markdown",
   "id": "e47af942",
   "metadata": {},
   "source": [

    "## (c)"

   ]
  },
  {
   "cell_type": "code",

   "execution_count": 53,

   "metadata": {},
   "outputs": [
    {
     "name": "stdout",
     "output_type": "stream",
     "text": [
      "mean visitors = 303.25\n",
      "mean sales = 2.121\n",
      "β = 0.0063335448289326\n",
      "α = 0.20035253062618907\n",
      "σ² = 0.002731428221647441\n",
      "R^2 = 0.8624254410922618\n"
     ]
    },
    {
     "data": {
      "image/png": "[encoded data removed]",
      "text/plain": [
       "<Figure size 504x504 with 1 Axes>"
      ]
     },
     "metadata": {
      "needs_background": "light"
     },
     "output_type": "display_data"
    }
   ],
   "source": [
    "x = visitors\n",
    "y = sales\n",
    "n = len(visitors)\n",
    "\n",
    "sample_mean_x = np.mean(x)\n",
    "sample_mean_y = np.mean(y)\n",
    "\n",
    "SSxy = np.sum(x*y)- n*sample_mean_x*sample_mean_y\n",
    "SSxx = np.sum(x*x)- n*sample_mean_x*sample_mean_x\n",
    "SSyy = np.sum(y*y)- n*sample_mean_y*sample_mean_y\n",
    "\n",
    "slope = SSxy/SSxx\n",
    "intercept = sample_mean_y - slope*sample_mean_x\n",
    "noise = SSyy/n - (slope**2)*SSxx/n\n",
    "\n",
    "print (\"mean visitors =\", sample_mean_x)\n",
    "print (\"mean sales =\",sample_mean_y)\n",
    "print ('\\u03B2 =', slope)\n",
    "print ('\\u03B1 =', intercept)\n",
    "print ('\\u03C3\\u00b2 =', noise)\n",
    "\n",
    "y_pred = intercept + slope * x \n",
    "residuals = y - y_pred\n",
    "\n",
    "SSres = np.sum(residuals**2)\n",
    "  \n",
    "SSyy = np.sum((y - sample_mean_y)**2)\n",
    "R2 = 1- (SSres/SSyy)\n",
    "print('R^2 =', R2)\n",
    "\n",
    "plt.figure (figsize = (7,7))\n",
    "plt.scatter(x, y, color = 'red')\n",
    "plt.plot(x, y_pred, color = 'green')\n",
    "plt.xlabel('# visitors')\n",
    "plt.ylabel('sales')\n",
    "plt.show()"
   ]
  },
  {
   "cell_type": "markdown",
   "id": "6304371f",
   "metadata": {},
   "source": [
    "## (d)"
   ]
  },
  {
   "cell_type": "code",
   "execution_count": 54,
   "metadata": {
    "scrolled": false

   },
   "outputs": [
    {
     "data": {
      "image/png": "[encoded data removed]",
      "text/plain": [
       "<Figure size 432x288 with 1 Axes>"
      ]
     },
     "metadata": {
      "needs_background": "light"
     },
     "output_type": "display_data"
    },
    {
     "data": {

      "image/png": "[encoded data removed]",

      "text/plain": [
       "<Figure size 432x288 with 1 Axes>"
      ]
     },
     "metadata": {
      "needs_background": "light"
     },
     "output_type": "display_data"
    }
   ],
   "source": [
    "plt.scatter(y_pred, residuals)\n",
    "plt.xlabel('fitted')\n",
    "plt.ylabel('residuals')\n",
    "\n",
    "plt.show()\n",
    "\n",
    "probplot(residuals, dist=\"norm\", plot=plt)\n",
    "plt.show()"
   ]
  },
  {
   "cell_type": "markdown",
   "id": "c1f626cb",
   "metadata": {},
   "source": [
    "From the plots of the residuals and $R^2$, we can conclude that the model made a good fit for the data."
   ]
  },
  {
   "cell_type": "markdown",
   "id": "fdc920a1",
   "metadata": {},
   "source": [
    "From the plots of the residuals and $R^2$, we can conclude that the model made a good fit for the data."
   ]
  },
  {
   "cell_type": "markdown",
   "metadata": {},
   "source": [
    "## (e)"
   ]
  },
  {
   "cell_type": "markdown",
   "metadata": {},
   "source": [
    "Given our analysis, we find expected response $\\hat{Y_i}$ as a function of predictor x:<br>\n",
    "$\\hat{Y_i} = \\hat{\\alpha}-\\hat{\\beta}*x_i$<br>\n",
    "therefore, by increasing $x_i$ by 20% we use $x_i = 1.2*x_1$ in the following :<br>\n",
    "$\\hat{Y'_{i}} = \\hat{\\alpha}-\\hat{\\beta}*1.2*x_i$ <br>\n",
    "Then we check for the impact on the sales that increase in traffic would have by comparing the two:\n",
    "$\\hat{Y_i}-\\hat{Y'_{i}} = \\hat{\\alpha}-\\hat{\\beta}*x_i-(\\hat{\\alpha}-\\hat{\\beta}*1.2*x_i) =(0.2*\\hat{\\beta})*x_i$ <br>\n",
    "To evaluate the price increase in euros we use the expected visitors value $\\bar{x} = 303.25$ in in k€ :<br>\n",
    "$\\delta\\hat{Y_i} = 0.2*\\hat{\\beta}*\\bar{x}*1000 = 384.13€ < 450€ $ <br> \n",
    "In regards to estimated sales increase, the advertisement campaign is not worth it."
   ]
  },
  {
   "cell_type": "code",
   "execution_count": 55,
   "metadata": {},
   "outputs": [
    {
     "name": "stdout",
     "output_type": "stream",
     "text": [
      "384.13\n"
     ]
    }
   ],
   "source": [
    "delta_slope_coefficient = slope*0.2\n",
    "delta_sales = delta_slope_coefficient*sample_mean_x*1000\n",
    "print(np.round(delta_sales,2))"
   ]
  },
  {
   "cell_type": "markdown",
   "id": "eb22fc2a",
   "metadata": {},
   "source": [
    "Given our analysis, we find expected response $\\hat{Y_i}$ as a function of predictor x:<br>\n",
    "$\\hat{Y_i} = \\hat{\\alpha}-\\hat{\\beta}*x_i$<br>\n",
    "therefore, by increasing $x_i$ by 20% we use $x_i = 1.2*x_1$ in the following :<br>\n",
    "$\\hat{Y'_{i}} = \\hat{\\alpha}-\\hat{\\beta}*1.2*x_i$ <br>\n",
    "Then we check for the impact on the sales that increase in traffic would have by comparing the two:\n",
    "$\\hat{Y_i}-\\hat{Y'_{i}} = \\hat{\\alpha}-\\hat{\\beta}*x_i-(\\hat{\\alpha}-\\hat{\\beta}*1.2*x_i) =(0.2*\\hat{\\beta})*x_i$ <br>\n",
    "To evaluate the price increase in euros we use the expected sales value $\\bar{x} = 2.121$ in k€ :<br>\n",
    "$\\delta\\hat{Y_i} = 0.2*\\hat{\\beta}*\\bar{x}*1000 = 2.69€ < 450€ $ <br> \n",
    "In regards to estimated sales increase, the advertisement campaign is not worth it."
   ]
  },
  {
   "cell_type": "code",
   "execution_count": 18,
   "id": "ba80d7d4",
   "metadata": {},
   "outputs": [
    {
     "name": "stdout",
     "output_type": "stream",
     "text": [
      "2.69\n"
     ]
    }
   ],
   "source": [
    "delta_slope_coefficient = slope*0.2\n",
    "delta_sales = delta_slope_coefficient*2.121*1000\n",
    "print(np.round(delta_sales,2))"
   ]
  }
 ],
 "metadata": {
  "kernelspec": {
   "display_name": "Python 3",
   "language": "python",
   "name": "python3"
  },
  "language_info": {
   "codemirror_mode": {
    "name": "ipython",
    "version": 3
   },
   "file_extension": ".py",
   "mimetype": "text/x-python",
   "name": "python",
   "nbconvert_exporter": "python",
   "pygments_lexer": "ipython3",
   "version": "3.8.8"
  }
 },
 "nbformat": 4,
 "nbformat_minor": 5
}
