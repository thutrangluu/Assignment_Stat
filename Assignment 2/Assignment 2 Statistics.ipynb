{
 "cells": [
  {
   "cell_type": "markdown",
   "metadata": {},
   "source": [
    "Group 00: Luu Thu Trang (2695303) and Raminta Povilaityte (2692655)"
   ]
  },
  {
   "cell_type": "markdown",
   "metadata": {},
   "source": [
    "# Checklist:\n",
    "- Prepare your submission using this template;\n",
    "- The content of the cells that you see below are just an example of the format that you should follow;\n",
    "- Fill out the group number, member names and student IDs above;\n",
    "- Adjust assignement number above;\n",
    "- Type up your answers below using Latex and/or Python as exemplified;\n",
    "- Don't add the text of the question below, only your answers;\n",
    "- To create a PDF of your submission go to [File] > [Download as] > [PDF via LaTeX (.pdf)];\n",
    "- Alternatively, go to [File] > [Download as] > [LaTeX (.tex)], and compile the .tex file;\n",
    "- *Delete this cell before creating the PDF*."
   ]
  },
  {
   "cell_type": "markdown",
   "metadata": {},
   "source": [
    "# Exercise 1"
   ]
  },
  {
   "cell_type": "markdown",
   "metadata": {},
   "source": [
    "## (a)"
   ]
  },
  {
   "cell_type": "code",
   "execution_count": 9,
   "id": "a725043f",
   "metadata": {},
   "outputs": [
    {
     "data": {
      "image/png": "[encoded data removed]",
      "text/plain": [
       "<Figure size 504x504 with 1 Axes>"
      ]
     },
     "metadata": {
      "needs_background": "light"
     },
     "output_type": "display_data"
    }
   ],
   "source": [
    "import numpy as np\n",
    "import matplotlib.pyplot as plt\n",
    "\n",
    "prices = [301.20, 238.82, 252.79, 212.17, 325.43, 245.92, 200.08, 307.88, 193.33, 232.56,\n",
    "243.39, 162.40, 226.75, 231.37, 208.21, 226.49, 297.49, 252.77, 289.41, 283.34,\n",
    "265.80, 280.76, 240.61, 287.22, 216.95, 264.74, 232.78, 204.10, 227.01, 231.31]\n",
    "\n",
    "plt.figure(figsize=(7,7))\n",
    "\n",
    "plt.hist(prices, bins = round((max(prices)-min(prices)) / (0.7*len(prices))))\n",
    "\n",
    "plt.title('Histogram data goat selling price', fontsize='15')\n",
    "plt.xlabel('Prices (in euros)', fontsize='12')\n",
    "plt.ylabel('Data', fontsize='12')\n",
    "\n",
    "plt.show()"
   ]
  },
  {
   "cell_type": "markdown",
   "metadata": {},
   "source": [
    "Does it seem like a Normal model is appropriate for the data? Justify your answer. \n",
    "The histogram is not symmetric around the mean. And it is not flat around the 1 tails."
   ]
  },
  {
   "cell_type": "markdown",
   "metadata": {},
   "source": [
    "## (b)\n",
    "Explain succinctly how the CLT and LLN can be used to derive an approximate pivot for the\n",
    "expectation of the price of one goat."
   ]
  },
  {
   "cell_type": "code",
   "execution_count": null,
   "id": "fb5a7469",
   "metadata": {},
   "outputs": [],
   "source": []
  },
  {
   "cell_type": "markdown",
   "metadata": {},
   "source": [
    "## (c)\n",
    "\n",
    "Derive, step-by-step, the expression for a two-sided, 95% confidence interval for the expectation\n",
    "of the price of one goat based on the pivot from (b).\n"
   ]
  },
  {
   "cell_type": "markdown",
   "metadata": {},
   "source": [
    "## (d)\n",
    "\n",
    "Write a Python function that takes the data as input and outputs (the bounds of) the confidence\n",
    "interval from (c).\n"
   ]
  },
  {
   "cell_type": "code",
   "execution_count": null,
   "metadata": {},
   "outputs": [],
   "source": []
  },
  {
   "cell_type": "markdown",
   "metadata": {},
   "source": [
    "## (e)\n",
    "\n",
    "What is the confidence interval that you get for the dataset from above? Is it correct to say that\n",
    "the expectation of the price of one goat belongs to this interval with probability 0.95? Justify\n",
    "your answer."
   ]
  },
  {
   "cell_type": "markdown",
   "metadata": {},
   "source": [
    "## (f)\n",
    "\n",
    "Suppose that you have 4000 to spend on goats and the the seller is willing to sell you goats at\n",
    "the expected price but you don’t know in advance what this price is. Based on the information\n",
    "that you got from the confidence interval from (d), how many goats can you confidently expect\n",
    "to be able to purchase? (Please keep in mind that, in polite society, you cannot expect to buy\n",
    "something like 3.62 goats.)\n"
   ]
  },
  {
   "cell_type": "markdown",
   "metadata": {},
   "source": [
    "# Exercise 2"
   ]
  },
  {
   "cell_type": "markdown",
   "metadata": {},
   "source": [
    "## (a)\n",
    "\n",
    "Suppose that you can think of the number of rotten oranges in a given bag as a random sample\n",
    "of size 12 from some population of oranges where an orange is rotten with some (unknown)\n",
    "probability p. If Xi represents the number of rotten oranges in the i-th bag, then what is the\n",
    "distribution of Xi?"
   ]
  },
  {
   "cell_type": "markdown",
   "metadata": {},
   "source": [
    "The distribution of $X_i$ could be best expressed as: $\\quad \\quad Hypergeom(N,N*p,12)$<br>\n",
    "<i>where:</i><br> <b>N</b> - \"some population\" of oranges<br>\n",
    "    <b>N*p</b> - number of oranges of the \"population\" that are rotten <br>\n",
    "      <b>p</b> - probability of finding a rotten orange from its \"population\"<br>\n",
    "      <b>12</b> - we sample 12 oranges per bag.</center> <br>\n",
    "      <br>\n",
    "However, since the overall orange \"population\" is <b>very large comparing to the sample size of 12</b> oranges and since, from given data we can tell that p is not very close to neither 0 nor 1, then we can approximate that:<br>\n",
    "           $$Hypergeom(N,N*p,12) \\approx  Bin(12, p) $$ Thus we conclude that :  \n",
    "           $$\\quad X_i \\sim Bin(12, p) $$ \n",
    "       "
   ]
  },
  {
   "cell_type": "markdown",
   "metadata": {},
   "source": [
    "## (b)\n",
    "\n",
    "Suppose that you would find it acceptable to get on average 1 rotten orange per bag. How\n",
    "would you pick p0 in a null hypothesis of the type H0 : p = p0 to reflect this?"
   ]
  },
  {
   "cell_type": "markdown",
   "metadata": {},
   "source": [
    "Suppose we expect on average 1 rotten orange per bag i : $$E(X_i) = 1$$  <br>\n",
    "Using Binomial distribution expectation formula: $$E(X_i)= n*p$$ \n",
    "We get the following expression : $$E(X_i)= 12*p= 1$$\n",
    "Solving the later expression for p we get $$p=p_0 = \\frac{1}{12}$$\n",
    "Therefore null hypothesis for this test: $$ H_0 : p=\\frac{1}{12}$$"
   ]
  },
  {
   "cell_type": "markdown",
   "metadata": {},
   "source": [
    "## (c)\n",
    "\n",
    "Which alternative hypothesis would you pick so that if you reject the null from (b) you can\n",
    "conclude that (at a certain significance level) there is, on average, more that one rotten orange\n",
    "per bag of 12?"
   ]
  },
  {
   "cell_type": "markdown",
   "metadata": {},
   "source": [
    "Since we want to establish whether on average there's more than one rotten orange per bag, we must establish an alternative hypotesis to check whether the probability of finding the rotten fruit is indeed larger than that, which would result with an acceptable average of 1 rotten fruit per bag. Therefore, an appropriate alterative hypothesis for this statistical test is:\n",
    "$$H_1: p>\\frac{1}{2}$$"
   ]
  },
  {
   "cell_type": "markdown",
   "metadata": {},
   "source": [
    "## (d)\n",
    "\n",
    "Suppose that you use the following rejection rule; you reject H0 at significance level α if\n",
    "T =\n",
    "Xn\n",
    "i=1\n",
    "Xi > Cα,\n",
    "where Cα is some appropriately chosen critical value. (n = 10 here.) What is the distribution\n",
    "of T under the null hypothesis from (b)?\n"
   ]
  },
  {
   "cell_type": "markdown",
   "id": "2f935ba9",
   "metadata": {},
   "source": [
    "Given the rejection rule for null hypothesis is:\n",
    "$$ T = \\sum_{i=1}^{n} X_i\\ > C_\\alpha$$ \n",
    "It is known that the sum of independent, identicaly distributed binomial random variables is binomially distributed: \n",
    "$$ X_1+X_2+...+X_n \\sim Bin(n*12, p)$$\n",
    "in our case n = 10, therefore we find T distribution to be: \n",
    "$$T \\sim Bin(10*12, p) = Bin(120,n)$$"
   ]
  },
  {
   "cell_type": "markdown",
   "id": "8731f564",
   "metadata": {},
   "source": [
    "## (e)\n",
    "\n",
    "Write a function in Python that takes in p0, α ∈ (0, 1) and n ∈ N as input, and outputs the\n",
    "respective critical value Cα. Suppose that you take α = 0.05; what is the respective Cα? What\n",
    "is the conclusion of the test?"
   ]
  },
  {
   "cell_type": "code",
   "execution_count": 3,
   "id": "2efcdf32",
   "metadata": {
    "scrolled": false
   },
   "outputs": [
    {
     "name": "stdout",
     "output_type": "stream",
     "text": [
      "The criticalvalue is 15.0\n"
     ]
    }
   ],
   "source": [
    "from scipy.stats import binom\n",
    "from scipy.stats import norm\n",
    "import numpy as np\n",
    "\n",
    "def criticalValue (p,alpha,n):\n",
    "    c = norm.ppf(1-alpha)*np.sqrt(n*p*(1-p)) + n*p\n",
    "    return c\n",
    "\n",
    "## try with CLT \n",
    "y = criticalValue(1/12, 0.05, 12*10)\n",
    "print (\"The criticalvalue is\", np.round(y))\n"
   ]
  },
  {
   "cell_type": "markdown",
   "metadata": {},
   "source": []
  },
  {
   "cell_type": "markdown",
   "id": "0e872314",
   "metadata": {},
   "source": [
    "## (f)\n",
    "\n",
    "Write a function that takes in p ∈ (0, 1) and n ∈ N as input, and outputs the respective power\n",
    "of the test. Plot the power of the test as a function of p for n = 10, and for n = 20. Answer the\n",
    "following: (i) why are both curves below 0.05 at p = p0? and (ii) how do the two power curves\n",
    "compare to one another and why?"
   ]
  },
  {
   "cell_type": "code",
   "execution_count": null,
   "metadata": {},
   "outputs": [],
   "source": []
  },
  {
   "cell_type": "markdown",
   "metadata": {},
   "source": [
    "# Excercise 3"
   ]
  },
  {
   "cell_type": "markdown",
   "metadata": {},
   "source": [
    "## (a) \n",
    "\n",
    "Make a scatterplot of the (x, y) pairs"
   ]
  },
  {
   "cell_type": "code",
   "execution_count": 73,
   "metadata": {},
   "outputs": [
    {
     "data": {
      "image/png": "[encoded data removed]",
      "text/plain": [
       "<Figure size 504x504 with 1 Axes>"
      ]
     },
     "metadata": {
      "needs_background": "light"
     },
     "output_type": "display_data"
    }
   ],
   "source": [
    "import matplotlib.pyplot as plt\n",
    "import numpy as np\n",
    "\n",
    "visitors = np.array([288, 351, 332, 268, 289, 319, 300, 298, 295, 287, 284, 297, 302, 294, 284, 299, 298,\n",
    "350, 308, 284, 295, 307, 338, 311])\n",
    "sales = np.array([ 1.968, 2.472, 2.286, 1.980, 2.004, 2.290, 2.054, 2.135, 2.125, 2.016, 2.016, 1.998,\n",
    "2.113, 1.973, 2.004, 2.069, 2.154, 2.388, 2.125, 2.054, 1.963, 2.207, 2.342, 2.168])\n",
    "\n",
    "plt.figure (figsize = (7,7))\n",
    "plt.plot (visitors, sales, \".\")\n",
    "plt.title('Scatter plot of (x,y) pairs', fontsize='15')\n",
    "plt.xlabel('# visitors', fontsize='12')\n",
    "plt.ylabel('Sales (in euros)', fontsize='12')\n",
    "plt.show()"
   ]
  },
  {
   "cell_type": "markdown",
   "metadata": {},
   "source": [
    "## (b)\n",
    "\n",
    "Write down the modelling equations that you use to regress the sales linearly on the number of\n",
    "visitors. What do you need to assume on the noise terms in the modelling equations in order\n",
    "to use the SLR model?"
   ]
  },
  {
   "cell_type": "markdown",
   "metadata": {},
   "source": [
    "Equation: \n",
    "\n",
    "$$ Y_i = \\alpha + \\beta * X_i +\\sigma * \\epsilon_i  \n",
    "(i = 1,...,n) $$\n",
    "\n",
    "Where for idependent $\\epsilon_1, ..., \\epsilon_n$, $ {E}(\\epsilon_i) = 0, {V}(\\epsilon_i) = 1$"
   ]
  },
  {
   "cell_type": "markdown",
   "id": "40694498",
   "metadata": {},
   "source": [
    "## (c)\n",
    "\n",
    "Using the expressions that we derived in class, estimate the parameters of the model – i.e., the\n",
    "intercept α, the slope β, and the variance σ\n",
    "2 – from the data. Make a plot of the data and the\n",
    "respective regression line."
   ]
  },
  {
   "cell_type": "code",
   "execution_count": 123,
   "id": "36a3244c",
   "metadata": {},
   "outputs": [
    {
     "name": "stdout",
     "output_type": "stream",
     "text": [
      "mean visitors = 303.25\n",
      "mean visitors = 2.121\n",
      "beta = 0.0063335448289326\n",
      "alpha = 0.20035253062618907\n",
      "sigma^2 = 0.20035253062618907\n"
     ]
    },
    {
     "data": {
      "image/png": "[encoded data removed]",
      "text/plain": [
       "<Figure size 504x504 with 1 Axes>"
      ]
     },
     "metadata": {
      "needs_background": "light"
     },
     "output_type": "display_data"
    }
   ],
   "source": [
    "x = visitors\n",
    "y = sales\n",
    "n = len(visitors)\n",
    "\n",
    "sample_mean_x = np.mean(x)\n",
    "sample_mean_y = np.mean(y)\n",
    "\n",
    "SSxy = np.sum(x*y)- n*sample_mean_x*sample_mean_y\n",
    "SSxx = np.sum(x*x)- n*sample_mean_x*sample_mean_x\n",
    "SSyy = np.sum(y*y)- n*sample_mean_y*sample_mean_y\n",
    "\n",
    "slope = SSxy/SSxx\n",
    "intercept = sample_mean_y - slope*sample_mean_x\n",
    "noise = SSyy/n - (slope**2)*SSxx/n\n",
    "\n",
    "print (\"mean visitors =\", sample_mean_x)\n",
    "print (\"mean visitors =\",sample_mean_y)\n",
    "print (\"beta =\", slope)\n",
    "print (\"alpha =\", intercept)\n",
    "print (\"sigma^2 =\", intercept)\n",
    "\n",
    "y_pred = intercept + slope * x \n",
    "\n",
    "plt.figure (figsize = (7,7))\n",
    "plt.scatter(x, y, color = 'red')\n",
    "plt.plot(x, y_pred, color = 'green')\n",
    "plt.xlabel('# visitors')\n",
    "plt.ylabel('sales')\n",
    "plt.show()"
   ]
  },
  {
   "cell_type": "markdown",
   "metadata": {},
   "source": [
    "## (d)\n",
    "\n",
    "Compute the residuals and use them to perform the diagnostics of the fit. What do you conclude?\n"
   ]
  },
  {
   "cell_type": "code",
   "execution_count": null,
   "id": "4f74709a",
   "metadata": {},
   "outputs": [],
   "source": []
  },
  {
   "cell_type": "markdown",
   "metadata": {},
   "source": [
    "## (e)\n",
    "\n",
    " Suppose that an advertisement company is asking you for 450¤ to run a campaign that increases\n",
    "the number of visitors in one day by 20%. Based on your statistical analysis, do you think that\n",
    "this is worth it? In what sense is it indeed/not worth it?"
   ]
  }
 ],
 "metadata": {
  "kernelspec": {
   "display_name": "Python 3",
   "language": "python",
   "name": "python3"
  },
  "language_info": {
   "codemirror_mode": {
    "name": "ipython",
    "version": 3
   },
   "file_extension": ".py",
   "mimetype": "text/x-python",
   "name": "python",
   "nbconvert_exporter": "python",
   "pygments_lexer": "ipython3",
   "version": "3.8.3"
  }
 },
 "nbformat": 4,
 "nbformat_minor": 5
}
