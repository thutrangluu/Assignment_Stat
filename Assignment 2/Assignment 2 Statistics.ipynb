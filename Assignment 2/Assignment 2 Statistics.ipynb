{
 "cells": [
  {
   "cell_type": "markdown",
   "metadata": {},
   "source": [
    "Group 00: Luu Thu Trang (2695303) and Raminta Povilaityte (2692655)"
   ]
  },
  {
   "cell_type": "markdown",
   "metadata": {},
   "source": [
    "# Checklist:\n",
    "- Prepare your submission using this template;\n",
    "- The content of the cells that you see below are just an example of the format that you should follow;\n",
    "- Fill out the group number, member names and student IDs above;\n",
    "- Adjust assignement number above;\n",
    "- Type up your answers below using Latex and/or Python as exemplified;\n",
    "- Don't add the text of the question below, only your answers;\n",
    "- To create a PDF of your submission go to [File] > [Download as] > [PDF via LaTeX (.pdf)];\n",
    "- Alternatively, go to [File] > [Download as] > [LaTeX (.tex)], and compile the .tex file;\n",
    "- *Delete this cell before creating the PDF*."
   ]
  },
  {
   "cell_type": "markdown",
   "metadata": {},
   "source": [
    "# Exercise 1"
   ]
  },
  {
   "cell_type": "markdown",
   "metadata": {},
   "source": [
    "## (a)"
   ]
  },
  {
   "cell_type": "code",
   "execution_count": 2,
   "id": "a725043f",
   "metadata": {},
   "outputs": [
    {
     "data": {
      "image/png": "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\n",
      "text/plain": [
       "<Figure size 504x504 with 1 Axes>"
      ]
     },
     "metadata": {
      "needs_background": "light"
     },
     "output_type": "display_data"
    }
   ],
   "source": [
    "import numpy as np\n",
    "import matplotlib.pyplot as plt\n",
    "from scipy.stats import t\n",
    "import math\n",
    "\n",
    "prices = [301.20, 238.82, 252.79, 212.17, 325.43, 245.92, 200.08, 307.88, 193.33, 232.56,\n",
    "243.39, 162.40, 226.75, 231.37, 208.21, 226.49, 297.49, 252.77, 289.41, 283.34,\n",
    "265.80, 280.76, 240.61, 287.22, 216.95, 264.74, 232.78, 204.10, 227.01, 231.31]\n",
    "\n",
    "plt.figure(figsize=(7,7))\n",
    "\n",
    "plt.hist(prices, bins = round((max(prices)-min(prices)) / (0.7*len(prices))))\n",
    "\n",
    "plt.title('Histogram data goat selling price', fontsize='15')\n",
    "plt.xlabel('Prices (in euros)', fontsize='12')\n",
    "plt.ylabel('Data', fontsize='12')\n",
    "\n",
    "plt.show()"
   ]
  },
  {
   "cell_type": "markdown",
   "metadata": {},
   "source": [
    "The histogram is not symmetric around the mean. And it is not flat around the 2 tails. However we also do not have enough data and information to derive a named distribution for the goat price, so we treat the goat price given as a random sample follows some distribution $F$.\n",
    "\n",
    "So $X_1,...,X_n$ is iid like $X \\sim F$."
   ]
  },
  {
   "cell_type": "markdown",
   "metadata": {},
   "source": [
    "## (b)\n",
    "Explain succinctly how the CLT and LLN can be used to derive an approximate pivot for the\n",
    "expectation of the price of one goat."
   ]
  },
  {
   "cell_type": "markdown",
   "metadata": {},
   "source": [
    "Let $F$ has $EX = \\mu$ and $VX = \\sigma^2 $\n",
    "\n",
    "By the LNN we know that\n",
    "$$\\hat{\\mu} = \\bar{X} \\overset{p}{\\to} E{X} = \\mu$$\n",
    "\n",
    "By the CLT we have the following:\n",
    "\n",
    "$$ \n",
    "\\sqrt{n}\\cdot \\frac{(\\bar{X}-\\mu)}{\\sigma} \\approx N(0,1)\n",
    "$$\n",
    "\n",
    "These two properties hold for **any** distribution. Therefore, we can use it to derive an approximate pivot for the expextaion of the price of one goat, even if the distribution $F$ is unknown.\n",
    "\n",
    "In this case, we don't know $\\sigma^2$, so we use an estimate for it. That is the sample variance\n",
    "$S^2 = \\frac{\\sum_{i=1}^{n} (x_i - \\bar{x})^2}{n-1}$\n",
    "\n",
    "Then the pivot is $T = \\sqrt{n}\\cdot \\frac{(\\bar{X}-\\mu)}{S} \\approx t_{n-1}$"
   ]
  },
  {
   "cell_type": "markdown",
   "metadata": {},
   "source": [
    "## (c)\n",
    "\n",
    "Derive, step-by-step, the expression for a two-sided, 95% confidence interval for the expectation\n",
    "of the price of one goat based on the pivot from (b).\n"
   ]
  },
  {
   "cell_type": "markdown",
   "metadata": {},
   "source": [
    "$$ \n",
    "P(t_{n-1;0,025} \\leq T \\leq t_{n-1,0.975}) = 0.95\n",
    "$$\n",
    "$$\n",
    "= P(t_{n-1;0,025} \\leq \\sqrt{n}\\cdot \\frac{(\\bar{X}-\\mu)}{S} \\leq t_{n-1,0.975}) = 0.95\n",
    "$$\n",
    "$$\n",
    "= P(\\bar{X} - \\frac{S}{\\sqrt{n}}\\cdot t_{n-1;0,025} \\leq \\mu \\leq \\bar{X} +\\frac{S}{\\sqrt{n}}\\cdot t_{n-1;0,025}) = 0.95\n",
    "$$\n",
    "\n",
    "So the 95% confidence interval for the expectation of the price of the goat is \n",
    "$$[\\bar{X} - \\frac{S}{\\sqrt{n}}\\cdot t_{n-1;0,025},\\bar{X} +\\frac{S}{\\sqrt{n}}\\cdot t_{n-1;0,025}]$$"
   ]
  },
  {
   "cell_type": "markdown",
   "metadata": {},
   "source": [
    "## (d)\n",
    "\n",
    "Write a Python function that takes the data as input and outputs (the bounds of) the confidence\n",
    "interval from (c).\n"
   ]
  },
  {
   "cell_type": "code",
   "execution_count": 3,
   "id": "ea266bf4",
   "metadata": {},
   "outputs": [
    {
     "name": "stdout",
     "output_type": "stream",
     "text": [
      "246.1026666666667\n",
      "CI is [168.375,323.830]\n"
     ]
    }
   ],
   "source": [
    "def confidenceInterval(data,alpha):\n",
    "    L = np.mean(data) - np.sqrt(np.var(data,ddof=1))*t.ppf(1-alpha/2,len(data)-1)\n",
    "    U = np.mean(data) + np.sqrt(np.var(data,ddof=1))*t.ppf(1-alpha/2,len(data)-1)\n",
    "    return (\"CI is [{:.3f},{:.3f}]\".format(L,U))\n",
    "\n",
    "sample_mean = np.mean(prices)\n",
    "CI = confidenceInterval(prices,0.05)\n",
    "print (sample_mean)\n",
    "print (CI)\n"
   ]
  },
  {
   "cell_type": "markdown",
   "metadata": {},
   "source": [
    "## (e)\n",
    "\n",
    "What is the confidence interval that you get for the dataset from above? Is it correct to say that\n",
    "the expectation of the price of one goat belongs to this interval with probability 0.95? Justify\n",
    "your answer.\n",
    "\n",
    "The confidence interval is $$ [168.375,323.830] $$ It is correct to say that\n",
    "the expectation of the price of one goat belongs to this interval with probability 0.95. Because the interval says that we are 95% confident that the real expected goat price lies betweeen the 2 bounds of the interval no. "
   ]
  },
  {
   "cell_type": "markdown",
   "metadata": {},
   "source": [
    "## (f)\n",
    "\n",
    "Suppose that you have 4000 to spend on goats and the the seller is willing to sell you goats at\n",
    "the expected price but you don’t know in advance what this price is. Based on the information\n",
    "that you got from the confidence interval from (d), how many goats can you confidently expect\n",
    "to be able to purchase? (Please keep in mind that, in polite society, you cannot expect to buy\n",
    "something like 3.62 goats.)\n"
   ]
  },
  {
   "cell_type": "code",
   "execution_count": 4,
   "id": "4996795f",
   "metadata": {},
   "outputs": [
    {
     "name": "stdout",
     "output_type": "stream",
     "text": [
      "The number of goats we can buy is 12\n"
     ]
    }
   ],
   "source": [
    "U = np.mean(prices) + np.sqrt(np.var(prices,ddof=1))*t.ppf(1-0.05/2,len(prices)-1)\n",
    "number_of_goats1 = math.floor(4000/U) \n",
    "print(\"The number of goats we can buy is\", number_of_goats1)"
   ]
  },
  {
   "cell_type": "markdown",
   "metadata": {},
   "source": [
    "# Exercise 2"
   ]
  },
  {
   "cell_type": "markdown",
   "metadata": {},
   "source": [
    "## (a)\n",
    "\n",
    "Suppose that you can think of the number of rotten oranges in a given bag as a random sample\n",
    "of size 12 from some population of oranges where an orange is rotten with some (unknown)\n",
    "probability p. If Xi represents the number of rotten oranges in the i-th bag, then what is the\n",
    "distribution of Xi?"
   ]
  },
  {
   "cell_type": "markdown",
   "metadata": {},
   "source": [
    "The distribution of $X_i$ could be best expressed as: $\\quad \\quad Hypergeom(N,N*p,12)$<br>\n",
    "<i>where:</i><br> <b>N</b> - \"population\" of oranges<br>\n",
    "    <b>N*p</b> - number of oranges of the \"population\" that are rotten <br>\n",
    "      <b>p</b> - probability of finding a rotten orange from its \"population\"<br>\n",
    "      <b>12</b> - we sample 12 oranges per bag.</center> <br>\n",
    "      <br>\n",
    "However, since the overall orange \"population\" is assumed to be <b>very large comparing to the sample size of 12</b> oranges and since, from given data we can tell that p is not very close to neither 0 nor 1, then we can approximate that:<br>\n",
    "           $$Hypergeom(N,N*p,12) \\approx  Bin(12, p) $$ Thus we conclude that :  \n",
    "           $$\\quad X_i \\sim Bin(12, p) $$ \n",
    "       "
   ]
  },
  {
   "cell_type": "markdown",
   "metadata": {},
   "source": [
    "## (b)\n",
    "\n",
    "Suppose that you would find it acceptable to get on average 1 rotten orange per bag. How\n",
    "would you pick p0 in a null hypothesis of the type H0 : p = p0 to reflect this?"
   ]
  },
  {
   "cell_type": "markdown",
   "metadata": {},
   "source": [
    "Suppose we expect on average 1 rotten orange per bag i : $$E(X_i) = 1$$  <br>\n",
    "Using Binomial distribution expectation formula: $$E(X_i)= n*p$$ \n",
    "We get the following expression : $$E(X_i)= 12*p= 1$$\n",
    "Solving the later expression for p we get $$p=p_0 = \\frac{1}{12}$$\n",
    "Therefore null hypothesis for this test: $$ H_0 : p=\\frac{1}{12}$$"
   ]
  },
  {
   "cell_type": "markdown",
   "metadata": {},
   "source": [
    "## (c)\n",
    "\n",
    "Which alternative hypothesis would you pick so that if you reject the null from (b) you can\n",
    "conclude that (at a certain significance level) there is, on average, more that one rotten orange\n",
    "per bag of 12?"
   ]
  },
  {
   "cell_type": "markdown",
   "metadata": {},
   "source": [
    "Since we want to establish whether on average there's more than one rotten orange per bag, we must establish an alternative hypotesis to check whether the probability of finding the rotten fruit is indeed larger than that, which would result with an acceptable average of 1 rotten fruit per bag. Therefore, an appropriate alterative hypothesis for this statistical test is:\n",
    "$$H_1: p>\\frac{1}{12}$$"
   ]
  },
  {
   "cell_type": "markdown",
   "metadata": {},
   "source": [
    "## (d)\n",
    "\n",
    "Suppose that you use the following rejection rule; you reject H0 at significance level α if\n",
    "T =\n",
    "Xn\n",
    "i=1\n",
    "Xi > Cα,\n",
    "where Cα is some appropriately chosen critical value. (n = 10 here.) What is the distribution\n",
    "of T under the null hypothesis from (b)?\n"
   ]
  },
  {
   "cell_type": "markdown",
   "metadata": {},
   "source": [
    "Given the rejection rule for null hypothesis is:\n",
    "$$ T = \\sum_{i=1}^{n} X_i\\ > C_\\alpha$$ \n",
    "It is known that the sum of independent, identicaly distributed binomial random variables is binomially distributed: \n",
    "$$ X_1+X_2+...+X_n \\sim Bin(n*12, p)$$\n",
    "in our case n = 10, therefore we find T distribution to be: \n",
    "$$T \\sim Bin(10*12, p) = Bin(120,p)$$"
   ]
  },
  {
   "cell_type": "markdown",
   "metadata": {},
   "source": [
    "## (e)\n",
    "\n",
    "Write a function in Python that takes in p0, α ∈ (0, 1) and n ∈ N as input, and outputs the\n",
    "respective critical value Cα. Suppose that you take α = 0.05; what is the respective Cα? What\n",
    "is the conclusion of the test?"
   ]
  },
  {
   "cell_type": "code",
   "execution_count": 5,
   "id": "2efcdf32",
   "metadata": {
    "scrolled": false
   },
   "outputs": [
    {
     "name": "stdout",
     "output_type": "stream",
     "text": [
      "The critical value is 15.0\n",
      "Data statistic T= 11\n"
     ]
    }
   ],
   "source": [
    "from scipy.stats import binom\n",
    "from scipy.stats import norm\n",
    "import numpy as np\n",
    "\n",
    "def criticalValue (p,alpha,n):\n",
    "    c = binom.ppf(1-alpha,n*12, p)\n",
    "    return c\n",
    "\n",
    "c = criticalValue(1/12, 0.05, 10)\n",
    "data = [0, 1, 1, 2, 1, 2, 1, 0, 2, 1]\n",
    "\n",
    "T = sum(data)\n",
    "print (\"The critical value is\", np.round(c))\n",
    "print('Data statistic T=', T)"
   ]
  },
  {
   "cell_type": "markdown",
   "metadata": {},
   "source": [
    "According to the decision rule we reject the null, if the following holds: $$ T = \\sum_{i=1}^{n} X_i\\ > C_\\alpha$$  With $\\alpha = 0.05$ and $n=10$ computed parameters: $C_{0.05} = 15 \\quad and \\quad T = \\sum_{i=1}^{10} X_i\\ = 11 \\quad$ inequality is not true and thus <b>we do not reject the null hypothesis</b> at significance level 0.05."
   ]
  },
  {
   "cell_type": "markdown",
   "metadata": {},
   "source": [
    "## (f)\n",
    "\n",
    "Write a function that takes in p ∈ (0, 1) and n ∈ N as input, and outputs the respective power\n",
    "of the test. Plot the power of the test as a function of p for n = 10, and for n = 20. Answer the\n",
    "following: (i) why are both curves below 0.05 at p = p0? and (ii) how do the two power curves\n",
    "compare to one another and why?"
   ]
  },
  {
   "cell_type": "code",
   "execution_count": 50,
   "id": "f34c898e",
   "metadata": {},
   "outputs": [],
   "source": [
    "  def checkRange(p):\n",
    "    for value in p:\n",
    "        if not value < 1 and not value > 0:\n",
    "            p.pop()"
   ]
  },
  {
   "cell_type": "code",
   "execution_count": 58,
   "id": "99e90fc1",
   "metadata": {
    "scrolled": true
   },
   "outputs": [
    {
     "data": {
      "image/png": "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\n",
      "text/plain": [
       "<Figure size 576x360 with 1 Axes>"
      ]
     },
     "metadata": {
      "needs_background": "light"
     },
     "output_type": "display_data"
    }
   ],
   "source": [
    "def powerOfTest (n, p): \n",
    "    ##checkRange(p)\n",
    "    critical = np.round(criticalValue(1/12, 0.05, n),0)\n",
    "    index = 1\n",
    "    power = 1\n",
    "    while index <= critical:\n",
    "        power -= binom.pmf(index, n*12,p)\n",
    "        index +=1\n",
    "    return power\n",
    "\n",
    "x_1 = np.linspace(0.05,1,1000)\n",
    "y_1 = np.linspace(0.01,1,1000)\n",
    "alpha = np.ones(1000)*0.05\n",
    "p0 = np.ones(1000)*(1/12)\n",
    "\n",
    "plt.figure(figsize=(8,5))\n",
    "plt.plot(x_1,powerOfTest(10,x_1),label='Power n=10')\n",
    "plt.plot(x_1,powerOfTest(20,x_1),label='Power n=20')\n",
    "plt.plot(x_1, alpha, label = 'Significance level 0.05')\n",
    "plt.plot(p0, y_1, label = 'Probability under null')\n",
    "plt.title(r'Power of the test comparison with Critical value C$_\\alpha$')\n",
    "plt.xlabel('Probability to find rotten orange (p)')\n",
    "plt.ylabel('Power of test ($\\pi$)')\n",
    "plt.legend() \n",
    "plt.show()"
   ]
  },
  {
   "cell_type": "code",
   "execution_count": 59,
   "id": "468aa1cc",
   "metadata": {},
   "outputs": [
    {
     "name": "stdout",
     "output_type": "stream",
     "text": [
      "Power under null of sample size 10 : 0.041\n",
      "Power under null of sample size 20 : 0.045\n"
     ]
    }
   ],
   "source": [
    "power_10 = powerOfTest(10,1/12)\n",
    "power_20 = powerOfTest(20,1/12)\n",
    "\n",
    "print('Power under null of sample size 10 :', np.round(power_10,3))\n",
    "print('Power under null of sample size 20 :', np.round(power_20,3))"
   ]
  },
  {
   "cell_type": "markdown",
   "metadata": {},
   "source": [
    "<i>why are both curves below 0.05 at p = p0?</i> <br><br>\n",
    "\n",
    "i)\n",
    "Under null, expected amount of rotten oranges from sample size of 10 bags would be 10 and our test statistic is 11 (very close). In order to reject the null correctly with a small sample size, critical value was computed such that type I error could be avoided at significance level 0.05. As our test statistic does not fall in the critical region of the calibrated test, we <b> do not reject the null </b> and thus, we see the power of the test is below 0.05 for a test statistic that is lower than the critical value (is not close to proving the alternative).\n",
    "<br><br>\n",
    "\n",
    "<i>how do the two power curves compare to one another and why?</i><br><br>\n",
    "ii) The power curve of the larger sample size (n=20) has a steeper slope than that of the sample size 10 for p under the alternative ($p>\\frac{1}{12}$). Which is intuitively expected, since by increasing the sample size we can make more accurate data-supported decisions and thus can be more certain to reject the null hypothesis <b>correctly. "
   ]
  },
  {
   "cell_type": "markdown",
   "metadata": {},
   "source": [
    "# Excercise 3"
   ]
  },
  {
   "cell_type": "markdown",
   "metadata": {},
   "source": [
    "## (a) \n",
    "\n",
    "Make a scatterplot of the (x, y) pairs"
   ]
  },
  {
   "cell_type": "code",
   "execution_count": null,
   "id": "3d883ac3",
   "metadata": {},
<<<<<<< Updated upstream
   "outputs": [
    {
     "data": {
      "image/png": "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\n",
      "text/plain": [
       "<Figure size 504x504 with 1 Axes>"
      ]
     },
     "metadata": {
      "needs_background": "light"
     },
     "output_type": "display_data"
    }
   ],
=======
   "outputs": [],
>>>>>>> Stashed changes
   "source": [
    "import matplotlib.pyplot as plt\n",
    "import numpy as np\n",
    "from scipy.stats import probplot\n",
    "\n",
    "visitors = np.array([288, 351, 332, 268, 289, 319, 300, 298, 295, 287, 284, 297, 302, 294, 284, 299, 298,\n",
    "350, 308, 284, 295, 307, 338, 311])\n",
    "sales = np.array([ 1.968, 2.472, 2.286, 1.980, 2.004, 2.290, 2.054, 2.135, 2.125, 2.016, 2.016, 1.998,\n",
    "2.113, 1.973, 2.004, 2.069, 2.154, 2.388, 2.125, 2.054, 1.963, 2.207, 2.342, 2.168])\n",
    "\n",
    "plt.figure (figsize = (7,7))\n",
    "plt.plot (visitors, sales, \".\")\n",
    "plt.title('Scatter plot of (x,y) pairs', fontsize='15')\n",
    "plt.xlabel('# visitors', fontsize='12')\n",
    "plt.ylabel('Sales (in euros)', fontsize='12')\n",
    "plt.show()"
   ]
  },
  {
   "cell_type": "markdown",
   "metadata": {},
   "source": [
    "## (b)\n",
    "\n",
    "Write down the modelling equations that you use to regress the sales linearly on the number of\n",
    "visitors. What do you need to assume on the noise terms in the modelling equations in order\n",
    "to use the SLR model?"
   ]
  },
  {
   "cell_type": "markdown",
   "metadata": {},
   "source": [
    "Equation: \n",
    "\n",
    "$$ Y_i = \\alpha + \\beta * X_i +\\sigma * \\epsilon_i  \n",
    "\\quad for \\: i = 1,...,n $$\n",
    "\n",
    "Where for idependent $\\epsilon_1, ..., \\epsilon_n$, $ {E}(\\epsilon_i) = 0, {V}(\\epsilon_i) = 1$"
   ]
  },
  {
   "cell_type": "markdown",
   "metadata": {},
   "source": [
    "## (c)\n",
    "\n",
    "Using the expressions that we derived in class, estimate the parameters of the model – i.e., the\n",
    "intercept α, the slope β, and the variance σ^2 – from the data. Make a plot of the data and the\n",
    "respective regression line."
   ]
  },
  {
   "cell_type": "code",
   "execution_count": null,
   "id": "36a3244c",
   "metadata": {},
<<<<<<< Updated upstream
   "outputs": [
    {
     "name": "stdout",
     "output_type": "stream",
     "text": [
      "mean visitors = 303.25\n",
      "mean sales = 2.121\n",
      "β = 0.0063335448289326\n",
      "α = 0.20035253062618907\n",
      "σ² = 0.002731428221647441\n",
      "R^2 = 0.8624254410922618\n"
     ]
    },
    {
     "data": {
      "image/png": "iVBORw0KGgoAAAANSUhEUgAAAbkAAAGtCAYAAACLEwqlAAAABHNCSVQICAgIfAhkiAAAAAlwSFlzAAALEgAACxIB0t1+/AAAADh0RVh0U29mdHdhcmUAbWF0cGxvdGxpYiB2ZXJzaW9uMy4yLjIsIGh0dHA6Ly9tYXRwbG90bGliLm9yZy+WH4yJAAAgAElEQVR4nO3deXxU1f3/8fcnbBIjKgqiSIgLrQu1aFO0ta3UatW6YKtfpY1oa/2lat0qXZQICJq600qtS9S6xq1VW6tW6oJt1QoGBFFQSwWiLEpVZAkgIZ/fH3eYTGISssydO3Pn9Xw88sicO/fOfLgub86559xr7i4AAOKoIOoCAAAICyEHAIgtQg4AEFuEHAAgtgg5AEBsEXIAgNgKLeTMbJCZTTOz+Wb2hpmd38I+I8zsEzObnfgZH1Y9AID80z3Ez66XNMbdZ5nZNpJmmtnT7j6v2X7/cvdjQqwDAJCnQuvJufsyd5+VeL1a0nxJA8P6PgAAmguzJ5dkZiWS9pc0vYW3v2JmcyQtlfRzd3+jrc/acccdvaSkJN0lAgBy2MyZM//n7v2abw895MysSNLDki5w91XN3p4labC7rzGz70j6s6QhLXxGuaRySSouLlZNTU3IVQMAcomZLW5pe6izK82sh4KAq3b3R5q/7+6r3H1N4vWTknqY2Y4t7Ffl7qXuXtqv32eCGgCAFoU5u9Ik3S5pvrtPbmWfAYn9ZGbDE/V8GFZNAID8EuZw5cGSRkuaa2azE9vGSiqWJHe/WdKJks4ys3pJ6ySNch6LAABIk9BCzt1fkGRb2OcGSTeEVQMAIL9xxxMAQGwRcgCA2CLkAACxRcgBAGKLkAMAxBYhBwCILUIOABBbhBwAILYIOQBAbBFyAIDMq66WSkqkgoLgd3V1KF+TkefJAQCQVF0tlZdLdXVBe/HioC1JZWVp/Sp6cgCAzKqoaAy4zerqgu1pRsgBADKrtrZj27uAkAMAZFZxcce2dwEhBwDIrMpKqbCw6bbCwmB7mhFyAIDMKiuTqqqkwYMls+B3VVXaJ51IzK4EAEShrCyUUGuOnhwAILYIOQBAbBFyAIDYIuQAALFFyAEAYouQAwDEFiEHAIgtQg4AEFuEHAAgtgg5AEBsEXIAgNgi5AAAsUXIAQBii5ADAMQWIQcAiC1CDgAQW4QcACC2CDkAQGwRcgCA2CLkAACxRcgBAGKLkAMAxBYhBwCILUIOAJBxH6/7WDbR9Iu//yLU7yHkAAAZ9d+P/qu+V/eVJC1ZvSTU7yLkAAAZ82Lti9rzd3tKkk7c50Tdd8J9oX4fIQcAyIh75tyjr93xNUnSxBET9cf/+2Po39k99G8AAOQ9m2jJ1/efcL9GDR2Vke+lJwcACFVqwN1+3O0ZCziJnhwAIESpAffcqc/pm7t9M6PfT8gBANLu002fqtflvZLtxRcsVvG2xRmvg5ADAKTV0tVLNXDywGS7bmydevfoHUktXJMDAKTNi7UvNgm4hvENkQWcRMgBANLkplduSi4RkCSf4DKzNo4IX2ghZ2aDzGyamc03szfM7Pw29v2ymW0ysxPDqgcAEJ6yR8p09pNnJ9s+wSOsplGY1+TqJY1x91lmto2kmWb2tLvPS93JzLpJukrS1BBrAQCEZPurttfK9SslSd8Y/A3944f/iLiiRqH15Nx9mbvPSrxeLWm+pIEt7HqupIclfRBWLQCAcNhESwbchEMmZFXASRmaXWlmJZL2lzS92faBkr4r6VBJX85ELQCA9EhdA/fX7/9Vx3zumAiraVnoIWdmRQp6ahe4+6pmb/9W0q/cfVNbFyfNrFxSuSQVF2d+nQUAoFF9Q716XNYj2X7rnLf0uR0+F2FFrTP38C4OmlkPSY9Lmuruk1t4f6Gkzem2o6Q6SeXu/ufWPrO0tNRramrCKBcAsAX/q/uf+l3TL9leddEqbdNrmwgrCpjZTHcvbb49tJ6cBV2z2yXNbyngJMndd0vZ/05Jj7cVcACA6MxaNktfqvpSst0wviHyJQJbEuZw5cGSRkuaa2azE9vGSiqWJHe/OcTvBgCk0T1z7tGpfz412c6WJQJbElrIufsLahyKbM/+PwyrFgBA5539xNm6qeamZLtTAVddLVVUSLW1UnGxVFkplZWlscqWce9KAECrhvxuiBZ8tECSNLT/UM09a27HP6S6Wiovl+rqgvbixUFbCj3ouK0XAKBFNtGSAfezg37WuYCTgh7c5oDbrK4u2B4yenIAgM9IXQP3wAkP6OShJ3f+w2prO7Y9jQg5AEBSgzeo26RuyfacM+dov53269qHFhcHQ5QtbQ8Zw5UAAEnSJ+s/aRJwH/7yw64HnBRMMiksbLqtsDDYHjJCDgCg+Svma7urtku268fVq2/vvun58LIyqapKGjxYMgt+V1UxuxIAEL5H5j+iEx46IdkOZQ1cWVlGQq05enIAkMcufubi8AMuQvTkACBPHXjbgZqxZIYkaeeinbV0zNKIK0o/Qg4A8lDqEoHTh52u20feHmE14SHkACDPpAbcrcfeqjMOOCPCasJFyAFAnnB3FUxqnIrx8o9f1oG7HhhhReEj5AAgD6z9dK2KrihKtpePWa6dinaKsKLMIOQAIObe+fgd7TFlj2T700s+VY9uPdo4Ij5YQgAAMTZ1wdQmAecTPG8CTiLkACC2rnzhSh1ZfWSyHbc1cO3BcCUAxNCR9x6pqf+dKknq2a2nNlyyIeKKokHIAUDMpC4R+N7e39PDJz0cYTXRYrgSAGIkNeAmf3tyXgecRE8OAGIjNeCmnTZNI0pGRFdMliDkACDHbajfoK0qt0q2ay+o1aBtB0VYUfYg5AAghy1ZtUS7/mbXZHtdxTpt1X2rNo7IL1yTA4Ac9ULtC00CrmF8AwHXDCEHADno9zN+r6/f8fVk2ye4zKyNI/ITw5UAkGNG/WmUHnzjwWQ7Hxd5txchBwA5pM8VfbT609WSpBElIzTttGkRV5TdGK4EgBxhEy0ZcBNHTCTg2oGQA4BsVF0tlZRIBQVSSUmTNXBP/OAJjT9kfHS15RCGKwEg21RXS+XlUl2d6gukHj9anHzr7XPe1pAdhkRYXG6hJwcA2aaiQqqrU+22Uo+UDtvqewYRcB1ETw4Ask1trR7/nHTsDxo3NVwqmb0XWUm5ip4cAGSZC08oahJwfqlkklRcHFFFuYueHABkkYGTB2rp0NXJtl+aeFFYKFVWRlJTLqMnBwBZwiaalq5emmz7HYMlM2nwYKmqSiori7C63ERPDgCyQOoSgaH9h2ruWXOlCREWFBP05AAgYqkBN+4b44KAQ1rQkwOAiGxq2KTulzX+b/jp0U/rsN0Pi7Ci+CHkACACy9cs187X7ZxsL71wqXbeZuc2jkBnMFwJABn2/KLnmwTcxnEbCbiQEHIAkEGX/eMyffOubybbPsHVvYBBtbBwZgEgQw645QC9uvzVZJvnwIWPkAOADEidQSkRcJnCcCUAhCw14HYs3JGAyyBCDgBClBpwP/3yT7XiFysirCb/MFwJACFwdxVMauxHPHLSI/ru3t+NsKL8RMgBQJqtXL9S21+1fbL9znnvaLftd4uwovxFyAFAGtUsrdGXb/1ysr2+Yr16de8VYUX5jWtyAJAmN8y4oUnA+QQn4CJGTw4A0uCIe4/Q3//792SbGZTZgZADgC5iDVz2YrgSALqAgMtuhBwAdFJqwI0aOoqAy0KhhZyZDTKzaWY238zeMLPzW9hnpJm9ZmazzazGzL4WVj0AkC7u3iTg7hx5p+4/4f4IK0JrwrwmVy9pjLvPMrNtJM00s6fdfV7KPs9Keszd3cz2k/SQpL1CrAkAumTtp2tVdEVRsv36Wa9r3/77RlgR2hJayLn7MknLEq9Xm9l8SQMlzUvZZ03KIVtLoq8PIGvNWzFP+97YGGirL16top5FbRyBqGXkmpyZlUjaX9L0Ft77rpm9KekJSae3cnx5YjizZsUK7vsGIPPumXNPk4BrGN9AwOWA0EPOzIokPSzpAndf1fx9d3/U3feSdLyky1r6DHevcvdSdy/t169fuAUDQDNlj5Tp1D+fmmz7BJeZtXEEskWo6+TMrIeCgKt290fa2tfd/2lme5jZju7+vzDrAoD2YolAbgtzdqVJul3SfHef3Mo+eyb2k5kdIKmnpA/DqglAhlRXSyUlUkFB8Lu6OuqKOoWAy31h9uQOljRa0lwzm53YNlZSsSS5+82STpB0qpltlLRO0snuzr9FQC6rrpbKy6W6uqC9eHHQlqSysujq6qDUgDts98P09OinI6wGnWW5limlpaVeU1MTdRkAWlNSEgRbc4MHS4sWZbqaTkkNuOuPvF7nHXhehNWgPcxspruXNt/OHU8ApFdtbce2Z5EN9RuaBNz0M6a3HHAxGY7NB9ygGUB6FRe33JMrLs58LR2w8OOF2n3K7sn2R7/8SNv33v6zO8ZkODZf0JMDkF6VlVJhYdNthYXB9iz12FuPNQm4hvENLQecJFVUNAbcZnV1wXZkHUIOQHqVlUlVVcE1OLPgd1VV1vZyzv/b+Rr5wMhke4tr4HJ4ODYfMVwJIP3KyrI21FINuHaA3l/7frLdriUCOTocm6/oyQHISzbROh5wUk4Ox+YzQg5A3kmdQfnFnb7YsUXeOTYcm+8YrgSQV1IDbsIhE3TpiEs7/iE5MhwLQg5AnqhvqFePy3ok28+e+qwO3e3QCCtCJhByAGJv2epl2mXyLo3tMcs0oGhAhBUhU7gmByDWnlv4XJOA2zhuIwGXRwg5ALF16fOX6lt3fyvZ9gmu7gUMYOUT/mkDiKUv3vxFvfb+a8k2j8nJT4QcgNjhOXDYjOFKALGSGnADigYQcHmOkAMQG6kBd97w87RszLIIq0E2YLgSQM5zdxVMavw7+59P/rNG7jWyjSOQLwg5ADnt43Ufq+/VfZPthecvVMl2JdEVhKxCyAHIWTOWzNCBtx2YbK+vWK9e3XtFWBGyDdfkAOSkKdOnNAk4n+AEHD6DnhyAnHP4PYfrmXeeSbaZQYnWEHIAcgpr4NARDFcCyBkEHDqKkAOQE1IDruwLZQQc2oXhSgBZrfkauLuPv1ujvzg6woqQSwg5AFlrzadrtM0V2yTbb5z9hvbpt0+EFSHXEHIAstLrH7yuL9z0hWR7zcVrtHXPrSOsCLmIa3IAss5ds+9qEnAN4xsIOHQKPTkAWeX7D39fD7z+QLLNBBN0BSEHIGuwRADpxnAlgKxAwCEMhByAyKUG3BF7HEHAIW0IOQCRSg243x31Oz11ylMRVoO44ZocgEhsqN+grSq3SrZf+X+vqHSX0ggrQhwRcgAy7p2P39EeU/ZItj/65Ufavvf2EVaEuGK4EkBGPTr/0SYB1zC+gYBDaAg5ABlzzpPn6HsPfS/Z9gkuM2vjCKBrGK4EkBH9r+mvFXUrkm1mUCITCDkAoWMNHKLCcCWAUKUG3AE7H0DAIaMIOQChSQ24SSMmaWb5zAirQT5iuBJA2m3ctFE9L++ZbE87bZpGlIyIriDkLUIOQFo1XwO3fMxy7VS0U4QVIZ8xXAkgbe6be1+TgNs4biMBh0jRkwOQFic8dIIemf9Iss0EE2QDQg5Al7FEANmK4UoAXULAIZsRckC2qK6WSkqkgoLgd3V11BVtEQGHbEfIAdmguloqL5cWL5bcg9/l5VkddKkBd+huhxJwyEqEHJANKiqkurqm2+rqgu1ZpsEbmgRc1TFVevbUZyOsCGgdE0+AbFBb27HtEVm2epl2mbxLsv3G2W9on377RFgR0LbQenJmNsjMppnZfDN7w8zOb2GfMjN7LfHzkpl9Max6gKxWXNyx7RF48j9PNgm4dRXrCDhkvTCHK+sljXH3vSUdJOmnZtb8v4iFkg5x9/0kXSapKsR6gOxVWSkVFjbdVlgYbM8CZz9xto6+7+hk2ye4tuq+VYQVAe3T4eFKMyuQVOTuq9raz92XSVqWeL3azOZLGihpXso+L6Uc8rKkXTtaDxALZWXB74qKYIiyuDgIuM3bI9RtUjc1eEOyzQQT5JJ29eTM7D4z62NmWysIqbfM7Bft/RIzK5G0v6Tpbez2Y0l/a+X4cjOrMbOaFStWtLQLkPvKyqRFi6SGhuB3FgScTTQCDjmtvcOV+yR6bsdLelJSsaTR7TnQzIokPSzpgtZ6f2b2TQUh96uW3nf3KncvdffSfv36tbNkAF3BGjjEQXtDroeZ9VAQcn9x942StvhvfOKYhyVVu/sjreyzn6TbJI109w/bWQ+AEKUG3N477k3AIWe1N+RukbRI0taS/mlmgyW1eU3OzEzS7ZLmu/vkVvYplvSIpNHu/nZ7iwYQDndvEnBXfOsKzfvpvDaOALJbuyaeuPsUSVNSNi1ODDG25WAFQ5pzzWx2YttYBUOdcvebJY2XtIOkG4NMVL27l7a/fADp8vG6j9X36r7J9vQzpmv4wOERVgR0XbtCzsx2kvRrSbu4+1GJpQBfUdBTa5G7vyDJWns/sc8Zks5of7kAwvBi7Yv62h1fS7Y/uegT9enVJ8KKgPRo73DlnZKmStq8EvRtSReEURCAzJowbUKTgPMJTsAhNtq7Tm5Hd3/IzC6WJHevN7NNIdYFIAMG/WaQ3lv1XrLNBBPETXtDbq2Z7aDEjEozO0jSJ6FVBSB0LBFAPmhvyF0o6TFJe5jZi5L6SToxtKoAhIqAQ75o7+zKWWZ2iKTPK5hM8lZirRyAHJMacNv22lYrL1oZYTVAuNoMOTP7Xitvfc7M1NoCbwDZKTXgLjzoQl13xHURVgOEb0s9uWPbeM8VLOQGkOXWfrpWRVcUJdvPjH5G39r9WxFWBGRGmyHn7j/KVCEAwjFn+RwNu2VYsv3Bzz9Qv625ByzyQ7sftWNmR0vaV1LyIVLuPimMogCkx5TpU3T+U43PK24Y36DE3YWAvNDeO57cLKlQ0jcV3Ez5REkzQqwLQBcdeNuBmrGk8T9TZlAiH7W3J/dVd9/PzF5z94lmdp24HgdkLZYIAIH23tZrfeJ3nZntIqle0m7hlASg06qrCTggRXtD7q9mtp2kayTNkrRQ0v2hVQWg46qrZQtOabLJry6UqqsjKgiIXntD7k1Jm9z9YUm/l/SypD+HVhWADksNuFPmSH6ppLo6qaIispqAqLU35Ma5+2oz+5qkwxU8leCm0KoC0G4bN21sMkT5t3ulex5N2aG2NvNFAVmivSG3+YkDR0u62d3/IqlnOCUBaK/FKxer5+WN/ykuuU46ckGznYqLM1sUkEXaG3JLzOwWSSdJetLMenXgWAAheHT+oyq5viTZrt/jbu2yqbDpToWFUmVlZgsDskh7lxCcJOlISde6+0oz21nSL8IrC0Bbyv9arltn3ZpsJ2dQWkFwDa62NujBVVZKZWURVQlEz9xza3pxaWmp19TURF0GEJnuk7prkzc+s5glAoBkZjPdvbT5doYckV+qq6WSEqmgIPidY9PrbaIRcEAHtPvelUDOq66WysuDafWStHhx0JZyYkiPRd5Ax9GTQ/6oqGgMuM1yZB1ZasCdst8pBBzQTvTkkD9aWy+WxevIGrxB3SZ1S7YfPPFBnbTvSRFWBOQWQg75o7g4GKJsaXsWen/N+xpw3YBke8G5C7RH3z0irAjIPQxXIn9UVgbrxlJl6TqyZ995tknAbbhkAwEHdAIhh/xRViZVVUmDB0tmwe+qqqybdDL22bE67J7Dkm2f4OrZjRsMAZ3BcCXyS1lZ1oVaquLfFOvdVe8m20wwAbqGkAOyBEsEgPRjuBLIAgQcEA5CDohYasAdsccRBByQRoQcEBF3bxJwNx19k5465akIKwLih5BDfsmSe1euXL9SBZMa//Obc+YcnVl6ZiS1AHHGxBPkjyy5d+WMJTN04G0HJttrLl6jrXtunbHvB/IJPTnkjyy4d+U1L17TJOB8ghNwQIjoySF/RHzvyi/f+mXVLG18FiITTIDwEXLIHxHeu5IlAkA0GK5E/ojo3pUEHBAdQg65q6MzJSO4d2VqwA0bMKxjAZclM0GBXGbuufW3ytLSUq+pqdnyjoi35jMlpaBXlkU3XE4NuF8f+mtd/PWL239wDvz5gGxiZjPdvfQz2wk55KSSkpavrw0eLC1alOlqmqjbWKetf904Y/Kl01/SVwZ9pWMfksV/PiAbtRZyTDxBbsrSp3zPWzFP+964b7L90S8/0va9t+/4B2Xpnw/INVyTQ25qbUZkhE/5vn3W7U0CrmF8Q+cCTsrKPx+Qiwg55KYse8r3cfcfpzP+ekay7RNcZtbGEVuQZX8+IFcxXInctHnyRUVFMIRXXBwEQASTMkJZIpBFfz4glzHxBOio6upk+FizQGMNHBANJp4A6ZAytd8ubdzcv1sfvX/JJ5GVBaBlXJMDOiJxk+fUgPv5i9L7t3VyggmAUNGTAzpgw5LF2urSxvbUe6Rv/1eSMbUfyEaEHNBO81bM076XNLYX/lYqWZloMLUfyEoMVwLtcMOMG5qsgaufmBJwTO0HshYhB2zB8FuH69y/nZts+573qltx5m7yDKDzQhuuNLNBku6WNEBSg6Qqd7++2T57SbpD0gGSKtz92rDqATqj1TVwhBqQE8K8JlcvaYy7zzKzbSTNNLOn3X1eyj4fSTpP0vEh1gF0Cs+BA3JfaMOV7r7M3WclXq+WNF/SwGb7fODur0jaGFYdQGcQcEA8ZOSanJmVSNpf0vRMfB/QFakBd8DOBxBwQA4LPeTMrEjSw5IucPdVnfyMcjOrMbOaFStWpLdAIGFTw6YmATflyCmaWT4zwooAdFWo6+TMrIeCgKt290c6+znuXiWpSgruXZmm8oCk2k9qNfi3g5PtuWfN1dD+QyOsCEA6hNaTs+A5I7dLmu/uk8P6HqCrbphxQ5OAW1exjoADYiLMntzBkkZLmmtmsxPbxkoqliR3v9nMBkiqkdRHUoOZXSBpn84OawIdtdcNe+mtD99Ktrn+BsRLaCHn7i9IavOpke6+XNKuYdUAtIUZlED8cccT5CUCDsgPhBzyDgEH5A9CDnmFgAPyCyGHvODuTQLukq9fQsABeYDnySH2Vqxdof7X9k+2Xzr9JX1l0FcirAhAphByiLWpC6bqyOojk+1VF63SNr22ibAiAJlEyCG2znz8TN0y85Zkm+FJIP8QcoglJpgAkJh4ghgi4ABsRsghVgg4AKkIOcRGpwOuuloqKZEKCoLf1dVprw1ANAg5xEJqwJ35pTM7FnDl5dLixZJ78Lu8nKADYoKQQ05bvWF1k4B7quwp3XTMTe3/gIoKqa6u6ba6umA7gJzH7ErkrH+/+2999Q9fTbY/+PkH6rd1v459SG1tx7YDyCn05JCTxj03rknANYxv6HjASVJxcce2A8gp9OSQc3a6did9sPaDZLtLMygrK4NrcKlDloWFwXYAOY+eHHKKTbT0BZwklZVJVVXS4MGSWfC7qirYDiDn0ZNDzghtDVxZGaEGxBQ9OeQEFnkD6AxCLt/lwELo1IAb+fmR4QdcDpwTAO3DcGU+27wQevOki80LoaWsGL5bX79evSt7J9v3n3C/Rg0dFe6XZvk5AdAx5p5bwz6lpaVeU1MTdRnxUFIS/E+8ucGDpUWLMl1NE69/8Lq+cNMXku1F5y/S4O0Gh//FWXxOALTOzGa6e2nz7QxX5rMsXQg9ZfqUJgFXP64+MwEnZe05AdA5DFfms+LilnstES6EPuCWA/Tq8leT7YxPMMnCcwKg8+jJ5bPKymDhc6oIF0LbRIs24KSsOycAuoaQy2dZtBA6a5YIZNE5AdB1TDxB5LIm4ADkLCaeICulBtzwgcMJOABpRcghEvUN9U0C7oajbtD0M6ZHWBGAOGJ2JTJu4ccLtfuU3ZPteWfP09799o6wIgBxRU8OGVX9WnWTgFtfsZ6AAxAaenLImGPuO0ZP/OeJZJvrbwDCRsghI5hBCSAKDFcidAQcgKgQcggVAQcgSoQcQpMacLtsswsBByDjCDmknbs3CbhLD7lUSy5cEmFFAPIVE0+QVu+veV8DrhuQbE8/Y7qGDxweYUUA8hkhh7R58j9P6uj7jk62V1+8WkU9iyKsCEC+I+SQFj/+y4/1h9l/SLa5/gYgGxBy6LK+V/XVx+s/TrYJOADZgpBDl7BEAEA2Y3ZlvquulkpKpIKC4Hd1dbuPIeAAZDt6cvmsuloqL5fq6oL24sVBW2r9SdiJY+yXdclNA9ZIy4bdG3KxANBxPBk8n5WUBMHW3ODB0qJFrR5jP2o8Zuw/pcrntnAMAISstSeD05PLZ7W1Hdq+esNq9UkJuH/cIX1jcdvHAECUuCaXz4qL2739lSWvqM+VfZLtD69KCbi2PgsAIkTI5bPKSqmwsOm2wsJge4qrXrhKw29rvGtJw9W91Xdd28cAQDYg5PJZWZlUVRVcTzMLfldVNZl08oWbvqCLnr0o2fYJLqu6tc1jACBbEHJolU00vf7B68l2colAWVkwyaShIfjdUsB1ZmkCAKQZE0/yWRtLCGzBKU127dAauM4sTQCAEITWkzOzQWY2zczmm9kbZnZ+C/uYmU0xswVm9pqZHRBWPWhBRUVjEG1WV9e1gGvjc1VR0YkiAaDzwhyurJc0xt33lnSQpJ+a2T7N9jlK0pDET7mkm0KsB821MO3fLm18XX5AeefuYtLBpQkAEJbQQs7dl7n7rMTr1ZLmSxrYbLeRku72wMuStjOzncOqCc2kTPtf371pwD026jHdcuwtXf7cdm0PE9cGgbyWkYknZlYiaX9J05u9NVDSuynt9/TZIERYEksI3u0j9b6kcfOSkt/p2M8f2+XPbSKKZQabrw0uXiy5N14bJOiAvBF6yJlZkaSHJV3g7quav93CIZ8ZHzOzcjOrMbOaFStWhFFmfior07Ibr1LxhY2bNu1xt3Y57Zwuf+6WliZkBNcGgbwX6r0rzayHpMclTXX3yS28f4uk5939/kT7LUkj3H1Za5/JvSvTZ87yORp2y7BkO3ZPESgoCHpwzZkFyx8AxEZr964Mc3alSbpd0vyWAi7hMUmnJmZZHiTpk7YCDunzxNtPJAPu3OHnxi/gpOy6NgggEmEOVx4sabSkQ81sduLnO2Z2ppmdmdjnSUnvSFog6VZJZ4dYD0XHovcAAA37SURBVBKmTJ+iY+4/RpL0++/8XlOOmhJxRSHJlmuDACIT2mJwd39BLV9zS93HJf00rBrwWWc+fqZumRnMmnyq7CkdsecREVcUos3XACsqguULxcVBwLEgHcgb3PEkjxx020GaviSY4Dr3rLka2n9oxBVlQFkZoQbkMUIuD7i7uk3qJk9MXF0+Zrl2Ktop4qoAIHyEXMytr1+v3pW9k+26sXXq3aN3G0cAQHzwFIIYW7F2RZOA2zR+EwEHIK/kX8jlyW2e5q+Yr/7X9pckDRswTD7BVWD5948bQH7Lr//r5cltnp555xntc2NwL+wfDfuRXv3JqxFXBADRyK+Qy4PbPN0681Ydfs/hkqRrDr9Gfxj5h4grAoDo5NfEk5g/AmbM1DGa/HJwc5lHT35Ux+91fMQVAUC08qsnF+PbPB1292HJgJtZPjOeAZcn11MBpE9+9eQqK4NrcKlDljl+myd313ZXbadVG4IHPLz7s3e1a59dI64qBJuvp27+Z7f5eqrEYm8Arcqvnly2PAImTT7d9KkKJhUkA271xavjGXBSXlxPBZB++RVyUhBoixYFj1pZtChnA+7jdR+r1+W9ku36cfUq6lkUXUFhDyXG/HoqgHDkX8jFwIKPFqjv1X0lSXv23VM+wdWtoFt0BWViaUaMr6cCCA8hl2NeqH1BQ343RJJ00r4n6T/n/ifiipSZoUQemwOgEwi5HHLva/fq63d8XZI0acQkPXjigxFXlJCJocSWrqeedloQpMy2BNAKQi5HjHtunEY/OlqS9MAJD2jcIeMirihFpoYSU6+nVlZKd90V+7vXAOgaQi4HfPfB7+ryf10uSXrp9Jd08tCTI66omSiGEpltCaAd8mudXA7adfKuWrJ6iSRp4fkLVbJdSbQFtSSKJ3Az2xJAOxByWaq+oV49LuuRbK/81Uptu9W2EVa0BZl+AndxcTBE2dJ2AEhguDILrdqwqknAbRy3MbsDLgrMtgTQDoRclqn9pFbbXhkEWv+t+6thfIO6F9Dh/oyY3b0GQDj4v2cWeWXJKxp+23BJ0neGfEdP/OCJiCvKcpkeIgWQc+jJZYk/zftTMuAuOvgiAg4A0oCeXBa44l9XaOxzYyVJd4y8Qz8c9sNoCwKAmCDkInbKI6eoem6wgHnaadM0omREtAUBQIwQchHa+/d7683/vSlJevuctzVkhyERVwQA8ULIRaDBG9RtUuNTAz785Yfq27tvhBUBQDwRchm29tO1Krqi8blvGy7ZoJ7dekZYEQDEF7MrM2jp6qXJgCvsUaiG8Q0EHACEiJDLkNnLZ2vg5IGSpEMGH6K1Y9fKzCKuCgDijZDLgMffflz737K/JOm84efp+R8+H21BAJAnCLmQXf/y9Tr2/mMlSTd+50Zdf9T1EVcEAPmDiSch+slff6KqWVWSpKmnTNW39/h2xBUBQH4h5EIy/NbhemXpK5Kk1896Xfv23zfiigAg/xByaebuKpjUOAq8fMxy7VS0U4QVAUD+IuTSaH39evWu7J1s142tU+8evds4AgAQJiaepMmKtSuaBNym8ZsIOACIGCGXBvNXzFf/a/tLkvYfsL98gqvAOLUAEDX+T9xFz7zzjPa5cR9J0unDTtesn8yKuCIAwGaEXBfcOvNWHX7P4ZKk6759nW4feXvEFQEAUjHxpJMunHqhfvPybyRJfxn1Fx33+eMirggA0Bwh1wmH3X2Ynl34rCRpVvks7b/z/hFXBABoCSHXAe6uPlf20ZpP10iS3vvZexrYZ2DEVQEAWkPItdOnmz5Vr8t7JdtrLl6jrXtuHWFFAIAtIeTa4aN1H2mHq3dItuvH1atbQbc2jgAAZANmV27Bgo8WJAPuczt8Tj7BCTgAyBGEXBv+tfhfGvK7IZKkUUNH6a1z3oq4IgBARxByrbhnzj36xp3fkCRd/s3Ldf8J90dcEQCgo7gm14JLnrtElf+qlCQ9eOKDOmnfkyKuCADQGYRcMyMfGKnH3npMkvTvH/9bB+16UMQVAQA6i5BLMXDyQC1dvVSStPD8hSrZriTaggAAXULISapvqFePy3ok2yt/tVLbbrVthBUBANIhtIknZvYHM/vAzF5v5f3tzexRM3vNzGaY2dCwamnLqg2rmgTcxnEbCTgAiIkwZ1feKenINt4fK2m2u+8n6VRJ14dYS4sWr1ysba8MAm1A0QA1jG9Q9wI6twAQF6GFnLv/U9JHbeyyj6RnE/u+KanEzHYKq57mZiyZoZLrSyRJRw85WsvGLJOZZerrAQAZEOU6uTmSvidJZjZc0mBJu7a0o5mVm1mNmdWsWLGiy1/88LyHdeBtB0qSLv7axXr8B493+TMBANknypC7UtL2ZjZb0rmSXpVU39KO7l7l7qXuXtqvX78uf/EVL1whSbpz5J369bd+3eXPAwBkp8guQLn7Kkk/kiQLxgkXJn5CN/WUqepe0J0JJgAQc5GFnJltJ6nO3T+VdIakfyaCL3Q7FO6w5Z0AADkvtJAzs/sljZC0o5m9J2mCpB6S5O43S9pb0t1mtknSPEk/DqsWAEB+Ci3k3P37W3j/35KGhPX9AADwFAIAQGwRcgCA2CLkAACxRcgBAGKLkAMAxBYhBwCILUIOABBbhBwAILYIOQBAbBFyAIDYIuQAALFFyAEAYouQAwDElrl71DV0iJmtkLQ46jqyzI6S/hd1ETHEeU0/zmk4OK/SYHfv13xjzoUcPsvMaty9NOo64obzmn6c03BwXlvHcCUAILYIOQBAbBFy8VAVdQExxXlNP85pODivreCaHAAgtujJAQBii5DLcmY2yMymmdl8M3vDzM5PbB9mZi+b2WwzqzGz4SnHXGxmC8zsLTM7Irrqs5eZbWVmM8xsTuK8Tkxs72tmT5vZfxK/t085hvO6BW2c12vM7E0ze83MHjWz7VKO4by2obVzmvL+z83MzWzHlG2c083cnZ8s/pG0s6QDEq+3kfS2pH0k/V3SUYnt35H0fOL1PpLmSOolaTdJ/5XULeo/R7b9SDJJRYnXPSRNl3SQpKslXZTYfpGkqzivaTmv35bUPbH9Ks5r189poj1I0lQFa4d35Jx+9oeeXJZz92XuPivxerWk+ZIGSnJJfRK7bStpaeL1SEkPuPsGd18oaYGk4UITHliTaPZI/LiC83dXYvtdko5PvOa8tkNr59Xd/+7u9YntL0vaNfGa87oFbfy7Kkm/kfTLlLbEOW2CkMshZlYiaX8Ff5O7QNI1ZvaupGslXZzYbaCkd1MOey+xDc2YWTczmy3pA0lPu/t0STu5+zIp+AuGpP6J3Tmv7dTKeU11uqS/JV5zXtuhpXNqZsdJWuLuc5rtzjlNQcjlCDMrkvSwpAvcfZWksyT9zN0HSfqZpNs379rC4UyhbYG7b3L3YQp6FcPNbGgbu3Ne26mt82pmFZLqJVVv3tTSR4RfZW5p4ZzuJ6lC0vgWduecpiDkcoCZ9VAQcNXu/khi82mSNr/+oxqHI95TME6/2a5qHMpEC9x9paTnJR0p6X0z21mSEr8/SOzGee2gZudVZnaapGMklXni4pE4rx2Sck5HKrjeNsfMFik4b7PMbIA4p00QclnOzExBL22+u09OeWuppEMSrw+V9J/E68ckjTKzXma2m6QhkmZkqt5cYWb9Ns/wM7Pekg6T9KaC83daYrfTJP0l8Zrz2g6tnVczO1LSryQd5+51KYdwXreglXP6qrv3d/cSdy9REGwHuPtycU6b6B51AdiigyWNljQ3MSYvSWMl/T9J15tZd0nrJZVLkru/YWYPSZqnYFjop+6+KfNlZ72dJd1lZt0U/GXvIXd/3Mz+LekhM/uxpFpJ/ydxXjugtfO6QMFsv6eDv7fpZXc/k/PaLi2e09Z25pw2xR1PAACxxXAlACC2CDkAQGwRcgCA2CLkAACxRcgBAGKLkAMyxMyuMLMRZna8mV3UwWMnmdlhbbx/ppmdmnj9QzPbpav1AnHAEgIgQ8zsOUlHS/q1pD+5+4shfc/zkn7u7jUdOKZbPq+lQnwRckDIzOwaSUeo8bEne0haqCDoJqXst62CR6Ts7u4NZlYo6S1Ju0u6VdLj7v4nM7tS0nEKFvr+3d1/bmaXSlojaZGkOyUtkbRO0lckfVXBTby7S3pF0lnuviFxO6g/KHgMzg0KbkZ9ZuJz57n7qJBOCZAx3PEECJm7/8LM/qjgzjUXKnj238Et7PeJmc1RcLu2aZKOlTTV3Tcm7hIiM+sr6buS9nJ3T334aOIz/mRm5yjRkzOzrRSE3rfc/W0zu1vBzb1/mzhkvbt/LfHZSyXtlgjAJp8L5CquyQGZsb+k2ZL2UnC7pdY8KOnkxOtRiXaqVQpu43abmX1PUp3a9nlJC9397UT7LknfaPZ9m70mqdrMTlHQmwNyHiEHhMjMhiXuOVop6ReSnpB0pJnNTtxst7nHJB2V6LF9SdJzqW8mHjw6XMFTKY6X9NSWStjC+2tTXh8t6feJ752ZuC8qkNMIOSBE7j478RywtyXtoyC0jnD3Ye6+roX91yi4Y/z1Cq7BNZkMkniu4Lbu/qSCB+cOa+FrV0vaJvH6TUklZrZnoj1a0j+aH2BmBZIGufs0BU+a3k5SUUf/vEC24W9qQMjMrJ+kjxOTSfZy97aGK6VgCPGPkka08N42kv6SuNZmCh6Y29ydkm42s80TT34k6Y+Jntkrkm5u4Zhuku5NTH4xSb9JPLsMyGnMrgQAxBbDlQCA2CLkAACxRcgBAGKLkAMAxBYhBwCILUIOABBbhBwAILYIOQBAbP1/hsNNn6eblBQAAAAASUVORK5CYII=\n",
      "text/plain": [
       "<Figure size 504x504 with 1 Axes>"
      ]
     },
     "metadata": {
      "needs_background": "light"
     },
     "output_type": "display_data"
    }
   ],
=======
   "outputs": [],
>>>>>>> Stashed changes
   "source": [
    "x = visitors\n",
    "y = sales\n",
    "n = len(visitors)\n",
    "\n",
    "sample_mean_x = np.mean(x)\n",
    "sample_mean_y = np.mean(y)\n",
    "\n",
    "SSxy = np.sum(x*y)- n*sample_mean_x*sample_mean_y\n",
    "SSxx = np.sum(x*x)- n*sample_mean_x*sample_mean_x\n",
    "SSyy = np.sum(y*y)- n*sample_mean_y*sample_mean_y\n",
    "\n",
    "slope = SSxy/SSxx\n",
    "intercept = sample_mean_y - slope*sample_mean_x\n",
    "noise = SSyy/n - (slope**2)*SSxx/n\n",
    "\n",
    "print (\"mean visitors =\", sample_mean_x)\n",
    "print (\"mean sales =\",sample_mean_y)\n",
    "print ('\\u03B2 =', slope)\n",
    "print ('\\u03B1 =', intercept)\n",
    "print ('\\u03C3\\u00b2 =', noise)\n",
    "\n",
    "y_pred = intercept + slope * x \n",
    "residuals = y - y_pred\n",
    "\n",
    "SSres = np.sum(residuals**2)\n",
    "  \n",
    "SSyy = np.sum((y - sample_mean_y)**2)\n",
    "R2 = 1- (SSres/SSyy)\n",
    "print('R^2 =', R2)\n",
    "\n",
    "plt.figure (figsize = (7,7))\n",
    "plt.scatter(x, y, color = 'red')\n",
    "plt.plot(x, y_pred, color = 'green')\n",
    "plt.xlabel('# visitors')\n",
    "plt.ylabel('sales')\n",
    "plt.show()"
   ]
  },
  {
   "cell_type": "markdown",
   "metadata": {},
   "source": [
    "## (d)\n",
    "\n",
    "Compute the residuals and use them to perform the diagnostics of the fit. What do you conclude?\n"
   ]
  },
  {
   "cell_type": "code",
   "execution_count": null,
   "id": "9f4e6fd6",
   "metadata": {},
<<<<<<< Updated upstream
   "outputs": [
    {
     "data": {
      "image/png": "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\n",
      "text/plain": [
       "<Figure size 432x288 with 1 Axes>"
      ]
     },
     "metadata": {
      "needs_background": "light"
     },
     "output_type": "display_data"
    },
    {
     "data": {
      "image/png": "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\n",
      "text/plain": [
       "<Figure size 432x288 with 1 Axes>"
      ]
     },
     "metadata": {
      "needs_background": "light"
     },
     "output_type": "display_data"
    }
   ],
=======
   "outputs": [],
>>>>>>> Stashed changes
   "source": [
    "plt.scatter(y_pred, residuals)\n",
    "plt.xlabel('fitted')\n",
    "plt.ylabel('residuals')\n",
    "\n",
    "plt.show()\n",
    "\n",
    "probplot(residuals, dist=\"norm\", plot=plt)\n",
    "plt.show()"
   ]
  },
  {
   "cell_type": "markdown",
   "metadata": {},
   "source": [
    "From the plots of the residuals and $R^2$, we can conclude that the model made a good fit for the data."
   ]
  },
  {
   "cell_type": "markdown",
   "metadata": {},
   "source": [
    "## (e)\n",
    "\n",
    " Suppose that an advertisement company is asking you for 450¤ to run a campaign that increases\n",
    "the number of visitors in one day by 20%. Based on your statistical analysis, do you think that\n",
    "this is worth it? In what sense is it indeed/not worth it?"
   ]
  },
  {
   "cell_type": "code",
   "execution_count": null,
   "metadata": {},
   "outputs": [],
   "source": []
  }
 ],
 "metadata": {
  "kernelspec": {
   "display_name": "Python 3",
   "language": "python",
   "name": "python3"
  },
  "language_info": {
   "codemirror_mode": {
    "name": "ipython",
    "version": 3
   },
   "file_extension": ".py",
   "mimetype": "text/x-python",
   "name": "python",
   "nbconvert_exporter": "python",
   "pygments_lexer": "ipython3",
   "version": "3.8.3"
  }
 },
 "nbformat": 4,
 "nbformat_minor": 5
}
