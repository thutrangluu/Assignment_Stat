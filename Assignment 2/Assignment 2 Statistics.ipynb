{
 "cells": [
  {
   "cell_type": "markdown",
   "id": "c4a3d61d",
   "metadata": {},
   "source": [
    "Group 00: Luu Thu Trang (2695303) and Raminta Povilaityte (2692655)"
   ]
  },
  {
   "cell_type": "markdown",
   "id": "566b5cc2",
   "metadata": {},
   "source": [
    "# Checklist:\n",
    "- Prepare your submission using this template;\n",
    "- The content of the cells that you see below are just an example of the format that you should follow;\n",
    "- Fill out the group number, member names and student IDs above;\n",
    "- Adjust assignement number above;\n",
    "- Type up your answers below using Latex and/or Python as exemplified;\n",
    "- Don't add the text of the question below, only your answers;\n",
    "- To create a PDF of your submission go to [File] > [Download as] > [PDF via LaTeX (.pdf)];\n",
    "- Alternatively, go to [File] > [Download as] > [LaTeX (.tex)], and compile the .tex file;\n",
    "- *Delete this cell before creating the PDF*."
   ]
  },
  {
   "cell_type": "markdown",
   "id": "89de299a",
   "metadata": {},
   "source": [
    "# Exercise 1"
   ]
  },
  {
   "cell_type": "markdown",
   "id": "e39469ad",
   "metadata": {},
   "source": [
    "## (a)"
   ]
  },
  {
   "cell_type": "code",
   "execution_count": 9,
   "id": "a725043f",
   "metadata": {},
   "outputs": [
    {
     "data": {
      "image/png": "[encoded data removed]",
      "text/plain": [
       "<Figure size 504x504 with 1 Axes>"
      ]
     },
     "metadata": {
      "needs_background": "light"
     },
     "output_type": "display_data"
    }
   ],
   "source": [
    "import numpy as np\n",
    "import matplotlib.pyplot as plt\n",
    "from scipy.stats import t\n",
    "import math\n",
    "\n",
    "prices = [301.20, 238.82, 252.79, 212.17, 325.43, 245.92, 200.08, 307.88, 193.33, 232.56,\n",
    "243.39, 162.40, 226.75, 231.37, 208.21, 226.49, 297.49, 252.77, 289.41, 283.34,\n",
    "265.80, 280.76, 240.61, 287.22, 216.95, 264.74, 232.78, 204.10, 227.01, 231.31]\n",
    "\n",
    "plt.figure(figsize=(7,7))\n",
    "\n",
    "plt.hist(prices, bins = round((max(prices)-min(prices)) / (0.7*len(prices))))\n",
    "\n",
    "plt.title('Histogram data goat selling price', fontsize='15')\n",
    "plt.xlabel('Prices (in euros)', fontsize='12')\n",
    "plt.ylabel('Data', fontsize='12')\n",
    "\n",
    "plt.show()"
   ]
  },
  {
   "cell_type": "markdown",
   "id": "77630114",
   "metadata": {},
   "source": [
    "The histogram is not symmetric around the mean. And it is not flat around the 2 tails. However we also do not have enough data and information to derive a named distribution for the goat price, so we treat the goat price given as a random sample follows some distribution $F$.\n",
    "\n",
    "So $X_1,...,X_n$ is iid like $X \\sim F$."
   ]
  },
  {
   "cell_type": "markdown",
   "id": "1612653e",
   "metadata": {},
   "source": [
    "## (b)\n",
    "Explain succinctly how the CLT and LLN can be used to derive an approximate pivot for the\n",
    "expectation of the price of one goat."
   ]
  },
  {
   "cell_type": "markdown",
   "id": "d10304e0",
   "metadata": {},
   "source": [
    "Let $F$ has $EX = \\mu$ and $VX = \\sigma^2 $\n",
    "\n",
    "By the LNN we know that\n",
    "$$\\hat{\\mu} = \\bar{X} \\overset{p}{\\to} E{X} = \\mu$$\n",
    "\n",
    "By the CLT we have the following:\n",
    "\n",
    "$$ \n",
    "\\sqrt{n}\\cdot \\frac{(\\bar{X}-\\mu)}{\\sigma} \\approx N(0,1)\n",
    "$$\n",
    "\n",
    "These two properties hold for **any** distribution. Therefore, we can use it to derive an approximate pivot for the expextaion of the price of one goat, even if the distribution $F$ is unknown.\n",
    "\n",
    "In this case, we don't know $\\sigma^2$, so we use an estimate for it. That is the sample variance\n",
    "$S^2 = \\frac{\\sum_{i=1}^{n} (x_i - \\bar{x})^2}{n-1}$\n",
    "\n",
    "Then the pivot is $T = \\sqrt{n}\\cdot \\frac{(\\bar{X}-\\mu)}{S} \\approx t_{n-1}$"
   ]
  },
  {
   "cell_type": "markdown",
   "id": "1db2fd81",
   "metadata": {},
   "source": [
    "## (c)\n",
    "\n",
    "Derive, step-by-step, the expression for a two-sided, 95% confidence interval for the expectation\n",
    "of the price of one goat based on the pivot from (b).\n"
   ]
  },
  {
   "cell_type": "markdown",
   "id": "85ce1409",
   "metadata": {},
   "source": [
    "$$ \n",
    "P(t_{n-1;0,025} \\leq T \\leq t_{n-1,0.975}) = 0.95\n",
    "$$\n",
    "$$\n",
    "= P(t_{n-1;0,025} \\leq \\sqrt{n}\\cdot \\frac{(\\bar{X}-\\mu)}{S} \\leq t_{n-1,0.975}) = 0.95\n",
    "$$\n",
    "$$\n",
    "= P(\\bar{X} - \\frac{S}{\\sqrt{n}}\\cdot t_{n-1;0,025} \\leq \\mu \\leq \\bar{X} +\\frac{S}{\\sqrt{n}}\\cdot t_{n-1;0,025}) = 0.95\n",
    "$$\n",
    "\n",
    "So the 95% confidence interval for the expectation of the price of the goat is \n",
    "$$[\\bar{X} - \\frac{S}{\\sqrt{n}}\\cdot t_{n-1;0,025},\\bar{X} +\\frac{S}{\\sqrt{n}}\\cdot t_{n-1;0,025}]$$"
   ]
  },
  {
   "cell_type": "markdown",
   "id": "8b70ad3c",
   "metadata": {},
   "source": [
    "## (d)\n",
    "\n",
    "Write a Python function that takes the data as input and outputs (the bounds of) the confidence\n",
    "interval from (c).\n"
   ]
  },
  {
   "cell_type": "code",
   "execution_count": 37,
   "id": "ea266bf4",
   "metadata": {},
   "outputs": [
    {
     "name": "stdout",
     "output_type": "stream",
     "text": [
      "246.1026666666667\n",
      "CI is [169.681,322.524]\n"
     ]
    }
   ],
   "source": [
    "def confidenceInterval(data,alpha):\n",
    "    L = np.mean(data) - np.sqrt(np.var(data))*t.ppf(1-alpha/2,len(data)-1)\n",
    "    U = np.mean(data) + np.sqrt(np.var(data))*t.ppf(1-alpha/2,len(data)-1)\n",
    "    return (\"CI is [{:.3f},{:.3f}]\".format(L,U))\n",
    "\n",
    "sample_mean = np.mean(prices)\n",
    "CI = confidenceInterval(prices,0.05)\n",
    "print (sample_mean)\n",
    "print (CI)\n"
   ]
  },
  {
   "cell_type": "markdown",
   "id": "2c1f6f31",
   "metadata": {},
   "source": [
    "## (e)\n",
    "\n",
    "What is the confidence interval that you get for the dataset from above? Is it correct to say that\n",
    "the expectation of the price of one goat belongs to this interval with probability 0.95? Justify\n",
    "your answer."
   ]
  },
  {
   "cell_type": "markdown",
   "id": "159f598e",
   "metadata": {},
   "source": [
    "## (f)\n",
    "\n",
    "Suppose that you have 4000 to spend on goats and the the seller is willing to sell you goats at\n",
    "the expected price but you don’t know in advance what this price is. Based on the information\n",
    "that you got from the confidence interval from (d), how many goats can you confidently expect\n",
    "to be able to purchase? (Please keep in mind that, in polite society, you cannot expect to buy\n",
    "something like 3.62 goats.)\n"
   ]
  },
  {
   "cell_type": "code",
   "execution_count": 38,
   "id": "4996795f",
   "metadata": {},
   "outputs": [
    {
     "name": "stdout",
     "output_type": "stream",
     "text": [
      "The number of goats we can buy is 16\n"
     ]
    }
   ],
   "source": [
    "number_of_goats = math.floor(4000/math.ceil(sample_mean))\n",
    "\n",
    "print(\"The number of goats we can buy is\", number_of_goats)"
   ]
  },
  {
   "cell_type": "markdown",
   "id": "1c5fc79a",
   "metadata": {},
   "source": [
    "# Exercise 2"
   ]
  },
  {
   "cell_type": "markdown",
   "id": "254a343c",
   "metadata": {},
   "source": [
    "## (a)\n",
    "\n",
    "Suppose that you can think of the number of rotten oranges in a given bag as a random sample\n",
    "of size 12 from some population of oranges where an orange is rotten with some (unknown)\n",
    "probability p. If Xi represents the number of rotten oranges in the i-th bag, then what is the\n",
    "distribution of Xi?"
   ]
  },
  {
   "cell_type": "markdown",
   "id": "5fca7ef5",
   "metadata": {},
   "source": [
    "The distribution of $X_i$ could be best expressed as: $\\quad \\quad Hypergeom(N,N*p,12)$<br>\n",
    "<i>where:</i><br> <b>N</b> - \"some population\" of oranges<br>\n",
    "    <b>N*p</b> - number of oranges of the \"population\" that are rotten <br>\n",
    "      <b>p</b> - probability of finding a rotten orange from its \"population\"<br>\n",
    "      <b>12</b> - we sample 12 oranges per bag.</center> <br>\n",
    "      <br>\n",
    "However, since the overall orange \"population\" is <b>very large comparing to the sample size of 12</b> oranges and since, from given data we can tell that p is not very close to neither 0 nor 1, then we can approximate that:<br>\n",
    "           $$Hypergeom(N,N*p,12) \\approx  Bin(12, p) $$ Thus we conclude that :  \n",
    "           $$\\quad X_i \\sim Bin(12, p) $$ \n",
    "       "
   ]
  },
  {
   "cell_type": "markdown",
   "id": "0eb8b4ab",
   "metadata": {},
   "source": [
    "## (b)\n",
    "\n",
    "Suppose that you would find it acceptable to get on average 1 rotten orange per bag. How\n",
    "would you pick p0 in a null hypothesis of the type H0 : p = p0 to reflect this?"
   ]
  },
  {
   "cell_type": "markdown",
   "id": "0d73a7cb",
   "metadata": {},
   "source": [
    "Suppose we expect on average 1 rotten orange per bag i : $$E(X_i) = 1$$  <br>\n",
    "Using Binomial distribution expectation formula: $$E(X_i)= n*p$$ \n",
    "We get the following expression : $$E(X_i)= 12*p= 1$$\n",
    "Solving the later expression for p we get $$p=p_0 = \\frac{1}{12}$$\n",
    "Therefore null hypothesis for this test: $$ H_0 : p=\\frac{1}{12}$$"
   ]
  },
  {
   "cell_type": "markdown",
   "id": "f1614a98",
   "metadata": {},
   "source": [
    "## (c)\n",
    "\n",
    "Which alternative hypothesis would you pick so that if you reject the null from (b) you can\n",
    "conclude that (at a certain significance level) there is, on average, more that one rotten orange\n",
    "per bag of 12?"
   ]
  },
  {
   "cell_type": "markdown",
   "id": "a35877c4",
   "metadata": {},
   "source": [
    "Since we want to establish whether on average there's more than one rotten orange per bag, we must establish an alternative hypotesis to check whether the probability of finding the rotten fruit is indeed larger than that, which would result with an acceptable average of 1 rotten fruit per bag. Therefore, an appropriate alterative hypothesis for this statistical test is:\n",
    "$$H_1: p>\\frac{1}{12}$$"
   ]
  },
  {
   "cell_type": "markdown",
   "id": "bb987a38",
   "metadata": {},
   "source": [
    "## (d)\n",
    "\n",
    "Suppose that you use the following rejection rule; you reject H0 at significance level α if\n",
    "T =\n",
    "Xn\n",
    "i=1\n",
    "Xi > Cα,\n",
    "where Cα is some appropriately chosen critical value. (n = 10 here.) What is the distribution\n",
    "of T under the null hypothesis from (b)?\n"
   ]
  },
  {
   "cell_type": "markdown",
   "id": "d54b6755",
   "metadata": {},
   "source": [
    "Given the rejection rule for null hypothesis is:\n",
    "$$ T = \\sum_{i=1}^{n} X_i\\ > C_\\alpha$$ \n",
    "It is known that the sum of independent, identicaly distributed binomial random variables is binomially distributed: \n",
    "$$ X_1+X_2+...+X_n \\sim Bin(n*12, p)$$\n",
    "in our case n = 10, therefore we find T distribution to be: \n",
    "$$T \\sim Bin(10*12, p) = Bin(120,n)$$"
   ]
  },
  {
   "cell_type": "markdown",
   "id": "0dc673c8",
   "metadata": {},
   "source": [
    "## (e)\n",
    "\n",
    "Write a function in Python that takes in p0, α ∈ (0, 1) and n ∈ N as input, and outputs the\n",
    "respective critical value Cα. Suppose that you take α = 0.05; what is the respective Cα? What\n",
    "is the conclusion of the test?"
   ]
  },
  {
   "cell_type": "code",
   "execution_count": 28,
   "id": "2efcdf32",
   "metadata": {
    "scrolled": false
   },
   "outputs": [
    {
     "name": "stdout",
     "output_type": "stream",
     "text": [
      "The critical value is 15.0\n"
     ]
    }
   ],
   "source": [
    "from scipy.stats import binom\n",
    "from scipy.stats import norm\n",
    "import numpy as np\n",
    "\n",
    "def criticalValue (p,alpha,n):\n",
    "    c = binom.ppf(1-alpha,n*12, p)\n",
    "    return c\n",
    "\n",
    "c = criticalValue(1/12, 0.05, 10)\n",
    "print (\"The critical value is\", np.round(c))"
   ]
  },
  {
   "cell_type": "markdown",
   "id": "efaccde8",
   "metadata": {},
   "source": [
    "## (f)\n",
    "\n",
    "Write a function that takes in p ∈ (0, 1) and n ∈ N as input, and outputs the respective power\n",
    "of the test. Plot the power of the test as a function of p for n = 10, and for n = 20. Answer the\n",
    "following: (i) why are both curves below 0.05 at p = p0? and (ii) how do the two power curves\n",
    "compare to one another and why?"
   ]
  },
  {
   "cell_type": "code",
   "execution_count": 26,
   "id": "99e90fc1",
   "metadata": {
    "scrolled": true
   },
   "outputs": [
    {
     "data": {
      "image/png": "[encoded data removed]",
      "text/plain": [
       "<Figure size 576x360 with 1 Axes>"
      ]
     },
     "metadata": {
      "needs_background": "light"
     },
     "output_type": "display_data"
    }
   ],
   "source": [
    "def powerOfTest (n, p):\n",
    "    critical = criticalValue(1/12, 0.05, n)\n",
    "    index = 1\n",
    "    power = 1\n",
    "    while index <= critical:\n",
    "        power -= binom.pmf(index, n*12,p)\n",
    "        index +=1\n",
    "    return power\n",
    "\n",
    "x_1 = np.linspace(0.00001,0.5,100)\n",
    "y_1 = np.linspace(0.00001,1,100)\n",
    "alpha = np.ones(100)*0.05\n",
    "p0 = np.ones(100)*(1/12)\n",
    "\n",
    "plt.figure(figsize=(8,5))\n",
    "plt.plot(x_1,powerOfTest(10,x_1),label='Power n=10')\n",
    "plt.plot(x_1,powerOfTest(20,x_1),label='Power n=20')\n",
    "plt.plot(x_1, alpha, label = 'Significance level 0.05')\n",
    "plt.plot(p0, y_1, label = 'Probability under null')\n",
    "plt.title(r'Power of the test comparison with Critical value C$_\\alpha$')\n",
    "plt.xlabel('Probability to find rotten orange (p)')\n",
    "plt.ylabel('Power of test ($\\pi$)')\n",
    "plt.legend() \n",
    "plt.show()\n"
   ]
  },
  {
   "cell_type": "markdown",
   "id": "fcc07766",
   "metadata": {},
   "source": [
    "# Excercise 3"
   ]
  },
  {
   "cell_type": "markdown",
   "id": "51f5f3c8",
   "metadata": {},
   "source": [
    "## (a) \n",
    "\n",
    "Make a scatterplot of the (x, y) pairs"
   ]
  },
  {
   "cell_type": "code",
   "execution_count": 8,
   "id": "3d883ac3",
   "metadata": {},
   "outputs": [
    {
     "data": {
      "image/png": "[encoded data removed]",
      "text/plain": [
       "<Figure size 504x504 with 1 Axes>"
      ]
     },
     "metadata": {
      "needs_background": "light"
     },
     "output_type": "display_data"
    }
   ],
   "source": [
    "import matplotlib.pyplot as plt\n",
    "import numpy as np\n",
    "\n",
    "visitors = np.array([288, 351, 332, 268, 289, 319, 300, 298, 295, 287, 284, 297, 302, 294, 284, 299, 298,\n",
    "350, 308, 284, 295, 307, 338, 311])\n",
    "sales = np.array([ 1.968, 2.472, 2.286, 1.980, 2.004, 2.290, 2.054, 2.135, 2.125, 2.016, 2.016, 1.998,\n",
    "2.113, 1.973, 2.004, 2.069, 2.154, 2.388, 2.125, 2.054, 1.963, 2.207, 2.342, 2.168])\n",
    "\n",
    "plt.figure (figsize = (7,7))\n",
    "plt.plot (visitors, sales, \".\")\n",
    "plt.title('Scatter plot of (x,y) pairs', fontsize='15')\n",
    "plt.xlabel('# visitors', fontsize='12')\n",
    "plt.ylabel('Sales (in euros)', fontsize='12')\n",
    "plt.show()"
   ]
  },
  {
   "cell_type": "markdown",
   "id": "f7d996f0",
   "metadata": {},
   "source": [
    "## (b)\n",
    "\n",
    "Write down the modelling equations that you use to regress the sales linearly on the number of\n",
    "visitors. What do you need to assume on the noise terms in the modelling equations in order\n",
    "to use the SLR model?"
   ]
  },
  {
   "cell_type": "markdown",
   "id": "75b0958a",
   "metadata": {},
   "source": [
    "Equation: \n",
    "\n",
    "$$ Y_i = \\alpha + \\beta * X_i +\\sigma * \\epsilon_i  \n",
    "\\quad for \\: i = 1,...,n $$\n",
    "\n",
    "Where for idependent $\\epsilon_1, ..., \\epsilon_n$, $ {E}(\\epsilon_i) = 0, {V}(\\epsilon_i) = 1$"
   ]
  },
  {
   "cell_type": "markdown",
   "id": "bb62f247",
   "metadata": {},
   "source": [
    "## (c)\n",
    "\n",
    "Using the expressions that we derived in class, estimate the parameters of the model – i.e., the\n",
    "intercept α, the slope β, and the variance σ^2 – from the data. Make a plot of the data and the\n",
    "respective regression line."
   ]
  },
  {
   "cell_type": "code",
   "execution_count": 25,
   "id": "36a3244c",
   "metadata": {},
   "outputs": [
    {
     "name": "stdout",
     "output_type": "stream",
     "text": [
      "mean visitors = 303.25\n",
      "mean sales = 2.121\n",
      "β = 0.0063335448289326\n",
      "α = 0.20035253062618907\n",
      "σ² = 0.20035253062618907\n"
     ]
    },
    {
     "data": {
      "image/png": "[encoded data removed]",
      "text/plain": [
       "<Figure size 504x504 with 1 Axes>"
      ]
     },
     "metadata": {
      "needs_background": "light"
     },
     "output_type": "display_data"
    }
   ],
   "source": [
    "x = visitors\n",
    "y = sales\n",
    "n = len(visitors)\n",
    "\n",
    "sample_mean_x = np.mean(x)\n",
    "sample_mean_y = np.mean(y)\n",
    "\n",
    "SSxy = np.sum(x*y)- n*sample_mean_x*sample_mean_y\n",
    "SSxx = np.sum(x*x)- n*sample_mean_x*sample_mean_x\n",
    "SSyy = np.sum(y*y)- n*sample_mean_y*sample_mean_y\n",
    "\n",
    "slope = SSxy/SSxx\n",
    "intercept = sample_mean_y - slope*sample_mean_x\n",
    "noise = SSyy/n - (slope**2)*SSxx/n\n",
    "\n",
    "print (\"mean visitors =\", sample_mean_x)\n",
    "print (\"mean sales =\",sample_mean_y)\n",
    "print ('\\u03B2 =', slope)\n",
    "print ('\\u03B1 =', intercept)\n",
    "print ('\\u03C3\\u00b2 =', intercept)\n",
    "\n",
    "y_pred = intercept + slope * x \n",
    "residuals = y - y_pred\n",
    "\n",
    "plt.figure (figsize = (7,7))\n",
    "plt.scatter(x, y, color = 'red')\n",
    "plt.plot(x, y_pred, color = 'green')\n",
    "plt.xlabel('# visitors')\n",
    "plt.ylabel('sales')\n",
    "plt.show()"
   ]
  },
  {
   "cell_type": "markdown",
   "id": "544986f5",
   "metadata": {},
   "source": [
    "## (d)\n",
    "\n",
    "Compute the residuals and use them to perform the diagnostics of the fit. What do you conclude?\n"
   ]
  },
  {
   "cell_type": "code",
   "execution_count": 43,
   "id": "9f4e6fd6",
   "metadata": {},
   "outputs": [
    {
     "data": {
      "image/png": "[encoded data removed]",
      "text/plain": [
       "<Figure size 432x288 with 1 Axes>"
      ]
     },
     "metadata": {
      "needs_background": "light"
     },
     "output_type": "display_data"
    },
    {
     "name": "stdout",
     "output_type": "stream",
     "text": [
      "[-5.64134414e-02  4.85732344e-02 -1.70894138e-02  8.22574552e-02\n",
      " -2.67469862e-02  6.92466689e-02 -4.64159793e-02  4.72511104e-02\n",
      "  5.62517448e-02 -2.07989653e-03  1.69207380e-02 -8.34153448e-02\n",
      " -8.30689638e-05 -8.94147103e-02  4.92073796e-03 -2.50824345e-02\n",
      "  6.62511104e-02 -2.90932208e-02 -2.60843379e-02  5.49207380e-02\n",
      " -1.05748255e-01  6.22492069e-02  9.09317195e-04 -2.08497242e-03]\n"
     ]
    }
   ],
   "source": [
    "plt.scatter(y_pred, residuals)\n",
    "plt.xlabel('fitted')\n",
    "plt.ylabel('residuals')\n",
    "plt.show()\n",
    "\n",
    "print(residuals)"
   ]
  },
  {
   "cell_type": "markdown",
   "id": "8cb9c9e2",
   "metadata": {},
   "source": [
    "## (e)\n",
    "\n",
    " Suppose that an advertisement company is asking you for 450¤ to run a campaign that increases\n",
    "the number of visitors in one day by 20%. Based on your statistical analysis, do you think that\n",
    "this is worth it? In what sense is it indeed/not worth it?"
   ]
  }
 ],
 "metadata": {
  "kernelspec": {
   "display_name": "Python 3",
   "language": "python",
   "name": "python3"
  },
  "language_info": {
   "codemirror_mode": {
    "name": "ipython",
    "version": 3
   },
   "file_extension": ".py",
   "mimetype": "text/x-python",
   "name": "python",
   "nbconvert_exporter": "python",
   "pygments_lexer": "ipython3",
   "version": "3.8.8"
  }
 },
 "nbformat": 4,
 "nbformat_minor": 5
}
