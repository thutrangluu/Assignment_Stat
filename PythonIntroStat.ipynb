{
 "cells": [
  {
   "cell_type": "markdown",
   "metadata": {},
   "source": [
    "# Introduction to Python for (Probability and) Statistics\n",
    "*Paulo Serra (VU, Amsterdam), 2021, version 1.0.*"
   ]
  },
  {
   "cell_type": "markdown",
   "metadata": {},
   "source": [
    "## Before you start\n",
    "\n",
    "Before you start reading this guide, you should get acquainted with the user interface of Jupyter Notebook. \n",
    "Click the menu **[Help]** on the top right and select **[User interface tour]** and follow the instructions. \n",
    "I suggest that you also have a look at **[Help]** and then **[Keyboard Shortcuts]**. \n",
    "These are quite useful to perform tasks quicker."
   ]
  },
  {
   "cell_type": "markdown",
   "metadata": {},
   "source": [
    "## Writing and running code and text on Jupyter Notebook\n",
    "Code on Jupyter Notebook is organised into **Cells**. \n",
    "Each cell can contain several lines of content. \n",
    "Cells are a nice way of organising your code by splitting it into blocks. \n",
    "\n",
    "Jupyter Notebook has two modes: **Command mode** and **Edit mode**. \n",
    "You can go into edit mode on an active notebook by hitting the **[Enter]** key, and you can go into command mode by hitting the **[esc]** key. \n",
    "This is reflected by the colour of the cell where you can enter code being blue (while in command mode) or green (while in edit mode). \n",
    "You can also just click the content of a cell to go into edit mode. \n",
    "\n",
    "In edit mode, you can alter the content of a cell, while command mode is used when running the content of the cell.\n",
    "\n",
    "### Markdown cells\n",
    "Cells can contain things other than code such as text with instructions or comments on the code, conclusions that you draw based on outputs, to-do lists, etc. \n",
    "You can use Jupyter Notebook to essentially write up a report whose results can be reproduced and checked by the reader; *reproducibility* of results is crucial for good science. \n",
    "\n",
    "Markdown is a way of creating formatted text using plain text. \n",
    "You can change the type of a cell to markdown by clicking the menu **[Cell]** and choosing **[Cell type]** and then **[Markdown]**. \n",
    "You can also change the type of the cell with the drop down menu next to the icons above.\n",
    "The first five cells in this notebook are of the markdown type, while the fifth (now empty) is of the Code type. \n",
    "The fourth cell looks different from the preceeding ones because the markdown on it hasn't been run yet. \n",
    "\n",
    "Some examples of markdown code:\n",
    "1. text sandwiched between \\* gets outputted as italic; \n",
    "2. text sandwiched between \\** gets outputted in bold;\n",
    "3. adding \\#, \\##, etc., followed by a space at the start of a line gives you headers,  sub-headers, etc.;\n",
    "\n",
    "You can easily find other markdown commands by searching online.\n",
    "\n",
    "You can also add Latex code to a markdown cell by sandwiching it between \\$\\$. \n",
    "If you are unfamiliar with Latex, it is another form of markdown that easily allows you to type up nicely formatted math formulas and is often used in professionally typeset scientific documents.\n",
    "\n",
    "HTML is another type of markdown that you can add to your notebooks to get extra functionality like centering, adding links to webpages, etc.\n",
    "\n",
    "### Further reading\n",
    "The Jupyter Notebook website contains notebooks that show you examples of many other things you can do within a Jupyter Notebook. \n",
    "Have a look at it to learn more. \n",
    "You can also easily find lots of resourses about markdown and Latex online.\n",
    "\n",
    "\n",
    "👉🏻 Try adding some markdown and Latex below the text that is already in the cell right below and running it:\n",
    "1. add:\n",
    "<p style=\"text-align: center;\"><b>Example of some *Latex* code in a *Markdown* cell:</b></p>\n",
    "\n",
    "2. add: \n",
    "<p style=\"text-align: center;\"><b>\\$\\$e^{i\\pi}+1=0.\\$\\$</b></p>\n",
    "\n",
    "3. now run the code on that cell by hitting the **[> Run]** button above with the cell selected (green highlight to the left); pretty fancy, right?"
   ]
  },
  {
   "cell_type": "markdown",
   "metadata": {},
   "source": [
    "#### An example of some *Latex* code in Jupyter Notebook:\n",
    "Example of some *Latex* code in a *Markdown* cell:\n",
    "$$e^{i\\pi}+1=0$$"
   ]
  },
  {
   "cell_type": "markdown",
   "metadata": {},
   "source": [
    "## Getting started and getting help\n",
    "With this cell selected, click **[Insert]** and then **[Insert Cell Below]** to get a new cell below this one. \n",
    "By default, a new cell is a **Code** cell. \n",
    "Also by default, this new cell is now highlighed in blue (command mode).\n",
    "\n",
    "\n",
    "👉🏻 Click on the newly created cell (or hit **[Enter]**) to go into edit mode, type \n",
    "\n",
    "<p style=\"text-align: center;\"><b>print(\"Hello world\")</b></p>\n",
    "\n",
    "and run the cell.\n",
    "\n",
    "\n",
    "The command **print** is followed by **(...)** which indicates that it is a function. The **...** are arguments or inputs that you pass to the function. \n",
    "The **print** function, in particular, takes a string (a sequence of characters which is always sandwiched in **\"...\"** or **'...'**) as an argument between quotation marks. \n",
    "It then outputs that string. \n",
    "\n",
    "💡 You can get help on any function by running **?...**, e.g., **?print**. \n",
    "This will tell you what inputs the function expects and what outputs it produces."
   ]
  },
  {
   "cell_type": "markdown",
   "metadata": {},
   "source": [
    "You can see that the output of the code in your cell is reported below the cell and you can have several **print** commands in one cell if you want to report several outputs for that cell.\n",
    "\n",
    "After running, you'll see **In [1]:** to the top left of the cell, and below the cell the output **Hello world**. \n",
    "Run the cell again; you'll now see **In [2]:**.\n",
    "\n",
    "Each line of code represents and instruction and running instructions in different orders leads to different outputs (or errors) so the numbers inside the **[ ]** are handy to keep track of the order in which you ran you blocks of code.\n",
    "\n",
    "While a cell is still running the cell will be tagged as **[\\*]**. \n",
    "You will only ever see this when running a cell that contains code that takes a long time to run. \n",
    "If a cell takes too long to run there might be a problem and you can interrupt the execution by clicking **[Kernel]** and **[Interrupt]**.\n",
    "\n",
    "💡 **This gets out of the way all of the basics of using Jupyter Notebook.\n",
    "From this point onwards all the content of the guide is about Python.**"
   ]
  },
  {
   "cell_type": "markdown",
   "metadata": {},
   "source": [
    "## Simple data input and manipulation\n",
    "You can use Python to do some arithmetic.\n",
    "\n",
    "👉🏻 Run the code in the following cell:"
   ]
  },
  {
   "cell_type": "code",
   "execution_count": null,
   "metadata": {},
   "outputs": [],
   "source": [
    "print(3+1,3**2,2*3-1)"
   ]
  },
  {
   "cell_type": "markdown",
   "metadata": {},
   "source": [
    "The results should be self evivent except maybe the use symbol **\\**** which represents taking a power. \n",
    "It might be a good point to mention that a lot of things in Phython can be done in multiple ways. \n",
    "Running the function **pow(3,2)** is the same as doing **3\\*\\*2**. \n",
    "Calling **?pow** by running the cell below will point this out to you.\n",
    "\n",
    "👉🏻 Run the code in the following cell:"
   ]
  },
  {
   "cell_type": "code",
   "execution_count": null,
   "metadata": {},
   "outputs": [],
   "source": [
    "# how to get help:\n",
    "?pow"
   ]
  },
  {
   "cell_type": "markdown",
   "metadata": {},
   "source": [
    "First note that Python ignored the line starting with \\#: this is how we add comments to code.\n",
    "\n",
    "From the description of the function **pow** you can see that it expects arguments **base** and **exp** (we return later to what \"mod=None\" means when we talk about creating your own functions; for now just pretend it's not there.)\n",
    "\n",
    "👉🏻 Run the code in the following cell:"
   ]
  },
  {
   "cell_type": "code",
   "execution_count": null,
   "metadata": {},
   "outputs": [],
   "source": [
    "print(pow(3,2))"
   ]
  },
  {
   "cell_type": "markdown",
   "metadata": {},
   "source": [
    "Like with the **print** function, **()** indicates that **pow** is a function and takes in some arguments: 3 - the base - and 2 - the exponent; you can see this from the documentation.\n",
    "When you run **pow(3,2)** it will assume that you want to set **base=3**, and **exp=2**. \n",
    "\n",
    "You can also just specify what input gets assigned to what argument. \n",
    "In fact, if you want to pass the inputs to the function in an order other than the one specified in the definition of the function, then you *need* to do this - Python can't guess what order you mean.\n",
    "\n",
    "👉🏻 Run the code in the following cell to produce the same output as in the previous:"
   ]
  },
  {
   "cell_type": "code",
   "execution_count": null,
   "metadata": {},
   "outputs": [],
   "source": [
    "print(pow(exp=2, base=3))"
   ]
  },
  {
   "cell_type": "markdown",
   "metadata": {},
   "source": [
    "Note that, contrary to the **print** function, the **pow** function (like most functions) produces an **Out [...]** label for the output in red. \n",
    "Also, contrary to the print function, if you run more than one computation in a code block, only the last computation is reported. \n",
    "\n",
    "Adding **;** at the end of a command suppresses the output.\n",
    "\n",
    "👉🏻 Run the code in the following two cells:"
   ]
  },
  {
   "cell_type": "code",
   "execution_count": null,
   "metadata": {},
   "outputs": [],
   "source": [
    "2**2\n",
    "2**3"
   ]
  },
  {
   "cell_type": "code",
   "execution_count": null,
   "metadata": {},
   "outputs": [],
   "source": [
    "2**2\n",
    "2**3;"
   ]
  },
  {
   "cell_type": "markdown",
   "metadata": {},
   "source": [
    "Intermediate computations in a code block are, in some sense, lost so you can store intermediate computations in objects called variables.\n",
    "\n",
    "👉🏻 Run the code in the following two cells:"
   ]
  },
  {
   "cell_type": "code",
   "execution_count": null,
   "metadata": {},
   "outputs": [],
   "source": [
    "x = 2\n",
    "y = 3\n",
    "w = z = 1"
   ]
  },
  {
   "cell_type": "code",
   "execution_count": null,
   "metadata": {},
   "outputs": [],
   "source": [
    "print(x,y,w,z)"
   ]
  },
  {
   "cell_type": "markdown",
   "metadata": {},
   "source": [
    "The numbers **2** and **3** are now stored in variables **x** and **y** which are now stored in memory and can be reused in later cells. \n",
    "Note that if you had run the cell containing the **print** command before the one above you would get an error since the the values **2** and **3** would not have been stored into the variables **x** and **y** yet.\n",
    "\n",
    "The error that you would have get would have been **name 'x' is not defined** since Python does not know what **x** is (yet). \n",
    "It is important to read errors carefully to see what went wrong.\n",
    "\n",
    "In the previous block you also saw that you can assign the same value to two (or more!) variables at the same time with **w = z = 1**."
   ]
  },
  {
   "cell_type": "markdown",
   "metadata": {},
   "source": [
    "### 📝 Solve the following exercises in the cell below:\n",
    "\n",
    "In each of the following exercises I ask you to make a computation.\n",
    "Store the results of each computation in variables **e1**, **e2**, ... and print them all at the end.\n",
    "(Remember that you can ask for help with **?...**, and searching online is often helpful.)\n",
    "\n",
    "**(1)** \n",
    "Compute the volume of a cube with edges of length $s=10$.\n",
    "\n",
    "**(2)** \n",
    "Suppose that you put $c=5$€ in the bank.\n",
    "You get an interest rate of $r=0.5\\%$ per month so that after one month your $5$€ turn into $(5 + 5\\times 0.5/100)$€.\n",
    "How much money will you have after $m=6$ months?\n",
    "\n",
    "**(3)** \n",
    "How much would you have earned **in interest** if instead you kept the money in the bank for $n=10$ years?\n"
   ]
  },
  {
   "cell_type": "code",
   "execution_count": null,
   "metadata": {},
   "outputs": [],
   "source": []
  },
  {
   "cell_type": "markdown",
   "metadata": {},
   "source": [
    "## Structures for storing information\n",
    "\n",
    "### Lists\n",
    "\n",
    "We often want to store and manipulate collection of objects. \n",
    "Lists can be used for this purpose and are created using **[...]**. \n",
    "You can create an empty list with **[]** or **list()**.\n",
    "\n",
    "Note that different types of objects can be collected in a list.\n",
    "\n",
    "👉🏻 Run the code in the following cell:"
   ]
  },
  {
   "cell_type": "code",
   "execution_count": null,
   "metadata": {},
   "outputs": [],
   "source": [
    "x = [\"apple\", 123, False]\n",
    "print(x)"
   ]
  },
  {
   "cell_type": "markdown",
   "metadata": {},
   "source": [
    "You can concatenate lists using the **+** sign.\n",
    "\n",
    "👉🏻 Run the code in the following cell:"
   ]
  },
  {
   "cell_type": "code",
   "execution_count": null,
   "metadata": {},
   "outputs": [],
   "source": [
    "[\"apple\"] + [\"orange\"]"
   ]
  },
  {
   "cell_type": "markdown",
   "metadata": {},
   "source": [
    "Perhaps a bit confusingly, entries of a list can be accessed with **[...]**; don't confuse this wit hthe list itself.\n",
    "\n",
    "The first entry of a list corresponds to index 0 (not 1.)\n",
    "This is quite common in programming languages.\n",
    "\n",
    "The function **len** gives us the length of a list.\n",
    "\n",
    "👉🏻 Run the code in the following cell:"
   ]
  },
  {
   "cell_type": "code",
   "execution_count": null,
   "metadata": {},
   "outputs": [],
   "source": [
    "x = [\"apple\", \"cherry\", \"strawberry\", \"banana\", \"kiwi\"]\n",
    "print(x[0])\n",
    "print(len(x))"
   ]
  },
  {
   "cell_type": "markdown",
   "metadata": {},
   "source": [
    "So \"pineapple\" ocupies the 0-th entry of the list x. \n",
    "Quite often we want to extract several entries of a list. \n",
    "The following are common ways of accessing some of the entries of a list.\n",
    "\n",
    "👉🏻 Run the code in the following cell:"
   ]
  },
  {
   "cell_type": "code",
   "execution_count": null,
   "metadata": {},
   "outputs": [],
   "source": [
    "print(x[0:2])\n",
    "print(x[-1])\n",
    "print(x[-1] == x[len(x)-1])\n",
    "print(x[-3:-1])\n",
    "print(x[-3:])\n",
    "print(x[:2])\n",
    "print(x[0::2])\n",
    "print(x[3:1:-1])\n",
    "# print(x[5])"
   ]
  },
  {
   "cell_type": "markdown",
   "metadata": {},
   "source": [
    "Lets unpack that:\n",
    "- The operator **:** as in **0:2** gives us all indices from 0 to 2 *excluding* 2, so first index is *inclusive* and the second *exclusive*;\n",
    "- The index -1 indicates the last element of the list; this is quite handy since you don't need to know the length of the list. (It might now be clearer why we start counting at 0; to be consistent the last entry would have to be -0 but that is equal to 0);\n",
    "- **-3:-1** indexes the third entry from the end up to (but excluding) the last;\n",
    "- **-3:** indexes the third entry from the end up to the end of the list;\n",
    "- **:2** indexes all entries up to (but excluding) the one with index 2 (third entry);\n",
    "- The format **a:b:c** gives every **c**-th index from **a** up to (but excluding **b**), so **0::2** gives every second index from the first to the end, so that **0::2** gives indices **[0, 2, 4]**. Note that **0::2** is the same as **::2**, and **0::1** is the same as **0:** or just **:** (or **::**) which means all.\n",
    "- Negative steps are allowed, so **3:1:-1** starts at index **3** and goes down one by one to index **1** (exclusive). Doing **::-1**, for instance, reverses the list.\n",
    "- if you try to access an non-existant index then you get the error \"list index out of range\";\n",
    "\n",
    "Another useful thing to know is that Python treats strings as lists of characters so that you can also use the indexing from above on a string to manipulate them.\n",
    "\n",
    "👉🏻 Think about the outcomes for the code in the following cell and then run the cell:"
   ]
  },
  {
   "cell_type": "code",
   "execution_count": null,
   "metadata": {},
   "outputs": [],
   "source": [
    "print(\"banana\"[::-1])\n",
    "print(\"banana\"[2:])\n",
    "print(\"banana\"[1::2])"
   ]
  },
  {
   "cell_type": "markdown",
   "metadata": {},
   "source": [
    "Unfortunately, getting elements corresponding to abribrary indices (i.e., indices that are not expressable in terms of the **::** operator) from a list is not so straightforward. \n",
    "(We will return to this after we discuss **for** loops.) \n",
    "That, plus the fact that large lists can be rather slow to work with makes **arrays** a more attactive structure. (We discuss arrays later on when we talk about the NumPy library.) \n",
    "However, lists still have many uses and it is essential that you know how to work with them.\n",
    "\n",
    "We now move on to so called **methods**. \n",
    "We can use methods to modify objects like lists. \n",
    "These are of the form **.method_name(arguments)** and you can think of them as a special function that either modifies what comes before it or uses what comes before it as an argument.\n",
    "\n",
    "Methods often make code more readable since they can be stacked.\n",
    "We could define a function **function(input, args)** that just returns **input.method(args)** so it may seem that methods are redundant.\n",
    "However, imagine that you want to apply several methods sequentially;\n",
    "while using methods **input.method1(args1).method2(args2).method3(args3)** is quite readable, the equivalent code using functions **function3(function2(function1(input,args1),args2),args3)** seems more challenging to parse visually...\n",
    "\n",
    "👉🏻 Run the code in the following cell for some examples of methods to modify lists:"
   ]
  },
  {
   "cell_type": "code",
   "execution_count": null,
   "metadata": {},
   "outputs": [],
   "source": [
    "x = [\"apple\", \"kiwi\"]\n",
    "x.insert(0,\"pineapple\")\n",
    "print(x)\n",
    "\n",
    "x.append(\"melon\")\n",
    "print(x)\n",
    "\n",
    "x.extend([\"cherry\", \"tomato\"])\n",
    "print(x)\n",
    "\n",
    "x.append([\"banana\", \"strawberry\"])\n",
    "print(x)"
   ]
  },
  {
   "cell_type": "markdown",
   "metadata": {},
   "source": [
    "Lets unpack that:\n",
    "- **.insert** adds exactly one element to a given position in the list;\n",
    "- **.append** adds exactly one element to the end of the list;\n",
    "- to append more than one element at a time, you use **.extend**;\n",
    "- note that using append does not do what we want. Rather than adding the new elements at the end of the list, it adds a list at the end of the list: we now have a list in our list.\n",
    "\n",
    "We messed up our list so it is also useful to lear about how to remove elements from a list.\n",
    "\n",
    "👉🏻 Run the code in the following cell:"
   ]
  },
  {
   "cell_type": "code",
   "execution_count": null,
   "metadata": {},
   "outputs": [],
   "source": [
    "print(x)\n",
    "\n",
    "x.pop()\n",
    "print(x)\n",
    "\n",
    "fruit = x.pop()\n",
    "print(fruit)\n",
    "print(x)\n",
    "\n",
    "x.remove(\"kiwi\")\n",
    "print(x)"
   ]
  },
  {
   "cell_type": "markdown",
   "metadata": {},
   "source": [
    "Lets unpack that:\n",
    "- **.pop** removes the last element of the list, so we are back to a list of strings;\n",
    "- **.pop** actually returns the value that got popped;\n",
    "- we can also remove a specific entry of the list using **.remove**;\n",
    "\n",
    "Other useful methods for lists are **.sort**, **.reverse**. Their use is self-evident.\n",
    "\n",
    "👉🏻 Run the code in the following cell:"
   ]
  },
  {
   "cell_type": "code",
   "execution_count": null,
   "metadata": {},
   "outputs": [],
   "source": [
    "print(x)\n",
    "\n",
    "x.sort()\n",
    "print(x)\n",
    "\n",
    "x.reverse()\n",
    "print(x)"
   ]
  },
  {
   "cell_type": "markdown",
   "metadata": {},
   "source": [
    "There are many other methods that can be applied to lists. \n",
    "If you want to see what methods can be applied to x just type **x.** and hit **[Tab]**; this brings up a list of allowed methods. \n",
    "(This works for other types of objects as well, not just a variable continings a list.)\n",
    "\n",
    "👉🏻 Try looking up methods available for **x** in the cell below:"
   ]
  },
  {
   "cell_type": "code",
   "execution_count": null,
   "metadata": {},
   "outputs": [],
   "source": []
  },
  {
   "cell_type": "markdown",
   "metadata": {},
   "source": [
    "Among these, you may notice the method index. \n",
    "This method can be used to find the indices of specific elements of the list. \n",
    "Also useful is the operator **in** which checks if something is an element of a list\n",
    "\n",
    "👉🏻 Run the code in the following cell:"
   ]
  },
  {
   "cell_type": "code",
   "execution_count": null,
   "metadata": {},
   "outputs": [],
   "source": [
    "print(x)\n",
    "print(x.index(\"melon\"))\n",
    "print(\"melon\" in x)\n",
    "print(\"banana\" in x)"
   ]
  },
  {
   "cell_type": "markdown",
   "metadata": {},
   "source": [
    "To close our discussion of lists, Python has an *interesting* quirk when it comes to assignements. \n",
    "This is not just for lists but for so called mutable objects.\n",
    "\n",
    "👉🏻 Before running the following cell, think about what you expect the output to be. Then run the cell below."
   ]
  },
  {
   "cell_type": "code",
   "execution_count": null,
   "metadata": {},
   "outputs": [],
   "source": [
    "x = [\"a\", \"b\"]\n",
    "y = x\n",
    "x[0] = \"z\"\n",
    "print(x)\n",
    "print(y)"
   ]
  },
  {
   "cell_type": "markdown",
   "metadata": {},
   "source": [
    "You can see that even though we only changed the first element of **x** to **\"z\"**, the same change happened to **z**. \n",
    "This might seem confusing at first, but it has to do with what the assignement operator **=** is doing. \n",
    "When you run **y = x** you may think that you are assigning the content of **x** to **y**, but what you are actually doing is saying that the variables **x** and **y** now point to the same place in memory.\n",
    "\n",
    "This means that when you change **x** you are also implicitly changing the content of **y** since **y** just points to the same place as **x**. \n",
    "This might be the intended behaviour but if you actually want to create a copy of **x** and then modify it, then the cell below shows you how you can do it.\n",
    "\n",
    "👉🏻 Run the code in the following cell and compare the result with that of the cell from before:"
   ]
  },
  {
   "cell_type": "code",
   "execution_count": null,
   "metadata": {},
   "outputs": [],
   "source": [
    "x = [\"a\", \"b\"]\n",
    "y = x.copy()\n",
    "x[0] = \"z\"\n",
    "print(x)\n",
    "print(y)"
   ]
  },
  {
   "cell_type": "markdown",
   "metadata": {},
   "source": [
    "### Tuples\n",
    "For the most part tuples work the same way as lists but are created with **(...)** rather than with **[...]**. \n",
    "You can create an empty tuple with **()** or **tuple()**.\n",
    "\n",
    "The big different is that tuples are immutable - once they are created they cannot be modified.\n",
    "In fact, other than being immutable, tuples are quite interchangeable with lits.\n",
    "\n",
    "👉🏻 Run the code in the following cell:"
   ]
  },
  {
   "cell_type": "code",
   "execution_count": null,
   "metadata": {},
   "outputs": [],
   "source": [
    "x = (\"a\", \"b\", \"c\")\n",
    "print(x[0])"
   ]
  },
  {
   "cell_type": "markdown",
   "metadata": {},
   "source": [
    "If you check what methods you can apply to x you'll see that the choice is limited as all methods that modify it are gone. \n",
    "If you try to modify **x** you'll get an error. \n",
    "Other than that, tuples work just like lists.\n",
    "\n",
    "👉🏻 Type **x.** and hit **[Tab]** in the cell below:"
   ]
  },
  {
   "cell_type": "code",
   "execution_count": null,
   "metadata": {},
   "outputs": [],
   "source": []
  },
  {
   "cell_type": "markdown",
   "metadata": {},
   "source": [
    "### Sets\n",
    "Sets can be created with **{...}** rather than with **[...]** or **(...)** like lists and tuples, respectively. \n",
    "You can create an empty set with **set()**. \n",
    "(Note that **{}** doesn *not* create an empty set.)\n",
    "\n",
    "The differences with sets is that they do not store duplicates and the elements of the set have no order.\n",
    "\n",
    "👉🏻 Run the code in the following cell:"
   ]
  },
  {
   "cell_type": "code",
   "execution_count": null,
   "metadata": {},
   "outputs": [],
   "source": [
    "x = {\"a\", \"b\", \"c\", \"a\", \"b\", \"b\"}\n",
    "print(x)"
   ]
  },
  {
   "cell_type": "markdown",
   "metadata": {},
   "source": [
    "The previous example pretty much tells thw whole story: in sets, duplicates ignored, and the element in the set are not stored in any particular order. \n",
    "\n",
    "Sets are optimised for set operations such as checking for memebership with **in**, taking the intersection or union, the difference, etc..\n",
    "\n",
    "👉🏻 Run the code in the following cell:"
   ]
  },
  {
   "cell_type": "code",
   "execution_count": null,
   "metadata": {},
   "outputs": [],
   "source": [
    "print(x)\n",
    "print(\"a\" in x)\n",
    "print({\"a\"}.issubset(x))\n",
    "\n",
    "y = {\"d\", \"a\", \"z\"}\n",
    "print(x.intersection(y))\n",
    "print(x.union(y))\n",
    "print(x.difference(y))"
   ]
  },
  {
   "cell_type": "markdown",
   "metadata": {},
   "source": [
    "All of the outcomes should be self-explanatory."
   ]
  },
  {
   "cell_type": "markdown",
   "metadata": {},
   "source": [
    "### 📝 Solve the following exercises in the cell below:\n",
    "\n",
    "**(4)**\n",
    "Suppose that a librarian starts their round with an empty book trolly and goes around a library collecting abandoned books.\n",
    "Start out by creating an empty list called **trolly** representing the empty trolly that they start with.\n",
    "Use this list to keep track of the order of the books on the trolly.\n",
    "Make sure that your code mimics the following steps:\n",
    "1. The librarian collects the book **A** from a table and places it in the trolly;\n",
    "2. Next they grab two copies of **B** from next to the coffee machine;\n",
    "3. A child is done with their copy of **C** and hands it over to the librarian who places it on top of the pile;\n",
    "4. The librarian trips on three books on the floor: **D** volumes 1, 2 and 3 which get placed on the trolly in that order;\n",
    "5. Someone comes over to the librarian and asks if they know where they can get a copy of **A**.\n",
    "The librarian remembers that that was the first book they picked up and they lift the other books so the person can take it;\n",
    "6. While the librarian is still holding the books, another person shows up and asks if they can place their copy of **E** on the trolly; they do so and the librarian put the books that they were holding on top;\n",
    "7. While passing the return counter, the librarian grabs copies of **F**, **G**, and **H** and sorts them alphabetically before placing them on the pile with **F** now on top;\n",
    "8. Another child comes and asks if they can take the copy of C that is on the pile.\n",
    "The librarian doesn't know anymore what position that book occupies so they just let the child take it themselves;\n",
    "9. The librarian arrives at a shelf and places the books in the pile (top to bottom) on the shelf (left to right);\n",
    "10. What order (left to right) are the books in on the shelf? \n",
    "\n",
    "Print out your solution.\n",
    "\n",
    "**(5)**\n",
    "Consider two sets **A = {\"a\", \"b\", \"d\", \"f\"}** and **B = {\"b\", \"d\", \"g\"}**.\n",
    "Compute the following:\n",
    "1. the intersection between **A** and **B**;\n",
    "2. the union of **A** and **B**;\n",
    "3. all elements in **B** but not **A**;\n",
    "4. all elements that are exclusive to **A** or exclusive to **B**;\n",
    "5. which of the subsets does \"a\" belong to?\n",
    "\n",
    "Store the answers in variables **e1**, **e2**..., and print them out."
   ]
  },
  {
   "cell_type": "code",
   "execution_count": null,
   "metadata": {},
   "outputs": [],
   "source": []
  },
  {
   "cell_type": "markdown",
   "metadata": {},
   "source": [
    "## Booleans and conditionals\n",
    "\n",
    "A variable is a boolean if it can take the values **True** or **False**. \n",
    "Conditionals allow us to execute different code based on the value of a boolean."
   ]
  },
  {
   "cell_type": "markdown",
   "metadata": {},
   "source": [
    "### Logical operations\n",
    "These should be familiar to you and include **and**, **or**, and **not**.\n",
    "\n",
    "👉🏻 Run the code in the following cell:"
   ]
  },
  {
   "cell_type": "code",
   "execution_count": null,
   "metadata": {},
   "outputs": [],
   "source": [
    "print(True and True, True and False, False and True, False and False)\n",
    "\n",
    "print(True or True, True or False, False or True, False or False)\n",
    "\n",
    "print(not True, not False)"
   ]
  },
  {
   "cell_type": "markdown",
   "metadata": {},
   "source": [
    "The above are just the rules for dealing with booleans.\n",
    "\n",
    "👉🏻 Run the code in the following cell:"
   ]
  },
  {
   "cell_type": "code",
   "execution_count": null,
   "metadata": {},
   "outputs": [],
   "source": [
    "x = 2\n",
    "print(x == 2)"
   ]
  },
  {
   "cell_type": "markdown",
   "metadata": {},
   "source": [
    "The **==** looks similar to **=** but does some something different. \n",
    "While **x = 2** assigns the number **2** to **x**, **x == 2** does a comparison and tells you if the left hand side and right hand side are equal. \n",
    "In this case it returns **True**.\n",
    "\n",
    "👉🏻 Run the code in the following cell and check that the outputs make sense:"
   ]
  },
  {
   "cell_type": "code",
   "execution_count": null,
   "metadata": {},
   "outputs": [],
   "source": [
    "y = 3\n",
    "print(y == 2, 1 == 1, 2 == \"two\", y == \"three\")"
   ]
  },
  {
   "cell_type": "markdown",
   "metadata": {},
   "source": [
    "The comparison operator **==** is very useful since when writing code we often have to make checks to decide what to do next. \n",
    "Other comparison operators include **<**, **<=**, **>**, **>=**, **!=** for respectively less than, less or equal than, greater than, greater or equal than, and different.\n",
    "\n",
    "👉🏻 Run the code in the following cell and check that the outputs make sense:"
   ]
  },
  {
   "cell_type": "code",
   "execution_count": null,
   "metadata": {},
   "outputs": [],
   "source": [
    "print(1 < 1, 1 <= 1, 2 > -2, 0 >= 0, 1 != 0)"
   ]
  },
  {
   "cell_type": "markdown",
   "metadata": {},
   "source": [
    "A final remark about the booleans **True** and **False** is that they can also double as the numbers **1** and **0** if involved in a computation. \n",
    "For instance, the following code makes use of this fact to compute the absolute value of **z**.\n",
    "\n",
    "👉🏻 Run the code in the following cell trying out different values for **z**; check that indeed the output is **|z|**:"
   ]
  },
  {
   "cell_type": "code",
   "execution_count": null,
   "metadata": {},
   "outputs": [],
   "source": [
    "z = -4\n",
    "print((z < 0) * (-z) + (z >= 0) * z)"
   ]
  },
  {
   "cell_type": "markdown",
   "metadata": {},
   "source": [
    "### Conditionals"
   ]
  },
  {
   "cell_type": "markdown",
   "metadata": {},
   "source": [
    "#### **if** statements\n",
    "The fist conditional statement that we discuss is the **if** statement. \n",
    "An **if** statement executes a block of code if it gets passed a **True**.\n",
    "\n",
    "👉🏻 Run the code in the following cell:"
   ]
  },
  {
   "cell_type": "code",
   "execution_count": null,
   "metadata": {},
   "outputs": [],
   "source": [
    "statement = True\n",
    "if statement:\n",
    "    print(\"statement is true\")"
   ]
  },
  {
   "cell_type": "markdown",
   "metadata": {},
   "source": [
    "Note that the print statement is indented. \n",
    "Python understands all indented text after the **:** to be a block of code that should be executed if what follows **if** evaluates to **True**. \n",
    "If you set **statement** to **False** above and run the block again, there will be no output.\n",
    "\n",
    "We don't need to pass a variable to the **if** statement. \n",
    "Anything that evaluates to either **True** or **False** can be placed there.\n",
    "\n",
    "👉🏻 Run the code in the following five cells and try to understand why it does what it does:"
   ]
  },
  {
   "cell_type": "code",
   "execution_count": null,
   "metadata": {},
   "outputs": [],
   "source": [
    "if True:\n",
    "    print(\"This line of code was run!\")"
   ]
  },
  {
   "cell_type": "code",
   "execution_count": null,
   "metadata": {},
   "outputs": [],
   "source": [
    "statement_1 = True\n",
    "statement_2 = False\n",
    "if statement_1 or statement_2:\n",
    "    print(\"Either statement_1 is true or statement_2 is true (or both)\")"
   ]
  },
  {
   "cell_type": "code",
   "execution_count": null,
   "metadata": {},
   "outputs": [],
   "source": [
    "statement_1 = True\n",
    "statement_2 = True\n",
    "if statement_1 and statement_2:\n",
    "    print(\"statement_1 is true\")\n",
    "    print(\"statement_2 is true\")"
   ]
  },
  {
   "cell_type": "code",
   "execution_count": null,
   "metadata": {},
   "outputs": [],
   "source": [
    "today = \"Wednesday\"\n",
    "if today == \"Thursday\":\n",
    "    print(\"Looks like today is Thusday!\")"
   ]
  },
  {
   "cell_type": "code",
   "execution_count": null,
   "metadata": {},
   "outputs": [],
   "source": [
    "weekend_days = {\"Saturday\", \"Sunday\"}\n",
    "if today not in weekend_days:\n",
    "    print(\"Looks like today is a week day!\")"
   ]
  },
  {
   "cell_type": "markdown",
   "metadata": {},
   "source": [
    "#### **if** + **else**, and **if** +**elif** + **else** statements\n",
    "It is often the case that we want to run code whether the **if** statement evaluates to **True** or not but which code we run depends on the evaluation. \n",
    "For this we can complement the **if** with and **else**.\n",
    "\n",
    "👉🏻 Run the code in the following cell:"
   ]
  },
  {
   "cell_type": "code",
   "execution_count": null,
   "metadata": {},
   "outputs": [],
   "source": [
    "today = \"Saturday\"\n",
    "if today not in weekend_days:\n",
    "    print(\"Looks like today is a week day!\")\n",
    "else:\n",
    "    print(\"Looks like today is a weekend day!\")"
   ]
  },
  {
   "cell_type": "markdown",
   "metadata": {},
   "source": [
    "If set up like this, one of the two commands will run. Which one runs depends on the value of the variable **today**.\n",
    "\n",
    "It can also happen that you want to cover more than two cases. \n",
    "In that case, you can use **elif** to specify futher alternatives that are sequentially checked until one that evaluates to **True** is found.\n",
    "\n",
    "👉🏻 Run the code in the following cell:"
   ]
  },
  {
   "cell_type": "code",
   "execution_count": null,
   "metadata": {},
   "outputs": [],
   "source": [
    "today = \"Sunday\"\n",
    "if today not in weekend_days:\n",
    "    print(\"Looks like today is a week day!\")\n",
    "elif today == \"Saturday\":\n",
    "    print(\"Looks like today is Saturday!\")\n",
    "else:\n",
    "    print(\"Looks like it must be Sunday!\")"
   ]
  },
  {
   "cell_type": "markdown",
   "metadata": {},
   "source": [
    "You can add as many **elif** as you want but only one **if** and only one **else**.\n",
    "\n",
    "👉🏻 Run the code in the following cell:"
   ]
  },
  {
   "cell_type": "code",
   "execution_count": null,
   "metadata": {},
   "outputs": [],
   "source": [
    "number_you_thought_of = 7\n",
    "\n",
    "if number_you_thought_of == 1:\n",
    "    print(\"You though of the number 1.\")\n",
    "elif number_you_thought_of == 2:\n",
    "    print(\"You though of the number 2.\")\n",
    "elif number_you_thought_of == 3:\n",
    "    print(\"You though of the number 3.\")\n",
    "else:\n",
    "    print(\"You thought of a number other than 1, 2, or 3.\")"
   ]
  },
  {
   "cell_type": "markdown",
   "metadata": {},
   "source": [
    "### 📝 Solve the following exercises in the cell below:\n",
    "\n",
    "**(6)**\n",
    "Define a variable **x** and assign a positive integer to it.\n",
    "Write an *if* statement that checks if **x** is odd or even, and prints out a message with the appropriate conclusion.\n",
    "(*Hint:* **a%b** returns the remainder of dividing a by b.)\n",
    "\n",
    "**(7)**\n",
    "Define a variable **y** and assign a string to it.\n",
    "Write an *if* statement that checks if **y** is a palindrome, and prints out a message with the appropriate conclusion.\n",
    "(*Hint:* a string can be indexed the same way as a list of characters.)\n",
    "\n",
    "**(8)**\n",
    "Define a variable **w** and assign a string to it.\n",
    "Write an *if* statement that checks if **w** ends with an 'a', or ends with an 'o', or does not end with either and 'a' or an 'o'."
   ]
  },
  {
   "cell_type": "code",
   "execution_count": null,
   "metadata": {},
   "outputs": [],
   "source": []
  },
  {
   "cell_type": "markdown",
   "metadata": {},
   "source": [
    "## Arrays with NumPy\n",
    "NumPy is a Python library that allows us to create and manipulate arrays. \n",
    "Arrays are much more practical to work with (as well as computationally efficient) than lists. \n",
    "First you need to load this library which you can do with the command **import**.\n",
    "\n",
    "👉🏻 Run the code in the following cell including the **pip** command to actually install the library:"
   ]
  },
  {
   "cell_type": "code",
   "execution_count": null,
   "metadata": {},
   "outputs": [],
   "source": [
    "# !pip install numpy # Only needs to be run once to install the NumPy library\n",
    "import numpy as np"
   ]
  },
  {
   "cell_type": "markdown",
   "metadata": {},
   "source": [
    "The command above tells Python to load up the NumPy library and to name it **np** (it is up to you what you call it but **np** is almost always used). \n",
    "This means that every time that you want to call a function from the NumPy library you should preface it with **np.** (or whatever you imported the library as). \n",
    "We do this because you can have functions with the same name in different libraries; calling **np.function_name** tells Python that you want to specifically  call the function **function_name** from the NumPy package, as opposed to some other function also called **function_name**.\n",
    "\n",
    "NumPy contains functions to create and manipulate arrays. \n",
    "An array is just a d-dimensional structure, so that a 0-d array is a number, a 1d array is a vector, a 2-d array is a matrix, etc. \n",
    "Arrays are much more efficient, flexible, and practical to work with. "
   ]
  },
  {
   "cell_type": "markdown",
   "metadata": {},
   "source": [
    "### Creating and combining arrays\n",
    "\n",
    "There are several ways of creating arrays. \n",
    "The following cells constain three different ways of creating a 2 by 3 array of 1's.\n",
    "\n",
    "👉🏻 Run the code in the following cell:"
   ]
  },
  {
   "cell_type": "code",
   "execution_count": null,
   "metadata": {},
   "outputs": [],
   "source": [
    "x = np.array([[1,1,1],[1,1,1]])\n",
    "print(x) # printing an array just shows you a list of lists\n",
    "x # outputting x itself explicitly tells you that x is an array"
   ]
  },
  {
   "cell_type": "code",
   "execution_count": null,
   "metadata": {},
   "outputs": [],
   "source": [
    "y = np.full((2,3),1)\n",
    "print(y)"
   ]
  },
  {
   "cell_type": "code",
   "execution_count": null,
   "metadata": {},
   "outputs": [],
   "source": [
    "z = np.ones((2,3))\n",
    "print(z)"
   ]
  },
  {
   "cell_type": "markdown",
   "metadata": {},
   "source": [
    "Let's unpack what we got. First, just to get it out of the way, note that **z** is full of **1.**'s, while for instance **x** is full of **1**'s; **1** represents the integer 1, while **1.** represent the real number 1.00....\n",
    "\n",
    "\n",
    "The command **np.array(...)** technically takes a list (or more specifically a list of lists, i.e., a matrix) and converts it into an array with the same dimensions. \n",
    "Note that when you call **x** itself, it explicitly tells you that it is internally stored as an array structure, which you do not see if you just print it out. \n",
    "Note that you could also have passed a tuple of tuples as input for the function.\n",
    "\n",
    "The command **np.full((2,3),1)** takes in a shape, **(2,3)** in our case, and fills it with 1's (the second argument.) \n",
    "Note that the shape could have been specified using a list **[2,3]** instead of a using the tuple **(2,3)**; a set could not have been used since it would be ambiguous if you wanted a 2 by 3 matrix or a 3 by 3 matrix.\n",
    "\n",
    "The command **np.ones((2,3))** creates a 2 by 3 array of ones. \n",
    "There is also a function **np.zeros** that creates arrays of zeros.\n",
    "\n",
    "\n",
    "Sometimes you just want to create an evenly spaced sequence of numbers.\n",
    "The function **np.linspace(...)** can be used for this.\n",
    "\n",
    "👉🏻 Run the code in the following cell which creates 11 evenly spaced numbers between 0 and 5:"
   ]
  },
  {
   "cell_type": "code",
   "execution_count": null,
   "metadata": {},
   "outputs": [],
   "source": [
    "np.linspace(0,5,11)"
   ]
  },
  {
   "cell_type": "markdown",
   "metadata": {},
   "source": [
    "After you have created an array you can look up its number of dimensions and its shape using respectively **.dim** and **.shape**.\n",
    "\n",
    "👉🏻 Run the code in the following cell:"
   ]
  },
  {
   "cell_type": "code",
   "execution_count": null,
   "metadata": {},
   "outputs": [],
   "source": [
    "print(x.ndim)\n",
    "print(x.shape)"
   ]
  },
  {
   "cell_type": "markdown",
   "metadata": {},
   "source": [
    "This tells us that **x** has 2 dimensions (it is a matrix, so it has \"rows\" and \"columns\"), and its shape is **(2,3)** (so, more specifically, it is a matrix with 2 \"rows\", and 3 \"columns\").\n",
    "\n",
    "Note that you can use the output of **.shape** with, for instance, **np.ones**. \n",
    "The following command creates a matrix of zeros with the same shape as **z**.\n",
    "\n",
    "👉🏻 Run the code in the following cell:"
   ]
  },
  {
   "cell_type": "code",
   "execution_count": null,
   "metadata": {},
   "outputs": [],
   "source": [
    "print(z)\n",
    "\n",
    "w = np.zeros(z.shape)\n",
    "print(w)"
   ]
  },
  {
   "cell_type": "markdown",
   "metadata": {},
   "source": [
    "We can also use the command **.reshape(...)** to modify the shape of an array. \n",
    "(Technically speaking, **.reshape(...)** creates a new array with the specified shape, it does not modify the original array.) \n",
    "\n",
    "\n",
    "👉🏻 Run the code in the following cell:"
   ]
  },
  {
   "cell_type": "code",
   "execution_count": null,
   "metadata": {},
   "outputs": [],
   "source": [
    "v = np.array(range(0,8))\n",
    "print(v.shape, \"is the shape of v\")\n",
    "print(v), print() # I use an extra \"print()\" to get an empty line making the output more readable\n",
    "\n",
    "v = v.reshape(2,4)\n",
    "print(v.shape, \"is now the shape of v\")\n",
    "print(v), print()\n",
    "\n",
    "v = v.reshape(2,2,2)\n",
    "print(v.shape, \"is now the shape of v\")\n",
    "print(v)"
   ]
  },
  {
   "cell_type": "markdown",
   "metadata": {},
   "source": [
    "So we started by creating a vector **v** with 8 elements, reshaped it into a 2 by 4 matrix, then reshaped it into a  by 2 by 2 array, our first example of a 3-d array. \n",
    "A 3-d array has \"rows\", \"columns\", and... \"layers\", say; each of the 2 \"layers\" of the array is a 2 by 2 matrix. \n",
    "You can define arrays with as many dimensions as you like. Also note that the result of the **v.reshape(2,4)** command makes it clear that the function \"fills\" the 2 by 4 matrix by columns.\n",
    "\n",
    "The only thing we need to be careful with is that the reshaped array has the same number of elements as the original array. \n",
    "So, for instance, we would have gotten an error if we tried to reshape **v** into a 3 by 3 matrix, since a 3 by 3 matrix has 9 entries and **v** only has 8 elements.\n",
    "\n",
    "We can combine arrays using the **.stack** command. \n",
    "We exemplify this in the next cell where we first turn **v** back into a vector.\n",
    "\n",
    "👉🏻 Run the code in the following cell:"
   ]
  },
  {
   "cell_type": "code",
   "execution_count": null,
   "metadata": {},
   "outputs": [],
   "source": [
    "v = v.reshape(8)\n",
    "\n",
    "print(np.stack((v,v))), print()\n",
    "\n",
    "print(np.stack((v,v), axis = 0)), print()\n",
    "print(np.stack((v,v), axis = 1)), print()\n",
    "\n",
    "print(np.hstack((v,v))), print()\n",
    "print(np.vstack((v,v))), print()\n",
    "\n",
    "print(np.repeat(v,2))"
   ]
  },
  {
   "cell_type": "markdown",
   "metadata": {},
   "source": [
    "Let's unpack the results. As already mentioned, we first turn **v** back into a vector. Then,\n",
    "\n",
    "- the **np.stack(...)** command takes a tuple (or list) of arrays (vectors in our case) and stacks them. In our case it stacks two copies of **v** on top of one another. By default the stacking is done by rows so we end up with a 2 by 8;\n",
    "\n",
    "- the command **np.stack(..., axis = ...)** allows us to specify along which dimensions we want to stack the copies of **v**. By default **np.stack((v,v))** does the same as **np.stack((v,v), axis = 0)** where the vectors are stacked along the 0th dimensions (so along \"rows\"). Doing **np.stack((v,v), axis = 1)** instead, stacks the copis of **v** as columns, so stacks them along the 1th dimention (or along \"columns\");\n",
    "\n",
    "- there are two other stack related functions, **np.hstack(...)** and **np.vstack(...)** that do the stacking horizontally and vertically, respectively. The results are self explanatory;\n",
    "\n",
    "- another often useful command is the **.repeat(...)** function. This functions repeates each element of the passed array a certain number of times."
   ]
  },
  {
   "cell_type": "markdown",
   "metadata": {},
   "source": [
    "### Operations on arrays\n",
    "\n",
    "An advantage of arrays over lists of tuple is that you can more easily do operations involving arrays.\n",
    "\n",
    "👉🏻 Run the code in the following cell:"
   ]
  },
  {
   "cell_type": "code",
   "execution_count": null,
   "metadata": {},
   "outputs": [],
   "source": [
    "print(np.array([1,2])+1)\n",
    "print(np.array([1,2])+np.array([1,1]))\n",
    "#[1,2]+1\n",
    "[1,2]+[1,1]"
   ]
  },
  {
   "cell_type": "markdown",
   "metadata": {},
   "source": [
    "If you were to run the first commented out command you would get an error. The last command just concatenates the lists, rather actually adding them. This examplifies how arrays are more ameanable to computations, while lists (and tuples) are more appropriate for indexing. (We will turn to indexing of arrays shortly.)\n",
    "\n",
    "Some more examples of operations follow.\n",
    "\n",
    "👉🏻 Run the code in the following cell:"
   ]
  },
  {
   "cell_type": "code",
   "execution_count": null,
   "metadata": {},
   "outputs": [],
   "source": [
    "print(np.array([1,2])*2)\n",
    "print(np.array([1,2])*[2,2])\n",
    "print(np.array([1,2])**2) #remember that \"\"**2\" means \"power 2\"\n",
    "#[1,2]**2\n",
    "[1,2]*2"
   ]
  },
  {
   "cell_type": "markdown",
   "metadata": {},
   "source": [
    "This again reinforces the different roles of arrays and lists. \n",
    "(The commented out line would give an error.)\n",
    "\n",
    "Some other operations that you can do are taking sums, maxima, and minima.\n",
    "\n",
    "👉🏻 Run the code in the following cell:"
   ]
  },
  {
   "cell_type": "code",
   "execution_count": null,
   "metadata": {},
   "outputs": [],
   "source": [
    "v = v.reshape(2,4)\n",
    "print(v)\n",
    "\n",
    "print(\"Sums of all entries:\")\n",
    "print(np.sum(v))\n",
    "print(np.max(v))\n",
    "print(np.min(v)), print()\n",
    "\n",
    "print(\"Sums along 1st dimension:\")\n",
    "print(np.sum(v, axis = 0))\n",
    "print(np.max(v, axis = 0))\n",
    "print(np.min(v, axis = 0)), print()\n",
    "\n",
    "print(\"Sums along 2nd dimension:\")\n",
    "print(np.sum(v, axis = 1))\n",
    "print(np.max(v, axis = 1))\n",
    "print(np.min(v, axis = 1))"
   ]
  },
  {
   "cell_type": "markdown",
   "metadata": {},
   "source": [
    "We exemplify above the use of the **np.sum**, **np.max**, **np.min** functions on a reshaped version of **v**. \n",
    "Applying these functions to **v** just does the obvious thing by returning the respectively the sum, max, and min of _all_ entries of **v**.\n",
    "\n",
    "Specifying the extra argument **axis=0** tells the functions (np.sum, np.max, np.min) to apply the respective operation (sum, max, min) along the 0th dimension (the \"rows\"). \n",
    "This then returns an array with as many entries as there are \"columns\" since the \"row\" entries have been sum/max/min'd-out. \n",
    "Specifying **axis=1** returns the \"row\" sums (as we add the \"column\" elements).\n",
    "\n",
    "👉🏻 Run the code in the following cell:"
   ]
  },
  {
   "cell_type": "code",
   "execution_count": null,
   "metadata": {},
   "outputs": [],
   "source": [
    "print(\"Sums for the 3-d array\")\n",
    "v = v.reshape(2,2,2)\n",
    "print(v)\n",
    "\n",
    "print(\"Sums along 1st dimension:\")\n",
    "print(np.max(v, axis = 0))\n",
    "print(\"Sums along 2nd and 3rd dimensions:\")\n",
    "print(np.max(v, axis = (1,2)))"
   ]
  },
  {
   "cell_type": "markdown",
   "metadata": {},
   "source": [
    "For higher dimensional arrays you have more options. \n",
    "In the cell above we exemplify the use of **np.max** with **axis=0** and **axis=(1,2)**. \n",
    "Setting **axis=0** means that you max over layers, so you get an array of the same dimension as each layer, where each entry is the maximum of that row-column combination across all layers. \n",
    "Setting **axis=c(1,2)** means that you add over rows and column, so you get a vector with the maximum of each of the two layers. \n",
    "\n",
    "In summary, after you specify the axes over which you want to apply the function, you get an object with a shape which is of the size of the remaining dimensions.\n",
    "\n",
    "\n",
    "\n",
    "Linear algebra operations can be easily done within NumPy. \n",
    "The following cell examplifies a few simple concepts.\n",
    "\n",
    "👉🏻 Run the code in the following cell:"
   ]
  },
  {
   "cell_type": "code",
   "execution_count": null,
   "metadata": {},
   "outputs": [],
   "source": [
    "I = np.identity(3)\n",
    "x = np.array([1,2,3]).reshape(3,1)\n",
    "\n",
    "print(np.matmul(I,x)), print()\n",
    "print(np.matmul(np.transpose(x),x)), print()\n",
    "print(np.matmul(x,np.transpose(x))), print()\n",
    "\n",
    "print(np.linalg.det(I))\n",
    "print(np.trace(I))"
   ]
  },
  {
   "cell_type": "markdown",
   "metadata": {},
   "source": [
    "In the cell above we start by creating an identity matrix $I$ (a 2 by 2 array with 1's in the diagonal, 0's elsewhere), and a vector $x$. \n",
    "Note that we reshape the vector **np.array([1,2,3])** (technically a 1-d array) into a \"column matrix\" $x$ (a 2-d array with just one \"column\", i.e., a 3 by 1 matrix).\n",
    "\n",
    "We then compute some matrix multiplications using **np.matmul**; \n",
    "we compute **$Ix$** (which is just $x$), \n",
    "**$x^Tx$** (which is the squared norm of $x$), and\n",
    "**$xx^T$** (which is the outer product of $x$).\n",
    "\n",
    "We also compute the determinant and trace of $I$, which are, of course, 1 and 3, respectively. \n",
    "Many other matrix operations are available and you can read about them by running **?np.linalg** on a code cell."
   ]
  },
  {
   "cell_type": "markdown",
   "metadata": {},
   "source": [
    "### Indexing of arrays\n",
    "\n",
    "Like lists and tuples, arrays can also are also indexed. \n",
    "This means that you can also use the **[...]** to access and change sub-entries of an array. \n",
    "Indexing of arrays, though, is more flexible than indexing of lists and tuples. \n",
    "\n",
    "👉🏻 Run the code in the following cell after trying to guess what the outputs will be:"
   ]
  },
  {
   "cell_type": "code",
   "execution_count": null,
   "metadata": {},
   "outputs": [],
   "source": [
    "x = np.array(range(0,16)).reshape(4,4)\n",
    "print(x), print()\n",
    "\n",
    "print(\"First row of x:\")\n",
    "print(x[0,:]), print()\n",
    "\n",
    "print(\"First column of x:\")\n",
    "print(x[:,0]), print()\n",
    "\n",
    "print(\"First two rows and columns of x:\")\n",
    "print(x[0:2,0:2]), print()\n",
    "\n",
    "print(\"Set the four central elements of x to 100:\")\n",
    "x[1:-1,1:-1] = 100\n",
    "print(x)"
   ]
  },
  {
   "cell_type": "markdown",
   "metadata": {},
   "source": [
    "Note that higher dimensional arrays are indexed in the same way, so for instance if **y** would be a 2 by 2 by 2 array then **y[0,0,0]** is the element that is in the first layer, first row, first column, **y[0,:,:]** gives the 2 by 2 array that makes up the 1st layer, etc.\n",
    "\n",
    "This already makes arrays more flexible than lists and tuples but another attractive feature is that we can use booleans to index an array.\n",
    "\n",
    "👉🏻 Run the code in the following cell:"
   ]
  },
  {
   "cell_type": "code",
   "execution_count": null,
   "metadata": {},
   "outputs": [],
   "source": [
    "y = np.array(range(0,6))\n",
    "print(y)\n",
    "\n",
    "print(y[[True,True,True,False,False,False]])"
   ]
  },
  {
   "cell_type": "markdown",
   "metadata": {},
   "source": [
    "In the cell above we specify which entries of **y** we want to keep usign a list of booleans (with the same shape as the array **y**). \n",
    "Typically, though, we don't use booleans directly but instead index the array with the outcome of a logical operation.\n",
    "\n",
    "Note that when using logical operators to directly index we need to use **&**, **|** instead of **and**, **or**.\n",
    "The rule is you should use **&**, **|**, etc. when comparing vectors.\n",
    "\n",
    "👉🏻 Run the code in the following cell:"
   ]
  },
  {
   "cell_type": "code",
   "execution_count": null,
   "metadata": {},
   "outputs": [],
   "source": [
    "print(y[(y>1)&(y<5)]) # note that \"&\" needs to be used to index directly; \"and\" would not work\n",
    "\n",
    "print(y)\n",
    "print((y>1)&(y<5))"
   ]
  },
  {
   "cell_type": "markdown",
   "metadata": {},
   "source": [
    "You can also just use a list to indicate an arbitrary collection of indices to access. \n",
    "This is a huge advantage over the way in which lists are indexed.\n",
    "\n",
    "For arrays of dimension 2 or higher you need to use tuples to index the entries; you can use tuples of tuples or tuples of lists, but the higher level object must be a tuple. \n",
    "Somewhat unintuitively, though, for 1-d arrays tuples are not allowed for indexing and you can only use lists...\n",
    "\n",
    "👉🏻 Run the code in the following cell:"
   ]
  },
  {
   "cell_type": "code",
   "execution_count": null,
   "metadata": {},
   "outputs": [],
   "source": [
    "print(y[[-1,0,2]]), print()\n",
    "# print(y[(-1,0,2)]) #this would give an error\n",
    "\n",
    "x = y.reshape(2,3)\n",
    "print(x), print()\n",
    "\n",
    "print(x[([0,1,0],[0,1,2])])\n",
    "# print(x[((0,1,0),(0,1,2))]) #[] -> (); this would give same as the command from previous line\n",
    "# print(x[[[0,1,0],[0,1,2]]]) #this would give an error"
   ]
  },
  {
   "cell_type": "markdown",
   "metadata": {},
   "source": [
    "### A final remark: copying arrays\n",
    "\n",
    "We already saw before with lists that \"copies\" of mutable objects need to be handled with care. \n",
    "The cell below exemplifies how the command **y=x** does not assign to **y** the content of **x** but instead signifies that **y** now also points to the same place in memory as **x**. \n",
    "As such, changing **x** (resp. **y**) also changes **y** (resp. **x**). \n",
    "The proper way of assigning to **y** a copy of the content of **x** is to use **y = x.copy()**; in this way, changing **x** does not affect **y** and vice-versa.\n",
    "\n",
    "👉🏻 Run the code in the following cell:"
   ]
  },
  {
   "cell_type": "code",
   "execution_count": null,
   "metadata": {},
   "outputs": [],
   "source": [
    "print(\"Perhaps unexpected behaviour:\")\n",
    "x = np.array([1, 2])\n",
    "y = x\n",
    "x[0] = 3\n",
    "print(x)\n",
    "print(y), print()\n",
    "\n",
    "print(\"Correct procedure:\")\n",
    "x = np.array([1, 2])\n",
    "y = x.copy()\n",
    "x[0] = 3\n",
    "print(x)\n",
    "print(y)"
   ]
  },
  {
   "cell_type": "markdown",
   "metadata": {},
   "source": [
    "### 📝 Solve the following exercises in the cell below:\n",
    "\n",
    "**(9)**\n",
    "Create a 3x3x3 array and set all entries of the $i$-th layer to consecutive multiples of $i$, by column, for $i\\in\\{1,2,3\\}$ (indices 0,1,2, resp.).\n",
    "Print out the result.\n",
    "\n",
    "**(10)**\n",
    "For the array from **(9)**, create a list containing lists containing:\n",
    "1. the sum of all entries of each layer;\n",
    "2. the minimum of the middle row of each layer;\n",
    "3. the maximum of the last column of each layer;\n",
    "\n",
    "(*Hint:* **.tolist()** is a method that converts an array to a list.)\n"
   ]
  },
  {
   "cell_type": "code",
   "execution_count": null,
   "metadata": {},
   "outputs": [],
   "source": []
  },
  {
   "cell_type": "markdown",
   "metadata": {},
   "source": [
    "## Loops\n",
    "When programming, you often have to repeat a similar set of instructions several times. Loops can be used for this purpose."
   ]
  },
  {
   "cell_type": "markdown",
   "metadata": {},
   "source": [
    "### **for** loops\n",
    "A **for** loops is approriate if you know ahead of time how many times you want to perform the instructions in the loop.\n",
    "\n",
    "👉🏻 Run the code in the following cell:"
   ]
  },
  {
   "cell_type": "code",
   "execution_count": null,
   "metadata": {},
   "outputs": [],
   "source": [
    "for i in range(0,5):\n",
    "    print(2*i+1)"
   ]
  },
  {
   "cell_type": "markdown",
   "metadata": {},
   "source": [
    "Quite a few things to unpack here. \n",
    "Firstly, the code outputs the first 5 odd numbers.\n",
    "\n",
    "The syntax is **for \\<variable\\> in \\<collection\\>:** where **\\<collection\\>** is some collection of values which can be a list, tuple, set, etc.. \n",
    "What the **for** loop does is assign to the **\\<variable\\>** the values in the **\\<collection\\>** one by one, and for each one run the indented command, in this case just a **print** command. \n",
    "Note that you can use the current value of the **\\<variable\\>** in the instructions that are being looped.\n",
    "\n",
    "The function **range** is a particular useful here; for all intents, **range(0,5)** is the same as **[0,1,2,3,4]** but just works as a stand-in for the list without creating it. \n",
    "Using **range(0,5)** rather than **[0,1,2,3,4]** is more efficient. \n",
    "\n",
    "There is also a step argument in the range function, so **range(a,b,c)** corresponds to the same indices as **a:b:c** would.\n",
    "\n",
    "If you really want to create the list explicitly, you can run **list(range(...))**. \n",
    "(You can do the same thing for tuples, sets, or arrays.)\n",
    "\n",
    "👉🏻 Run the code in the following cell:"
   ]
  },
  {
   "cell_type": "code",
   "execution_count": null,
   "metadata": {},
   "outputs": [],
   "source": [
    "print(list(range(0,10,2)))\n",
    "print(tuple(range(0,10,2)))\n",
    "print(set(range(0,10,2)))"
   ]
  },
  {
   "cell_type": "markdown",
   "metadata": {},
   "source": [
    "A single **for** loop can be used to iterate over more than one object at a time.\n",
    "We need to make sure that the number of objects matches the size of th elements of the collection.\n",
    "\n",
    "👉🏻 Run the code in the following cell:"
   ]
  },
  {
   "cell_type": "code",
   "execution_count": null,
   "metadata": {},
   "outputs": [],
   "source": [
    "for i,j in [[1,2],[3,4], [1,8]]: # each element of the collection needs to have two values: one for i and one for j\n",
    "    print(i+j)"
   ]
  },
  {
   "cell_type": "markdown",
   "metadata": {},
   "source": [
    "As promissed, here is the (unfortunately ellaborate) way in which you can access the entries of a list that occupy an arbitrary list of indices. (If you know of a more straightforward way of doing this, please let me know.)\n",
    "\n",
    "👉🏻 Run the code in the following cell:"
   ]
  },
  {
   "cell_type": "code",
   "execution_count": null,
   "metadata": {},
   "outputs": [],
   "source": [
    "x = [\"a\", \"b\", \"c\", \"d\", \"e\"]\n",
    "y = [x[i] for i in [1,0,4]]\n",
    "# x[[1,0,4]] or x[1,0,4] would produce an error\n",
    "print(y)"
   ]
  },
  {
   "cell_type": "markdown",
   "metadata": {},
   "source": [
    "So **y** is made out of the entries of **x** corresponding to indices 1, 0, and 4, respectively. \n",
    "The code uses special syntax that to some extents mimicks mathematical notation: $(x_i: i\\in\\{1,0,4\\})$. \n",
    "It is unfortunate that **x[[1,0,4]]** is not a valid way of accessing entries of **x**. \n",
    "\n",
    "Fortunately, there are **arrays** which address these and other limitations but this way of creating lists is very useful in itself and we will use it later on."
   ]
  },
  {
   "cell_type": "markdown",
   "metadata": {},
   "source": [
    "### **while** loops\n",
    "These loops keep iterating until a certain stopping condition is met. \n",
    "These are useful when you perhaps don't know how many times the loop has to execute before you are done.\n",
    "Best to see how it works with an example, though.\n",
    "\n",
    "👉🏻 Run the code in the following cell:"
   ]
  },
  {
   "cell_type": "code",
   "execution_count": null,
   "metadata": {},
   "outputs": [],
   "source": [
    "x = [-4, -3, 0, -1, 3, -4, 5, 1]\n",
    "i = 0\n",
    "while x[i] <= 0:\n",
    "    i += 1\n",
    "print(x[i])"
   ]
  },
  {
   "cell_type": "markdown",
   "metadata": {},
   "source": [
    "The syntax is very simple and of the form **while \\<condition\\>:**; as long as **\\<condition>** evaluates to **True** Python keeps running the indented command(s). \n",
    "You can see some code that you haven't seen before, namely **i += 1** which increments **i** by one, i.e., does the same as **i = i + 1**.\n",
    "\n",
    "This code increments the value of the index **i** (starting from **0**) until the respective **x[i]** no longer satisfies **x[i] <= 0**, i.e., until **i** is such that **x[i] > 0**, at which point the loop terminates and we execute the line of code following the loop, in this case **print(x[i])**. \n",
    "In words: the loop searches one by one through the list **x** until it finds the first stricltly positive number and then prints it out.\n",
    "\n",
    "Note that if nothing happens inside the loop that eventually causes the **\\<condition>** to evaluate to **False**, then the loop will never terminate. \n",
    "In such cases you need to go to the menu **[Kernel]** and select **[Interrupt]**."
   ]
  },
  {
   "cell_type": "markdown",
   "metadata": {},
   "source": [
    "### A loop within a loop\n",
    "Note that you can put whatever code you like inside a loop, so also another loop. \n",
    "Below you can find an example of this; maybe if can suggest a new dish to try and cook.\n",
    "\n",
    "👉🏻 Run the code in the following cell:"
   ]
  },
  {
   "cell_type": "code",
   "execution_count": null,
   "metadata": {},
   "outputs": [],
   "source": [
    "x = [\"pinapple\", \"chicken\", \"onion\", \"potato\"]\n",
    "y = [\"salad\", \"roast\", \"soup\"]\n",
    "for i in range(len(x)):\n",
    "    for j in range(len(y)):\n",
    "        print(x[i], y[j])"
   ]
  },
  {
   "cell_type": "markdown",
   "metadata": {},
   "source": [
    "You can of course also have **while** loops inside **for** loops, **while** loops inside **while** loops, etc..\n",
    "\n",
    "It should be noted that while a loop within a loop is often useful, it is hardly ever the case that you need to make a loop within a loop within a loop. \n",
    "More often than not, there is a more elegant way of doing whatever it is you are trying to do."
   ]
  },
  {
   "cell_type": "markdown",
   "metadata": {},
   "source": [
    "### **break** and **continue**\n",
    "There are two more useful commands to use in conjuction with loops, namly: **break** and **continue**. \n",
    "They both interrupt the execution of the code within a loop, but while **break** jumps out of the loop, **continue** just jumps to the next iteration of the loop. \n",
    "We start with an example of a use for **break**.\n",
    "\n",
    "👉🏻 Run the code in the following cell:"
   ]
  },
  {
   "cell_type": "code",
   "execution_count": null,
   "metadata": {},
   "outputs": [],
   "source": [
    "for i in range(5):\n",
    "    if i == 3: \n",
    "        break\n",
    "print(i)"
   ]
  },
  {
   "cell_type": "markdown",
   "metadata": {},
   "source": [
    "(Note that the **if** statement is inside the **for** loop but **print(i)** is outside.) \n",
    "This **for** loop runs though the numbers **0** through **4** and when **i** takes the value **3** the loop is terminated. \n",
    "Checking the value of **i** afterwards confirms that that indeed the loop ended after **i** was set to **3**. \n",
    "Next follows an example with **continue**.\n",
    "\n",
    "👉🏻 Run the code in the following cell:"
   ]
  },
  {
   "cell_type": "code",
   "execution_count": null,
   "metadata": {},
   "outputs": [],
   "source": [
    "for i in range(5):\n",
    "    if i == 3: \n",
    "        continue\n",
    "    print(i)"
   ]
  },
  {
   "cell_type": "markdown",
   "metadata": {},
   "source": [
    "(Note that both the **if** statement and **print(i)** are inside the **for** loop.) \n",
    "Like the previous **for** loop, this one runs though the numbers **0** through **4** and prints out the current value of **i**. \n",
    "However, when **i** takes the value **3**, it first executes the **continue**. \n",
    "At this point the current iteration of the **for** loop - the fourth, where **i=3** - terminates without executing any more code (i.e., skipping the **print** commnad) and the next iteration of the loop - the fifth, where **i=4** - starts. \n",
    "The consequence is that we skip over the **print(i)** command when **i=3** so we don't print the number **3** out."
   ]
  },
  {
   "cell_type": "markdown",
   "metadata": {},
   "source": [
    "### 📝 Solve the following exercises in the cell below:\n",
    "\n",
    "**(11)**\n",
    "Write a loop that gives you every second even number of an array containing **A = [1, 2, 4, 6, 3, 1, 3, 3, 3, 8, 7, 10, 14, 9]**.\n",
    "\n",
    "**(12)**\n",
    "Solve **(11)** *without* using a loop, in one line of code."
   ]
  },
  {
   "cell_type": "code",
   "execution_count": null,
   "metadata": {},
   "outputs": [],
   "source": []
  },
  {
   "cell_type": "markdown",
   "metadata": {},
   "source": [
    "## Functions\n",
    "Beside using built-in functions, you can also create your own. \n",
    "Functions are useful whenever you have a batch of instructions that you would like to apply several times.\n",
    "\n",
    "You can create a new function with the syntax **def \\<functions_name\\>(arguments):** followed by an iterated set of commands to be executed whenever the function is called.\n",
    "\n",
    "👉🏻 Run the code in the following cell:"
   ]
  },
  {
   "cell_type": "code",
   "execution_count": null,
   "metadata": {},
   "outputs": [],
   "source": [
    "def do_nothing():\n",
    "    pass\n",
    "\n",
    "do_nothing()"
   ]
  },
  {
   "cell_type": "markdown",
   "metadata": {},
   "source": [
    "This is how you create a new function and run it. \n",
    "This particular function is atypical because it has no arguments (which is allowed) and does nothing (that is the role of the **pass** argument inside the function.) \n",
    "The following function takes an input and prints it.\n",
    "\n",
    "👉🏻 Run the code in the following cell:"
   ]
  },
  {
   "cell_type": "code",
   "execution_count": null,
   "metadata": {},
   "outputs": [],
   "source": [
    "def print_new(to_print = \"Nothing to print.\"):\n",
    "    print(to_print)\n",
    "\n",
    "print_new(\"Something to print.\")\n",
    "\n",
    "print_new()\n",
    "\n",
    "print_new"
   ]
  },
  {
   "cell_type": "markdown",
   "metadata": {},
   "source": [
    "This function has an input called **to_print** and all that the function does is print what it receives as input.\n",
    "The **= \"Nothing to print.\"** specifies a default value for **to_print** which is used in case no argument is provided to the function. \n",
    "You can have several inputs for a function - separated by commas - and specify default values for whichever inputs you like. \n",
    "\n",
    "When we call **print_new(\"Something to print.\")** the string **\"Something to print.\"** gets printed; when we call **print_new()** the default value for the input is used since we don't provide one; when you run **print_new**, Python just tells us that **print_new** is a function but it does not actually run it. \n",
    "The **()** are essential to run a function, even if no inputs are provided.\n",
    "\n",
    "Often, we also want our functions to return some output. \n",
    "(Note that the fucntion **print_new** does not have a output and instead just calls another function.) \n",
    "We can specify an output for a function using **return**.\n",
    "\n",
    "👉🏻 Try to predict what the code in the following cell does and then run it:"
   ]
  },
  {
   "cell_type": "code",
   "execution_count": null,
   "metadata": {},
   "outputs": [],
   "source": [
    "def the_date(day = 1, month = \"January\", year = 2021):\n",
    "    return \"Today is \" + month + \" \" + str(day) + \", \" + str(year) + \".\"\n",
    "\n",
    "print(the_date())\n",
    "print(the_date(4, \"February\"))\n",
    "print(the_date(year = 2025, day = \"13\", month = \"February\"))"
   ]
  },
  {
   "cell_type": "markdown",
   "metadata": {},
   "source": [
    "Note that the call of the function produces a string which we then print."
   ]
  },
  {
   "cell_type": "markdown",
   "metadata": {},
   "source": [
    "### 📝 Solve the following exercises in the cell below:\n",
    "\n",
    "**(13)** \n",
    "Write a function called **sum_pow** that takes in integers $n$ and $p$ and returns ${\\sum}_{i=1}^n i^p$, the sum of the $p$-powers of the first $n$ integers;\n",
    "make sure that if the function uses the default value $1$ for both $n$ and $p$.\n",
    "Use the function to compute ${\\sum}_{i=12}^{28}i^2$.\n",
    "\n",
    "**(14)**\n",
    "Create your own sort function **my_sort** which takes a list of integers and returns the list sorted in increasing order.\n",
    "Apply your function to the list **A = [5, 3, 2, 6, 7, 1, 4, 1, 9]** and check if the result is correct."
   ]
  },
  {
   "cell_type": "code",
   "execution_count": null,
   "metadata": {},
   "outputs": [],
   "source": []
  },
  {
   "cell_type": "markdown",
   "metadata": {},
   "source": [
    "## Data analysis\n",
    "\n",
    "With all of the generic Python basics out of the way, we can finally focus on the using Python to do some statistics."
   ]
  },
  {
   "cell_type": "markdown",
   "metadata": {},
   "source": [
    "### Loading data\n",
    "While NumPy makes data manipulation easier and more efficient, when it come to data analysis there are more specialised packages built on top of NumPy that you can use. \n",
    "A popular one is **Pandas**.\n",
    "\n",
    "\n",
    "👉🏻 Run the code in the following cell to load the pandas library:"
   ]
  },
  {
   "cell_type": "code",
   "execution_count": null,
   "metadata": {},
   "outputs": [],
   "source": [
    "# !pip install pandas # Only needs to be run once to install the Pandas library\n",
    "import pandas as pd"
   ]
  },
  {
   "cell_type": "markdown",
   "metadata": {},
   "source": [
    "Pandas has functions that allow you to read several different file formats. \n",
    "Here we focus on CSV files which are plain text files with different rows of data, each row corresponding to a vector with entries separated by commas. \n",
    "(Pandas has other functions to load other file types.)\n",
    "\n",
    "We will use a file about the World Happiness Report 2021 to exemplify some common data manipulation tasks you can perform with Pandas. \n",
    "In the cell below we load the CSV file containing the data.\n",
    "\n",
    "Although this is not necessary, we immediately use the **.drop(...)** function to drop a few columns of the data to somewhat simplify the dataset.\n",
    "The commands **happy.columns** or **happy.columns.values** show us the names of the columns that we kept but note that while **happy.columns** returns a collection of indices, **happy.columns.values** returns a list of strings.\n",
    "\n",
    "New columns can be created using **happy[\"New column name\"] = ...** and a whole new empty dataframe can be created with **new_dataframe = pd.DataFrame(columns = [\"Column 1 name\", \"Column 2 name\", ...])**.\n",
    "For instance, **happy_new = pd.DataFrame(columns = happy.columns)** would create a new, empty dataframe with the same columns as **happy**.\n",
    "\n",
    "Different dataframes (with the same columns) can be concatenated using a command like **pd.concat(dataframe1,dataframe1)**.\n",
    "\n",
    "After loading we use the **.head(...)** funtion to look at the first 5 rows of the dataset. \n",
    "(The function **.tail(...)** would show us the bottom rows.)\n",
    "\n",
    "👉🏻 Run the code in the following cell:"
   ]
  },
  {
   "cell_type": "code",
   "execution_count": null,
   "metadata": {},
   "outputs": [],
   "source": [
    "# data source: https://www.kaggle.com/ajaypalsinghlo/world-happiness-report-2021\n",
    "# (It is always a good idea to mention the data source)\n",
    "happy = pd.read_csv(\"whr2021.csv\")\n",
    "happy = happy.drop(columns = happy.columns.values[3:6])\n",
    "happy = happy.drop(columns = happy.columns.values[10:])\n",
    "\n",
    "print(happy.columns), print()\n",
    "\n",
    "print(happy.columns.values)\n",
    "\n",
    "happy.head(5)"
   ]
  },
  {
   "cell_type": "markdown",
   "metadata": {},
   "source": [
    "You may notice that the data is presented in a slightly more appealing way than a usual NumPy array. \n",
    "Specifically, the rows are numbered (leftmost column) and the column are named (top row). \n",
    "You can also see that each column can have a different data type. \n",
    "Internally, the variable **happy** is a so called **DataFrame**."
   ]
  },
  {
   "cell_type": "markdown",
   "metadata": {},
   "source": [
    "### Indexing dataframes\n",
    "\n",
    "Dataframes differ from arrays is a few ways like, for instance, when it comes to indexing. \n",
    "If you try to index **happy** directly, then you can only refer to the columns. \n",
    "The following cell constains two commands (one commented out) that do the same and illustate how you can refer to the columns either by name or by index.\n",
    "\n",
    "Note that when working with dataframes it is often a good idea to refer to the columns by their *name* (e.g., **\"Country name\"**) rather than by their *index* (e.g., resp. **0**). \n",
    "One reason for this is that it makes the code more readable. \n",
    "Another reason is that we may sometimes remove or reorder the columns so that the index of a specific column may be different at different points in the code.\n",
    "\n",
    "Do note that **happy[[\"Country name\"]]** is the same as **happy[\"Country name\"]**, and that indexing is case-sensitive so that **happy[\"country name\"]** will give you an error.\n",
    "\n",
    "👉🏻 Run the code in the following cell:"
   ]
  },
  {
   "cell_type": "code",
   "execution_count": null,
   "metadata": {},
   "outputs": [],
   "source": [
    "happy[[\"Country name\", \"Regional indicator\"]]\n",
    "# happy[0:2] # does the same as the command above\n",
    "# happy[0:2,0:5] # this would produce and error"
   ]
  },
  {
   "cell_type": "markdown",
   "metadata": {},
   "source": [
    "Since our dataframe is rather tall, we are only show the first- and last five rows.\n",
    "\n",
    "If you want to index a dataframe in the same way you would an array, then you should use **.iloc[...]**.\n",
    "Running the command below gives you a sub-dataframe containing the first 5 rows and first 3 columns.\n",
    "\n",
    "👉🏻 Run the code in the following cell:"
   ]
  },
  {
   "cell_type": "code",
   "execution_count": null,
   "metadata": {},
   "outputs": [],
   "source": [
    "happy.iloc[0:5,0:3]\n",
    "# again, something like happy[0:5,0:3] would produce and error"
   ]
  },
  {
   "cell_type": "markdown",
   "metadata": {},
   "source": [
    "So the takeaway is that if you use the **.iloc** property of a dataframe you can index it as you would an array but it might make make sense to use the basic column indexing of dataframes.\n",
    "\n",
    "There is an alternative command **.loc[...]** that allows you to use conditions.\n",
    "\n",
    "👉🏻 Run the code in the following cell:"
   ]
  },
  {
   "cell_type": "code",
   "execution_count": null,
   "metadata": {},
   "outputs": [],
   "source": [
    "happy.loc[happy[\"Regional indicator\"] == \"North America and ANZ\"]"
   ]
  },
  {
   "cell_type": "markdown",
   "metadata": {},
   "source": [
    "The command above only keeps the rows of the table corresponding to the region \"North America and ANZ\"."
   ]
  },
  {
   "cell_type": "markdown",
   "metadata": {},
   "source": [
    "### Sorting\n",
    "\n",
    "Another useful thing to know how to do is sorting.\n",
    "Looking at **happy.head(5)** as we did above it might seem like the rows are sorted in descending order by \"Ladder index\" but maybe we want to look at what the dataframe would look like when sorted by another column(s), or maybe sorted in ascending (rather than descending) order.\n",
    "To sort a dataframe, we can use the **.sort_values(...)** function.\n",
    "(Note that this only outputs the sorted dataframe but does not alter the original dataframe.)\n",
    "\n",
    "👉🏻 Run the code in the following cell:"
   ]
  },
  {
   "cell_type": "code",
   "execution_count": null,
   "metadata": {},
   "outputs": [],
   "source": [
    "happy.sort_values(\"Healthy life expectancy\").head()"
   ]
  },
  {
   "cell_type": "markdown",
   "metadata": {},
   "source": [
    "(We also used the **.head()** function to only show the first few rows of the dataframe.)\n",
    "As you can see, by default **.sort_values(...)** sorted in ascending order the \"Healthy life expectancy\" column that we specified as an argument.\n",
    "We can use the extra option **ascending = False** to sort in ascending order instead.\n",
    "\n",
    "👉🏻 Run the code in the following cell:"
   ]
  },
  {
   "cell_type": "code",
   "execution_count": null,
   "metadata": {},
   "outputs": [],
   "source": [
    "happy.sort_values(\"Healthy life expectancy\", ascending = False).head()"
   ]
  },
  {
   "cell_type": "markdown",
   "metadata": {},
   "source": [
    "We get to see what the dataframe with rows sorted in ascending order in terms of \"Healthy life expectancy\" looks like.\n",
    "\n",
    "In certain cases, we may want to sort using two or more criteria.\n",
    "The command below shows what the list looks like if we sort first by \"Regional indicator\", and then by \"Ladder score\" with the former being sorted in ascending order and the latter in descending order.\n",
    "\n",
    "👉🏻 Run the code in the following cell:"
   ]
  },
  {
   "cell_type": "code",
   "execution_count": null,
   "metadata": {},
   "outputs": [],
   "source": [
    "happy.sort_values([\"Regional indicator\",\"Ladder score\"], ascending = [1,0]) \n",
    "# [True, False] would give same as [0,1]; ascending = False would sort *all* in descending order"
   ]
  },
  {
   "cell_type": "markdown",
   "metadata": {},
   "source": [
    "The result is as expected.\n",
    "\n",
    "Say that we prefer this sorting for the list and we would like to keep it.\n",
    "To do this we can just assign the output above to **happy** but note that the row indices still refer to the original sorting.\n",
    "After assigning the sorted list to **happy** we can use the command **.reset_index(drop=True)** to do this.\n",
    "The optional argument **drop=True** tells the function not to save the old row indices as a new column which it does by default.\n",
    "\n",
    "👉🏻 Run the code in the following cell:"
   ]
  },
  {
   "cell_type": "code",
   "execution_count": null,
   "metadata": {},
   "outputs": [],
   "source": [
    "happy = happy.sort_values([\"Regional indicator\",\"Ladder score\"], ascending = [1,0])\n",
    "happy = happy.reset_index(drop=True)\n",
    "# we could have combined both commands with happy = happy.sort_values(...).reset_index(drop=True)\n",
    "\n",
    "happy"
   ]
  },
  {
   "cell_type": "markdown",
   "metadata": {},
   "source": [
    "### Saving dataframes\n",
    "\n",
    "We may now want to save this new dataframe to a CSV file.\n",
    "We can do this using the **to_csv** function.\n",
    "(There exist other functions to save to other formats.)\n",
    "\n",
    "The optional argument **index = False** tells the function not to save the column with the row indices.\n",
    "\n",
    "👉🏻 Run the code in the following cell:"
   ]
  },
  {
   "cell_type": "code",
   "execution_count": null,
   "metadata": {},
   "outputs": [],
   "source": [
    "happy.to_csv(\"happy_sorted.csv\", index = False)"
   ]
  },
  {
   "cell_type": "markdown",
   "metadata": {},
   "source": [
    "### Data summaries and statistics\n",
    "\n",
    "A quick way to have a feeling for the data is to use the **.describe()** command.\n",
    "This command returns several statistics (counts, mean, standard deviation, quartiles, range) for the different *numerical* columns of the dataframe.\n",
    "\n",
    "👉🏻 Run the code in the following cell:"
   ]
  },
  {
   "cell_type": "code",
   "execution_count": null,
   "metadata": {},
   "outputs": [],
   "source": [
    "happy.describe()"
   ]
  },
  {
   "cell_type": "markdown",
   "metadata": {},
   "source": [
    "The **count** row may seem somewhat redundant but if there were missing values in some of the columns, then those would not be counted; in the case of our dataset, there are no missing values so all columns have the same count value.\n",
    "(In NumPy, and by extension Pandas, **np.nan** represents a missing value.)\n",
    "\n",
    "You can, of course, get these statistics (and others) by computing them from the columns (or the entire dataframe) directly.\n",
    "\n",
    "👉🏻 Run the code in the following cell:"
   ]
  },
  {
   "cell_type": "code",
   "execution_count": null,
   "metadata": {},
   "outputs": [],
   "source": [
    "print(happy[\"Ladder score\"].mean()), print()\n",
    "\n",
    "happy.mean()"
   ]
  },
  {
   "cell_type": "markdown",
   "metadata": {},
   "source": [
    "Pandas also offers a practical way of computing statistics over different groups of data using the **.groupby(...)** function.\n",
    "For instance, the command in the cell below splits the data into different groups based on the value of **Regional indicator** and, for each group, computes the mean of all of the other numerical collumns.\n",
    "\n",
    "👉🏻 Run the code in the following cell:"
   ]
  },
  {
   "cell_type": "code",
   "execution_count": null,
   "metadata": {},
   "outputs": [],
   "source": [
    "happy.groupby([\"Regional indicator\"]).mean()"
   ]
  },
  {
   "cell_type": "markdown",
   "metadata": {},
   "source": [
    "We can also group by more than one criteria at a time.\n",
    "For instance, in the cell below we use two criteria to construct groups, namely: **\"Regional indicator\"**, and if the generosity score (**happy[\"Generosity\"]**) is non-negative or not.\n",
    "For each group - every possible combination of **Regional indicator** and **{True, False}** - we get the mean of each numerical column for the respective group.\n",
    "\n",
    "👉🏻 Run the code in the following cell:"
   ]
  },
  {
   "cell_type": "code",
   "execution_count": null,
   "metadata": {},
   "outputs": [],
   "source": [
    "happy.groupby([\"Regional indicator\", happy[\"Generosity\"] >= 0]).mean()"
   ]
  },
  {
   "cell_type": "markdown",
   "metadata": {},
   "source": [
    "The code in the cell below focuses only on the column **\"Generosity\"** and counts the number of elements in each group.\n",
    "If we think of **happy[\"Generosity\"] >= 0** indicating a country is \"generous\", then the table below lists for each regional indicator the number of countries that are \"generous\" (**True**) and the number of countries that are not \"generous\" (**False**).\n",
    "\n",
    "👉🏻 Run the code in the following cell:"
   ]
  },
  {
   "cell_type": "code",
   "execution_count": null,
   "metadata": {},
   "outputs": [],
   "source": [
    "happy.groupby([\"Regional indicator\", happy[\"Generosity\"] >= 0])[\"Generosity\"].count()"
   ]
  },
  {
   "cell_type": "markdown",
   "metadata": {},
   "source": [
    "### 📝 Solve the following exercises in the cell below:\n",
    "\n",
    "**(15)**\n",
    "Load the dataset **happy_sorted.csv** into a new variable called **happy_new**.\n",
    "For this, compute the following:\n",
    "1. print out the list of countries in **Southeast Asia** whose **Healthy life expectancy** is at least 68;\n",
    "2. what is the mean logged GDP for those counties?\n",
    "3. group the ladder score for the group of countries with **Perceptions of corruption** above and below 0.55, and then print put the ratio between the maximum- and the minimum **Perceptions of corruption** for each of the groups."
   ]
  },
  {
   "cell_type": "code",
   "execution_count": null,
   "metadata": {},
   "outputs": [],
   "source": []
  },
  {
   "cell_type": "markdown",
   "metadata": {},
   "source": [
    "## Plotting\n",
    "\n",
    "Numerical summaries give us a lot of insight into data but plots also help in this regard.\n",
    "There are several libraries that enable you to make plots in Python.\n",
    "\n",
    "Some of these are very low level in that they give you a lot of freedom to customise your plots but often imply you having to write a lot of code even to get a simple plot.\n",
    "Others, allow you to create plots with very little code but may be a bit lacking in terms of customisation.\n",
    "Here we go over **Matplotlib** which offers a good balance between these two extremes.\n",
    "\n",
    "👉🏻 Run the code in the following cell to load the Matplotlib library:"
   ]
  },
  {
   "cell_type": "code",
   "execution_count": null,
   "metadata": {},
   "outputs": [],
   "source": [
    "# !pip install matplotlib # Only needs to be run once to install the Matplotlib library\n",
    "import matplotlib.pyplot as plt"
   ]
  },
  {
   "cell_type": "markdown",
   "metadata": {},
   "source": [
    "### Histograms\n",
    "\n",
    "Histograms are useful to see the distribution of a sample and can be plotted with **plt.hist(...)**. \n",
    "All you need is to give the function the values that you want the histogram for.\n",
    "In addition you should round things off with **plt.show()** which will omit some unnecessary outputs.\n",
    "\n",
    "👉🏻 Run the code in the following cell:"
   ]
  },
  {
   "cell_type": "code",
   "execution_count": null,
   "metadata": {},
   "outputs": [],
   "source": [
    "plt.hist(happy[\"Ladder score\"])\n",
    "plt.show()"
   ]
  },
  {
   "cell_type": "markdown",
   "metadata": {},
   "source": [
    "That looks about right but it also looks very bare.\n",
    "You can change pretty much every aspect of the plot whith the right commands so in the next cell you can find some commands that allow you to change a few typical plot parameters.\n",
    "Note that most of these commands apply to other types of plots as well (i.e., not just to histograms).\n",
    "\n",
    "👉🏻 Run the code in the following cell:"
   ]
  },
  {
   "cell_type": "code",
   "execution_count": null,
   "metadata": {},
   "outputs": [],
   "source": [
    "plt.figure(figsize=(12,4))\n",
    "\n",
    "plt.title(\"Histogram of the Cantril Ladder Score 2021\", fontsize=18, fontweight=\"bold\")\n",
    "\n",
    "ticks = np.linspace(2,8,7)\n",
    "plt.xticks(ticks)\n",
    "\n",
    "bins = np.linspace(2,8,13)\n",
    "plt.hist(happy[\"Ladder score\"], bins = bins, color = \"#FF0000\")\n",
    "\n",
    "plt.xlabel(\"Ladder score\")\n",
    "plt.ylabel(\"Frequency\")\n",
    "\n",
    "plt.show()"
   ]
  },
  {
   "cell_type": "markdown",
   "metadata": {},
   "source": [
    "Lets unpack all of the commands that we used:\n",
    "\n",
    "- **plt.figure(figsize=...)** allows us the change the size of the plot;\n",
    "\n",
    "- **plt.title(...)** allows us to set the title of the plot;\n",
    "\n",
    "- **plt.xticks(...)** allows us to set the ticks that feature in the x-axis;\n",
    "\n",
    "- the option **bins = ...** in **plt.hist(...)** lets us select the start/end points of the bins (note that these do not necessarily need to be evenly spaced);\n",
    "\n",
    "- **plt.xlabel(...)** and **plt.ylabel(...)** let us set the labels for the x- and y-axis.\n",
    "\n",
    "As exemplified above, commands that add/change text can usually take in extra arguments to set font type, size, colour, etc.\n",
    "Colours in particular can be supplied in a large number of different formats; e.g., **\"#FF0000\"** is the same as **\"red\"** is the same as **\"r\"**.\n",
    "\n",
    "The plotting function itself can also take extra arguments.\n",
    "It is often a good idea to check the documentation (e.g., **?plt.hist**) to see exactly what can be changed."
   ]
  },
  {
   "cell_type": "markdown",
   "metadata": {},
   "source": [
    "### Box and whiskers plots\n",
    "\n",
    "These are useful to summarise the range and quartiles of a sample, and to compare different samples.\n",
    "They can be plotted next to one another by giving the function **plt.boxplot(...)** a list of lists or a list of arrays each containing a sample.\n",
    "\n",
    "👉🏻 Run the code in the following cell:"
   ]
  },
  {
   "cell_type": "code",
   "execution_count": null,
   "metadata": {},
   "outputs": [],
   "source": [
    "life_west = happy.loc[happy[\"Regional indicator\"] == \"Western Europe\"][\"Healthy life expectancy\"].to_list()\n",
    "life_east = happy.loc[happy[\"Regional indicator\"] == \"Central and Eastern Europe\"][\"Healthy life expectancy\"].to_list()\n",
    "\n",
    "plt.figure(figsize=(8,4))\n",
    "plt.title(\"Healthy life expectancy comparison\", fontsize=18, fontweight=\"bold\")\n",
    "plt.xlabel(\"Region\", fontweight=\"bold\")\n",
    "plt.ylabel(\"Age\", fontweight=\"bold\")\n",
    "plt.boxplot([life_west, life_east])\n",
    "plt.xticks([1,2], [\"Western Europe\",\"Central and Eastern Europe\"])\n",
    "plt.show()"
   ]
  },
  {
   "cell_type": "markdown",
   "metadata": {},
   "source": [
    "Above we use the **.loc** property of the dataframe **happy** to find all entries relating to two specific regions, and for those we extracted the values corresponding to **Healthy life expectancy**.\n",
    "(We use **.to_list()** at the end since technically we are getting a dataframe and we want to get rid of the unnecessary column containing the row indices.)\n",
    "We then compared there two sample by plotting the two box and whiskers plots side-by-side.\n",
    "\n",
    "You can imagine that it would be tedious doing a similar plot for all regions by hand.\n",
    "If you compare the two first likes of code, though, you can see they are nearly identical.\n",
    "This suggests we can automatise this by using a for loop.\n",
    "\n",
    "The following example will show you a simple trick that is useful to achieve what we want: to create a list where each entry of the list corresponds to a unique region and is a vector containing all the **Healthy life expectancy**s for that region.\n",
    "\n",
    "👉🏻 Run the code in the following cell:"
   ]
  },
  {
   "cell_type": "code",
   "execution_count": null,
   "metadata": {},
   "outputs": [],
   "source": [
    "[[x,x**2] for x in range(1,6)]"
   ]
  },
  {
   "cell_type": "markdown",
   "metadata": {},
   "source": [
    "The code above creates a list of lists.\n",
    "Each list contains a number **x** and its square, **x\\*\\*2**, where x is every element the collection **range(1,6)**.\n",
    "The result is a list of five lists, each of the five containing an integer and its square.\n",
    "\n",
    "We now use the same trick to look up in the dataframe the list of all **Healthy life expectancy**s for each of the unique regions.\n",
    "\n",
    "\n",
    "👉🏻 Run the code in the following cell:"
   ]
  },
  {
   "cell_type": "code",
   "execution_count": null,
   "metadata": {},
   "outputs": [],
   "source": [
    "## abbreviations\n",
    "RI = \"Regional indicator\"\n",
    "HLE = \"Healthy life expectancy\"\n",
    "\n",
    "regions = happy[RI].unique()\n",
    "samples = [happy.loc[happy[RI] == region][HLE].to_list() for region in regions]\n",
    "\n",
    "plt.figure(figsize=(12,4))\n",
    "plt.title(\"Healthy life expectancy comparison\", fontsize=18, fontweight=\"bold\")\n",
    "plt.xlabel(\"Region\", fontweight=\"bold\")\n",
    "plt.ylabel(\"Age\", fontweight=\"bold\")\n",
    "plt.boxplot(samples)\n",
    "plt.xticks(range(1,len(regions)+1), regions, rotation=90)\n",
    "plt.show()"
   ]
  },
  {
   "cell_type": "markdown",
   "metadata": {},
   "source": [
    "Note that the code is nearly identical to before with some punctual adjustments.\n",
    "\n",
    "The first line of code in the cell above extracts all unique regions names.\n",
    "The second line indeed looks complicated but is of the form **[function_of_object for object in collection]** that we saw in the example just above.\n",
    "\n",
    "The only other new thing is that we use the option **rotation=90** in **plt.xticks(...)** to avoid the region labels overlapping."
   ]
  },
  {
   "cell_type": "markdown",
   "metadata": {},
   "source": [
    "### Scatterplots and line graphs\n",
    "\n",
    "To creare scatterplots and line graphs you use the function **plt.plot(...)**. In the following cell pay attention only to the line involving **plt.plot(...)** and the one preceeding it where we sort the data; the rest of the code just customises the plot.\n",
    "\n",
    "👉🏻 Run the code in the following cell:"
   ]
  },
  {
   "cell_type": "code",
   "execution_count": null,
   "metadata": {},
   "outputs": [],
   "source": [
    "plt.figure(figsize=(12,4))\n",
    "plt.title(\"Logged GDP per capita vs Ladder score\", fontsize=18, fontweight=\"bold\")\n",
    "plt.xlabel(\"Logged GDP per capita\", fontweight=\"bold\")\n",
    "plt.ylabel(\"Ladder score\", fontweight=\"bold\")\n",
    "\n",
    "##abbreviations\n",
    "LGDPPC = \"Logged GDP per capita\"\n",
    "LS = \"Ladder score\"\n",
    "\n",
    "sorted_happy = happy.sort_values(LGDPPC, ascending = True)[[LS,LGDPPC]]\n",
    "plt.plot(sorted_happy[LGDPPC], sorted_happy[LS], \".\")\n",
    "\n",
    "plt.show()"
   ]
  },
  {
   "cell_type": "markdown",
   "metadata": {},
   "source": [
    "The argument **\".\"** in **plt.plot(x,y,\".\")** tells Python to plot **x** vs **y** as a scatterplot.\n",
    "The picture tells us that we should expect the log-GDP to positively correlate with the ladder score.\n",
    "\n",
    "To create a line plot we just need to ommit the **\".\"** argument.\n",
    "Several lines can be added to the plot by calling the **plt.plot(...)** several times.\n",
    "We can use **plt.legend(...)** (after plotting) to add a legend to the plot.\n",
    "\n",
    "👉🏻 Run the code in the following cell:"
   ]
  },
  {
   "cell_type": "code",
   "execution_count": null,
   "metadata": {},
   "outputs": [],
   "source": [
    "poc = \"Perceptions of corruption\"\n",
    "x1 = happy.loc[happy[poc]>happy[poc].mean()][\"Freedom to make life choices\"].sort_values().tolist()\n",
    "y1 = np.linspace(0,100,len(x1)+2)\n",
    "x2 = happy.loc[happy[poc]<=happy[poc].mean()][\"Freedom to make life choices\"].sort_values().tolist()\n",
    "y2 = np.linspace(0,100,len(x2)+2)\n",
    "\n",
    "plt.figure(figsize=(12,4))\n",
    "plt.title(\"Distribution of Freedom to make life choices\", fontsize=18, fontweight=\"bold\")\n",
    "plt.xlabel(\"Freedom to make life choices\", fontweight=\"bold\")\n",
    "plt.ylabel(\"Percentage of countries\", fontweight=\"bold\")\n",
    "\n",
    "plt.plot([0]+x1+[1],y1, \"r\")\n",
    "plt.plot([0]+x2+[1],y2, \"b\")\n",
    "\n",
    "lab1 = \"Countries with above average perceptions of corruption\"\n",
    "lab2 = \"Countries with below average perceptions of corruption\"\n",
    "plt.legend([lab1, lab2], loc=\"upper left\")\n",
    "\n",
    "# plt.savefig(\"figure.pdf\", dpi = 300)\n",
    "plt.show()"
   ]
  },
  {
   "cell_type": "markdown",
   "metadata": {},
   "source": [
    "The plot seems to suggest that the distribution of the perceived freedom to make life choices is different in countries with above- and below average perception of corruction."
   ]
  },
  {
   "cell_type": "markdown",
   "metadata": {},
   "source": [
    "### Saving plots\n",
    "Plots can be saved using the command **plt.savefig(...)** which you should use right before the **plt.show()** as exemplified (in a commented way above).\n",
    "For instance you can do **plt.savefig(\"figure.pdf\")** to save as a PDF, or **plt.savefig(\"figure.png\")**, and you can also add extra options to change the quality of the output such as **plt.savefig(..., dpi = 300)**."
   ]
  },
  {
   "cell_type": "markdown",
   "metadata": {},
   "source": [
    "### 📝 Solve the following exercises in the cell below:\n",
    "\n",
    "**(16)**\n",
    "The goal of this exercise is to do a bar plot by hand.\n",
    "Carry out the following steps:\n",
    "1. use a similar trick to what we did with boxplots to make a list containign the number of coutries per region with \"Generosity\" above 0.1 and at most 0.1;\n",
    "\n",
    "2. use ?plt.bar to read how to create simple bar plots;\n",
    "\n",
    "3. for each region plot two bars, one for each of the two counts making sure that:\n",
    "\n",
    "    a) the bars of the i-th region (index i-1) are centered around i;\n",
    "    \n",
    "    b) no bars overlap;\n",
    "    \n",
    "    c) there is no space between the two bars in each pair;\n",
    "    \n",
    "    d) there is a gap between pairs of bars;\n",
    "    \n",
    "    e) the left bar in each pair is red and the right one is blue;\n",
    "    \n",
    "4. add a title and labels to the x- and y-axes;\n",
    "\n",
    "5. change the x ticks to display the region corresponding to each pair of bars;\n",
    "\n",
    "6. adjust the figure size to **(12,4)**;\n",
    "\n",
    "7. add a legend to the **\"upper left\"** corner of the plot.\n",
    "\n",
    "\n",
    "\n"
   ]
  },
  {
   "cell_type": "code",
   "execution_count": null,
   "metadata": {},
   "outputs": [],
   "source": []
  },
  {
   "cell_type": "markdown",
   "metadata": {},
   "source": [
    "# End"
   ]
  },
  {
   "cell_type": "markdown",
   "metadata": {},
   "source": [
    "# Solutions to exercises"
   ]
  },
  {
   "cell_type": "code",
   "execution_count": null,
   "metadata": {},
   "outputs": [],
   "source": [
    "# (1)\n",
    "s = 10\n",
    "e1 = s**3 # or pow(10,3)\n",
    "\n",
    "# (2)\n",
    "c = 5\n",
    "r = 0.5\n",
    "m = 6\n",
    "e2 = c*(1+r/100)**m\n",
    "\n",
    "# (3)\n",
    "n = 10\n",
    "e3 = c*(1+r/100)**(n*12) - c\n",
    "\n",
    "# print solutions\n",
    "print(e1, e2, e3)"
   ]
  },
  {
   "cell_type": "code",
   "execution_count": null,
   "metadata": {},
   "outputs": [],
   "source": [
    "# (4)\n",
    "trolly = []\n",
    "trolly.append(\"A\")\n",
    "trolly.extend([\"B\",\"B\"])\n",
    "trolly.append(\"C\")\n",
    "trolly.extend([\"D1\",\"D2\",\"D3\"])\n",
    "trolly = trolly[1:]\n",
    "trolly.insert(0,\"E\")\n",
    "trolly.extend([\"H\",\"G\",\"F\"])\n",
    "trolly.remove(\"C\")\n",
    "trolly.reverse()\n",
    "\n",
    "print(trolly) # this the the order on the shelf\n",
    "\n",
    "\n",
    "# (5)\n",
    "A = {\"a\", \"b\", \"d\", \"f\"}\n",
    "B = {\"b\", \"d\", \"g\"}\n",
    "e1 = A.intersection(B)\n",
    "e2 = A.union(B)\n",
    "e3 = B.difference(A)\n",
    "e4 = A.difference(B).union(e3)\n",
    "e5 = [\"a\" in e1, \"a\" in e2, \"a\" in e3, \"a\" in e4]\n",
    "\n",
    "print(e1,e2,e3,e4,e5)"
   ]
  },
  {
   "cell_type": "code",
   "execution_count": null,
   "metadata": {},
   "outputs": [],
   "source": [
    "# (6)\n",
    "x = 3\n",
    "if x%2: #remember: 1 is interpreted as True, 0 as False; having \"if x%2==1:\" is equivalent\n",
    "    print(\"x is odd\")\n",
    "else:\n",
    "    print(\"x is even\")\n",
    "    \n",
    "# (7)\n",
    "y = \"bob\"\n",
    "if y[::-1] == y:\n",
    "    print(\"'\" + y + \"' is a palindrome\")\n",
    "else:\n",
    "    print(\"'\" + y + \"' is not a palindrome\")\n",
    "\n",
    "# (8)\n",
    "w = \"cat\"\n",
    "if y[-1] == \"a\":\n",
    "    print(\"'\" + w + \"' ends with an 'a'\")\n",
    "elif y[-1] == \"o\":\n",
    "    print(\"'\" + w + \"' ends with an 'o'\")\n",
    "else:\n",
    "    print(\"'\" + w + \"' does not end with an 'a' or an 'o'\")\n"
   ]
  },
  {
   "cell_type": "code",
   "execution_count": null,
   "metadata": {},
   "outputs": [],
   "source": [
    "# (9)\n",
    "e1 = np.full((3,3,3), np.nan)\n",
    "template = np.array(range(1,10)).reshape(3,3).T\n",
    "e1[0,:,:] = template\n",
    "e1[1,:,:] = 2*template\n",
    "e1[2,:,:] = 3*template\n",
    "print(e1), print()\n",
    "\n",
    "# (10)\n",
    "e2 = [e1.sum(axis=(1,2)).tolist(), e1[:,1,:].min(axis = 1).tolist(), e1[:,:,-1].max(axis = 1).tolist()]\n",
    "print(e2)"
   ]
  },
  {
   "cell_type": "code",
   "execution_count": null,
   "metadata": {},
   "outputs": [],
   "source": [
    "# (11)\n",
    "A = np.array([11, 2, 4, 6, 3, 1, 9, 3, 31, 8, 7, 10, 14, 9])\n",
    "e1 = []\n",
    "keep = False\n",
    "for i in range(0,len(A)):\n",
    "    if A[i]%2==0:\n",
    "        if keep:\n",
    "            e1.append(A[i])\n",
    "            keep = False\n",
    "        else:\n",
    "            keep = True\n",
    "print(e1)\n",
    "\n",
    "# (12)\n",
    "e2 = A[A%2==0][1::2]\n",
    "print(e2)"
   ]
  },
  {
   "cell_type": "code",
   "execution_count": null,
   "metadata": {},
   "outputs": [],
   "source": [
    "# (13)\n",
    "def sum_pow(n=1, p=1):\n",
    "    return sum(np.array(range(1,n+1))**p)\n",
    "print(sum_pow(28,2)-sum_pow(11,2))\n",
    "\n",
    "# (14)\n",
    "def my_sort(my_list):\n",
    "    i = 0; j = 1\n",
    "    sorted_list = my_list.copy()\n",
    "    while max(i,j)<len(sorted_list):\n",
    "        if sorted_list[i]>sorted_list[j]:\n",
    "            temp = sorted_list[i]\n",
    "            sorted_list[i]=sorted_list[j]\n",
    "            sorted_list[j] = temp\n",
    "        j+=1\n",
    "        if j>len(sorted_list)-1:\n",
    "            i+=1\n",
    "            j=i+1\n",
    "    return(sorted_list)\n",
    "    \n",
    "A = [5, 3, 2, 6, 7, 1, 4, 1, 9, 2]\n",
    "print(my_sort(A))"
   ]
  },
  {
   "cell_type": "code",
   "execution_count": null,
   "metadata": {},
   "outputs": [],
   "source": [
    "# (15)\n",
    "happy_new = pd.read_csv(\"happy_sorted.csv\")\n",
    "## some abbreviations\n",
    "RI = \"Regional indicator\"\n",
    "HLE = \"Healthy life expectancy\"\n",
    "LGDPPC = \"Logged GDP per capita\"\n",
    "CN = \"Country name\"\n",
    "POC = \"Perceptions of corruption\"\n",
    "LS = \"Ladder score\"\n",
    "\n",
    "print(happy_new.loc[(happy_new[RI]==\"Southeast Asia\")&(happy_new[HLE]>=68)][CN].tolist()), print()\n",
    "print(happy_new.loc[(happy_new[RI]==\"Southeast Asia\")&(happy_new[HLE]>=68)][LGDPPC].mean()), print()\n",
    "temp = happy_new.groupby(happy_new[POC]>0.55)[LS]\n",
    "print(temp.max()/temp.min())"
   ]
  },
  {
   "cell_type": "code",
   "execution_count": null,
   "metadata": {},
   "outputs": [],
   "source": [
    "## abbreviations\n",
    "RI = \"Regional indicator\"\n",
    "HLE = \"Healthy life expectancy\"\n",
    "G = \"Generosity\"\n",
    "CN = \"Country name\"\n",
    "\n",
    "regions = happy[RI].unique()\n",
    "samples = [happy.loc[happy[RI] == region].groupby(happy[G]>0.1)[CN].count().tolist() for region in regions]\n",
    "\n",
    "# ?plt.bar\n",
    "\n",
    "plt.figure(figsize=(12,4))\n",
    "plt.title(\"Distribution of 'Generosity' above- vs below 0.1 per region\", fontsize=18, fontweight=\"bold\")\n",
    "plt.xlabel(\"Regions\", fontweight=\"bold\")\n",
    "plt.ylabel(\"Counts\", fontweight=\"bold\")\n",
    "\n",
    "wt = 0.33\n",
    "for i_reg in range(0,len(samples)):\n",
    "    plt.bar(i_reg+1-wt/2, samples[i_reg][0], width = wt, color = \"r\")\n",
    "    plt.bar(i_reg+1+wt/2, samples[i_reg][1], width = wt, color = \"b\")\n",
    "plt.xticks(range(1,1+len(regions)), regions, rotation=90)\n",
    "plt.legend(loc = \"upper left\", labels = [\"'Generosity' > 0.1\", \"'Generosity' <=0.1\"])\n",
    "plt.show()"
   ]
  }
 ],
 "metadata": {
  "kernelspec": {
   "display_name": "Python 3",
   "language": "python",
   "name": "python3"
  },
  "language_info": {
   "codemirror_mode": {
    "name": "ipython",
    "version": 3
   },
   "file_extension": ".py",
   "mimetype": "text/x-python",
   "name": "python",
   "nbconvert_exporter": "python",
   "pygments_lexer": "ipython3",
   "version": "3.8.3"
  }
 },
 "nbformat": 4,
 "nbformat_minor": 5
}
